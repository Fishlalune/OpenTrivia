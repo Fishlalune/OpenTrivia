{
  "cells": [
    {
      "cell_type": "markdown",
      "metadata": {
        "id": "view-in-github",
        "colab_type": "text"
      },
      "source": [
        "<a href=\"https://colab.research.google.com/github/Fishlalune/OpenTrivia/blob/main/DataAnalysis.ipynb\" target=\"_parent\"><img src=\"https://colab.research.google.com/assets/colab-badge.svg\" alt=\"Open In Colab\"/></a>"
      ]
    },
    {
      "cell_type": "markdown",
      "metadata": {
        "id": "oYj5no-JIz-r"
      },
      "source": [
        "# Harringtonine CropArray Example"
      ]
    },
    {
      "cell_type": "markdown",
      "metadata": {
        "id": "Ly-qIVWHIz-t"
      },
      "source": [
        "---"
      ]
    },
    {
      "cell_type": "markdown",
      "metadata": {
        "id": "BOdxRMomIz-t"
      },
      "source": [
        "## Notebook summary \n",
        "\n",
        "\n",
        "- Load a microscope image of video\n",
        "- Tracking spots on the image and generate a pandas dataframe with the spots locations\n",
        "- Creating a croparray with the image and dataframe\n",
        "- Signal quantification and plotting\n",
        "- Visualization of croparray with Napari\n",
        "\n",
        "----"
      ]
    },
    {
      "cell_type": "code",
      "source": [
        "pip install trackpy"
      ],
      "metadata": {
        "id": "ETb1b2cARmUl"
      },
      "execution_count": null,
      "outputs": []
    },
    {
      "cell_type": "code",
      "source": [
        "pip install napari"
      ],
      "metadata": {
        "colab": {
          "base_uri": "https://localhost:8080/"
        },
        "id": "P_WWRBb6Sx3u",
        "outputId": "f67677d9-0d00-43e8-b38f-ab4320344caf"
      },
      "execution_count": null,
      "outputs": [
        {
          "output_type": "stream",
          "name": "stdout",
          "text": [
            "Collecting napari\n",
            "  Downloading napari-0.4.14-py3-none-any.whl (2.5 MB)\n",
            "\u001b[K     |████████████████████████████████| 2.5 MB 4.6 MB/s \n",
            "\u001b[?25hCollecting napari-plugin-engine>=0.1.9\n",
            "  Downloading napari_plugin_engine-0.2.0-py3-none-any.whl (33 kB)\n",
            "Collecting napari-svg>=0.1.4\n",
            "  Downloading napari_svg-0.1.6-py3-none-any.whl (12 kB)\n",
            "Collecting cachey>=0.2.1\n",
            "  Downloading cachey-0.2.1-py3-none-any.whl (6.4 kB)\n",
            "Collecting magicgui>=0.3.3\n",
            "  Downloading magicgui-0.4.0-py2.py3-none-any.whl (98 kB)\n",
            "\u001b[K     |████████████████████████████████| 98 kB 5.9 MB/s \n",
            "\u001b[?25hRequirement already satisfied: jsonschema>=3.2.0 in /usr/local/lib/python3.7/dist-packages (from napari) (4.3.3)\n",
            "Collecting pydantic>=1.8.1\n",
            "  Downloading pydantic-1.9.0-cp37-cp37m-manylinux_2_17_x86_64.manylinux2014_x86_64.whl (10.9 MB)\n",
            "\u001b[K     |████████████████████████████████| 10.9 MB 39.6 MB/s \n",
            "\u001b[?25hRequirement already satisfied: tifffile>=2020.2.16 in /usr/local/lib/python3.7/dist-packages (from napari) (2021.11.2)\n",
            "Collecting napari-console>=0.0.4\n",
            "  Downloading napari_console-0.0.4-py3-none-any.whl (7.8 kB)\n",
            "Requirement already satisfied: typing-extensions in /usr/local/lib/python3.7/dist-packages (from napari) (3.10.0.2)\n",
            "Collecting dask[array]!=2.28.0,>=2.15.0\n",
            "  Downloading dask-2022.2.0-py3-none-any.whl (1.1 MB)\n",
            "\u001b[K     |████████████████████████████████| 1.1 MB 36.9 MB/s \n",
            "\u001b[?25hRequirement already satisfied: wrapt>=1.11.1 in /usr/local/lib/python3.7/dist-packages (from napari) (1.14.0)\n",
            "Collecting numpydoc>=0.9.2\n",
            "  Downloading numpydoc-1.2.1-py3-none-any.whl (51 kB)\n",
            "\u001b[K     |████████████████████████████████| 51 kB 157 kB/s \n",
            "\u001b[?25hCollecting superqt>=0.2.5\n",
            "  Downloading superqt-0.3.1-py3-none-any.whl (55 kB)\n",
            "\u001b[K     |████████████████████████████████| 55 kB 2.5 MB/s \n",
            "\u001b[?25hRequirement already satisfied: numpy>=1.18.5 in /usr/local/lib/python3.7/dist-packages (from napari) (1.21.5)\n",
            "Requirement already satisfied: toolz>=0.10.0 in /usr/local/lib/python3.7/dist-packages (from napari) (0.11.2)\n",
            "Requirement already satisfied: pandas>=1.1.0 in /usr/local/lib/python3.7/dist-packages (from napari) (1.3.5)\n",
            "Requirement already satisfied: psutil>=5.0 in /usr/local/lib/python3.7/dist-packages (from napari) (5.4.8)\n",
            "Requirement already satisfied: qtpy>=1.7.0 in /usr/local/lib/python3.7/dist-packages (from napari) (2.0.1)\n",
            "Requirement already satisfied: Pillow!=7.1.0,!=7.1.1 in /usr/local/lib/python3.7/dist-packages (from napari) (7.1.2)\n",
            "Collecting imageio!=2.11.0,>=2.5.0\n",
            "  Downloading imageio-2.16.1-py3-none-any.whl (3.3 MB)\n",
            "\u001b[K     |████████████████████████████████| 3.3 MB 37.0 MB/s \n",
            "\u001b[?25hCollecting PyYAML>=5.1\n",
            "  Downloading PyYAML-6.0-cp37-cp37m-manylinux_2_5_x86_64.manylinux1_x86_64.manylinux_2_12_x86_64.manylinux2010_x86_64.whl (596 kB)\n",
            "\u001b[K     |████████████████████████████████| 596 kB 22.1 MB/s \n",
            "\u001b[?25hRequirement already satisfied: certifi>=2018.1.18 in /usr/local/lib/python3.7/dist-packages (from napari) (2021.10.8)\n",
            "Collecting pint>=0.17\n",
            "  Downloading Pint-0.18-py2.py3-none-any.whl (209 kB)\n",
            "\u001b[K     |████████████████████████████████| 209 kB 45.0 MB/s \n",
            "\u001b[?25hRequirement already satisfied: appdirs>=1.4.4 in /usr/local/lib/python3.7/dist-packages (from napari) (1.4.4)\n",
            "Collecting npe2>=0.1.1\n",
            "  Downloading npe2-0.2.1-py2.py3-none-any.whl (48 kB)\n",
            "\u001b[K     |████████████████████████████████| 48 kB 2.6 MB/s \n",
            "\u001b[?25hRequirement already satisfied: scipy>=1.4.0 in /usr/local/lib/python3.7/dist-packages (from napari) (1.4.1)\n",
            "Requirement already satisfied: PyOpenGL>=3.1.0 in /usr/local/lib/python3.7/dist-packages (from napari) (3.1.6)\n",
            "Requirement already satisfied: importlib-metadata>=1.5.0 in /usr/local/lib/python3.7/dist-packages (from napari) (4.11.3)\n",
            "Requirement already satisfied: tqdm>=4.56.0 in /usr/local/lib/python3.7/dist-packages (from napari) (4.63.0)\n",
            "Collecting vispy>=0.9.4\n",
            "  Downloading vispy-0.9.6-cp37-cp37m-manylinux_2_5_x86_64.manylinux1_x86_64.manylinux_2_17_x86_64.manylinux2014_x86_64.whl (1.5 MB)\n",
            "\u001b[K     |████████████████████████████████| 1.5 MB 23.0 MB/s \n",
            "\u001b[?25hRequirement already satisfied: heapdict in /usr/local/lib/python3.7/dist-packages (from cachey>=0.2.1->napari) (1.0.1)\n",
            "Requirement already satisfied: packaging>=20.0 in /usr/local/lib/python3.7/dist-packages (from dask[array]!=2.28.0,>=2.15.0->napari) (21.3)\n",
            "Requirement already satisfied: cloudpickle>=1.1.1 in /usr/local/lib/python3.7/dist-packages (from dask[array]!=2.28.0,>=2.15.0->napari) (1.3.0)\n",
            "Collecting fsspec>=0.6.0\n",
            "  Downloading fsspec-2022.3.0-py3-none-any.whl (136 kB)\n",
            "\u001b[K     |████████████████████████████████| 136 kB 38.0 MB/s \n",
            "\u001b[?25hCollecting partd>=0.3.10\n",
            "  Downloading partd-1.2.0-py3-none-any.whl (19 kB)\n",
            "Collecting Pillow!=7.1.0,!=7.1.1\n",
            "  Downloading Pillow-9.1.0-cp37-cp37m-manylinux_2_17_x86_64.manylinux2014_x86_64.whl (4.3 MB)\n",
            "\u001b[K     |████████████████████████████████| 4.3 MB 24.6 MB/s \n",
            "\u001b[?25hRequirement already satisfied: zipp>=0.5 in /usr/local/lib/python3.7/dist-packages (from importlib-metadata>=1.5.0->napari) (3.7.0)\n",
            "Requirement already satisfied: attrs>=17.4.0 in /usr/local/lib/python3.7/dist-packages (from jsonschema>=3.2.0->napari) (21.4.0)\n",
            "Requirement already satisfied: pyrsistent!=0.17.0,!=0.17.1,!=0.17.2,>=0.14.0 in /usr/local/lib/python3.7/dist-packages (from jsonschema>=3.2.0->napari) (0.18.1)\n",
            "Requirement already satisfied: importlib-resources>=1.4.0 in /usr/local/lib/python3.7/dist-packages (from jsonschema>=3.2.0->napari) (5.4.0)\n",
            "Collecting psygnal>=0.3.0\n",
            "  Downloading psygnal-0.3.3-cp37-cp37m-manylinux_2_17_x86_64.manylinux2014_x86_64.whl (2.3 MB)\n",
            "\u001b[K     |████████████████████████████████| 2.3 MB 30.9 MB/s \n",
            "\u001b[?25hCollecting docstring-parser\n",
            "  Downloading docstring_parser-0.13.tar.gz (23 kB)\n",
            "  Installing build dependencies ... \u001b[?25l\u001b[?25hdone\n",
            "  Getting requirements to build wheel ... \u001b[?25l\u001b[?25hdone\n",
            "    Preparing wheel metadata ... \u001b[?25l\u001b[?25hdone\n",
            "Collecting ipykernel>=5.2.0\n",
            "  Downloading ipykernel-6.12.1-py3-none-any.whl (130 kB)\n",
            "\u001b[K     |████████████████████████████████| 130 kB 55.0 MB/s \n",
            "\u001b[?25hCollecting IPython>=7.7.0\n",
            "  Downloading ipython-7.32.0-py3-none-any.whl (793 kB)\n",
            "\u001b[K     |████████████████████████████████| 793 kB 45.0 MB/s \n",
            "\u001b[?25hRequirement already satisfied: qtconsole!=4.7.6,>=4.5.1 in /usr/local/lib/python3.7/dist-packages (from napari-console>=0.0.4->napari) (5.2.2)\n",
            "Requirement already satisfied: matplotlib-inline>=0.1 in /usr/local/lib/python3.7/dist-packages (from ipykernel>=5.2.0->napari-console>=0.0.4->napari) (0.1.3)\n",
            "Collecting tornado>=6.1\n",
            "  Downloading tornado-6.1-cp37-cp37m-manylinux2010_x86_64.whl (428 kB)\n",
            "\u001b[K     |████████████████████████████████| 428 kB 42.9 MB/s \n",
            "\u001b[?25hRequirement already satisfied: nest-asyncio in /usr/local/lib/python3.7/dist-packages (from ipykernel>=5.2.0->napari-console>=0.0.4->napari) (1.5.4)\n",
            "Collecting jupyter-client>=6.1.12\n",
            "  Downloading jupyter_client-7.2.2-py3-none-any.whl (130 kB)\n",
            "\u001b[K     |████████████████████████████████| 130 kB 46.8 MB/s \n",
            "\u001b[?25hRequirement already satisfied: traitlets>=5.1.0 in /usr/local/lib/python3.7/dist-packages (from ipykernel>=5.2.0->napari-console>=0.0.4->napari) (5.1.1)\n",
            "Requirement already satisfied: debugpy>=1.0 in /usr/local/lib/python3.7/dist-packages (from ipykernel>=5.2.0->napari-console>=0.0.4->napari) (1.0.0)\n",
            "Requirement already satisfied: decorator in /usr/local/lib/python3.7/dist-packages (from IPython>=7.7.0->napari-console>=0.0.4->napari) (4.4.2)\n",
            "Requirement already satisfied: backcall in /usr/local/lib/python3.7/dist-packages (from IPython>=7.7.0->napari-console>=0.0.4->napari) (0.2.0)\n",
            "Requirement already satisfied: jedi>=0.16 in /usr/local/lib/python3.7/dist-packages (from IPython>=7.7.0->napari-console>=0.0.4->napari) (0.18.1)\n",
            "Requirement already satisfied: pygments in /usr/local/lib/python3.7/dist-packages (from IPython>=7.7.0->napari-console>=0.0.4->napari) (2.6.1)\n",
            "Requirement already satisfied: pexpect>4.3 in /usr/local/lib/python3.7/dist-packages (from IPython>=7.7.0->napari-console>=0.0.4->napari) (4.8.0)\n",
            "Collecting prompt-toolkit!=3.0.0,!=3.0.1,<3.1.0,>=2.0.0\n",
            "  Downloading prompt_toolkit-3.0.29-py3-none-any.whl (381 kB)\n",
            "\u001b[K     |████████████████████████████████| 381 kB 46.3 MB/s \n",
            "\u001b[?25hRequirement already satisfied: setuptools>=18.5 in /usr/local/lib/python3.7/dist-packages (from IPython>=7.7.0->napari-console>=0.0.4->napari) (57.4.0)\n",
            "Requirement already satisfied: pickleshare in /usr/local/lib/python3.7/dist-packages (from IPython>=7.7.0->napari-console>=0.0.4->napari) (0.7.5)\n",
            "Requirement already satisfied: parso<0.9.0,>=0.8.0 in /usr/local/lib/python3.7/dist-packages (from jedi>=0.16->IPython>=7.7.0->napari-console>=0.0.4->napari) (0.8.3)\n",
            "Requirement already satisfied: pyzmq>=22.3 in /usr/local/lib/python3.7/dist-packages (from jupyter-client>=6.1.12->ipykernel>=5.2.0->napari-console>=0.0.4->napari) (22.3.0)\n",
            "Requirement already satisfied: python-dateutil>=2.8.2 in /usr/local/lib/python3.7/dist-packages (from jupyter-client>=6.1.12->ipykernel>=5.2.0->napari-console>=0.0.4->napari) (2.8.2)\n",
            "Requirement already satisfied: jupyter-core>=4.9.2 in /usr/local/lib/python3.7/dist-packages (from jupyter-client>=6.1.12->ipykernel>=5.2.0->napari-console>=0.0.4->napari) (4.9.2)\n",
            "Requirement already satisfied: entrypoints in /usr/local/lib/python3.7/dist-packages (from jupyter-client>=6.1.12->ipykernel>=5.2.0->napari-console>=0.0.4->napari) (0.4)\n",
            "Collecting typer\n",
            "  Downloading typer-0.4.1-py3-none-any.whl (27 kB)\n",
            "Collecting pytomlpp\n",
            "  Downloading pytomlpp-1.0.10-cp37-cp37m-manylinux_2_12_x86_64.manylinux2010_x86_64.whl (2.7 MB)\n",
            "\u001b[K     |████████████████████████████████| 2.7 MB 32.5 MB/s \n",
            "\u001b[?25hRequirement already satisfied: Jinja2<3.1,>=2.10 in /usr/local/lib/python3.7/dist-packages (from numpydoc>=0.9.2->napari) (2.11.3)\n",
            "Requirement already satisfied: sphinx>=1.8 in /usr/local/lib/python3.7/dist-packages (from numpydoc>=0.9.2->napari) (1.8.6)\n",
            "Requirement already satisfied: MarkupSafe>=0.23 in /usr/local/lib/python3.7/dist-packages (from Jinja2<3.1,>=2.10->numpydoc>=0.9.2->napari) (2.0.1)\n",
            "Requirement already satisfied: pyparsing!=3.0.5,>=2.0.2 in /usr/local/lib/python3.7/dist-packages (from packaging>=20.0->dask[array]!=2.28.0,>=2.15.0->napari) (3.0.7)\n",
            "Requirement already satisfied: pytz>=2017.3 in /usr/local/lib/python3.7/dist-packages (from pandas>=1.1.0->napari) (2018.9)\n",
            "Collecting locket\n",
            "  Downloading locket-0.2.1-py2.py3-none-any.whl (4.1 kB)\n",
            "Requirement already satisfied: ptyprocess>=0.5 in /usr/local/lib/python3.7/dist-packages (from pexpect>4.3->IPython>=7.7.0->napari-console>=0.0.4->napari) (0.7.0)\n",
            "Requirement already satisfied: wcwidth in /usr/local/lib/python3.7/dist-packages (from prompt-toolkit!=3.0.0,!=3.0.1,<3.1.0,>=2.0.0->IPython>=7.7.0->napari-console>=0.0.4->napari) (0.2.5)\n",
            "Requirement already satisfied: six>=1.5 in /usr/local/lib/python3.7/dist-packages (from python-dateutil>=2.8.2->jupyter-client>=6.1.12->ipykernel>=5.2.0->napari-console>=0.0.4->napari) (1.15.0)\n",
            "Requirement already satisfied: ipython-genutils in /usr/local/lib/python3.7/dist-packages (from qtconsole!=4.7.6,>=4.5.1->napari-console>=0.0.4->napari) (0.2.0)\n",
            "Requirement already satisfied: sphinxcontrib-websupport in /usr/local/lib/python3.7/dist-packages (from sphinx>=1.8->numpydoc>=0.9.2->napari) (1.2.4)\n",
            "Requirement already satisfied: snowballstemmer>=1.1 in /usr/local/lib/python3.7/dist-packages (from sphinx>=1.8->numpydoc>=0.9.2->napari) (2.2.0)\n",
            "Requirement already satisfied: babel!=2.0,>=1.3 in /usr/local/lib/python3.7/dist-packages (from sphinx>=1.8->numpydoc>=0.9.2->napari) (2.9.1)\n",
            "Requirement already satisfied: imagesize in /usr/local/lib/python3.7/dist-packages (from sphinx>=1.8->numpydoc>=0.9.2->napari) (1.3.0)\n",
            "Requirement already satisfied: docutils<0.18,>=0.11 in /usr/local/lib/python3.7/dist-packages (from sphinx>=1.8->numpydoc>=0.9.2->napari) (0.17.1)\n",
            "Requirement already satisfied: alabaster<0.8,>=0.7 in /usr/local/lib/python3.7/dist-packages (from sphinx>=1.8->numpydoc>=0.9.2->napari) (0.7.12)\n",
            "Requirement already satisfied: requests>=2.0.0 in /usr/local/lib/python3.7/dist-packages (from sphinx>=1.8->numpydoc>=0.9.2->napari) (2.23.0)\n",
            "Requirement already satisfied: idna<3,>=2.5 in /usr/local/lib/python3.7/dist-packages (from requests>=2.0.0->sphinx>=1.8->numpydoc>=0.9.2->napari) (2.10)\n",
            "Requirement already satisfied: urllib3!=1.25.0,!=1.25.1,<1.26,>=1.21.1 in /usr/local/lib/python3.7/dist-packages (from requests>=2.0.0->sphinx>=1.8->numpydoc>=0.9.2->napari) (1.24.3)\n",
            "Requirement already satisfied: chardet<4,>=3.0.2 in /usr/local/lib/python3.7/dist-packages (from requests>=2.0.0->sphinx>=1.8->numpydoc>=0.9.2->napari) (3.0.4)\n",
            "Requirement already satisfied: kiwisolver in /usr/local/lib/python3.7/dist-packages (from vispy>=0.9.4->napari) (1.4.0)\n",
            "Collecting hsluv\n",
            "  Downloading hsluv-5.0.2-py2.py3-none-any.whl (5.1 kB)\n",
            "Collecting freetype-py\n",
            "  Downloading freetype_py-2.2.0-py3-none-manylinux1_x86_64.whl (890 kB)\n",
            "\u001b[K     |████████████████████████████████| 890 kB 44.5 MB/s \n",
            "\u001b[?25hRequirement already satisfied: sphinxcontrib-serializinghtml in /usr/local/lib/python3.7/dist-packages (from sphinxcontrib-websupport->sphinx>=1.8->numpydoc>=0.9.2->napari) (1.1.5)\n",
            "Requirement already satisfied: click<9.0.0,>=7.1.1 in /usr/local/lib/python3.7/dist-packages (from typer->npe2>=0.1.1->napari) (7.1.2)\n",
            "Building wheels for collected packages: docstring-parser\n",
            "  Building wheel for docstring-parser (PEP 517) ... \u001b[?25l\u001b[?25hdone\n",
            "  Created wheel for docstring-parser: filename=docstring_parser-0.13-py3-none-any.whl size=31866 sha256=8e0c53c719bb3205e32640a00275abafca322833dc7be4218687ac8bc307eb73\n",
            "  Stored in directory: /root/.cache/pip/wheels/bd/88/3c/d1aa049309f7945178cac9fbe6561a86424f432da57c18ca0f\n",
            "Successfully built docstring-parser\n",
            "Installing collected packages: tornado, prompt-toolkit, locket, jupyter-client, IPython, PyYAML, psygnal, Pillow, partd, ipykernel, hsluv, fsspec, freetype-py, docstring-parser, vispy, typer, pytomlpp, pydantic, napari-plugin-engine, magicgui, imageio, dask, superqt, pint, numpydoc, npe2, napari-svg, napari-console, cachey, napari\n",
            "  Attempting uninstall: tornado\n",
            "    Found existing installation: tornado 5.1.1\n",
            "    Uninstalling tornado-5.1.1:\n",
            "      Successfully uninstalled tornado-5.1.1\n",
            "  Attempting uninstall: prompt-toolkit\n",
            "    Found existing installation: prompt-toolkit 1.0.18\n",
            "    Uninstalling prompt-toolkit-1.0.18:\n",
            "      Successfully uninstalled prompt-toolkit-1.0.18\n",
            "  Attempting uninstall: jupyter-client\n",
            "    Found existing installation: jupyter-client 5.3.5\n",
            "    Uninstalling jupyter-client-5.3.5:\n",
            "      Successfully uninstalled jupyter-client-5.3.5\n",
            "  Attempting uninstall: IPython\n",
            "    Found existing installation: ipython 5.5.0\n",
            "    Uninstalling ipython-5.5.0:\n",
            "      Successfully uninstalled ipython-5.5.0\n",
            "  Attempting uninstall: PyYAML\n",
            "    Found existing installation: PyYAML 3.13\n",
            "    Uninstalling PyYAML-3.13:\n",
            "      Successfully uninstalled PyYAML-3.13\n",
            "  Attempting uninstall: Pillow\n",
            "    Found existing installation: Pillow 7.1.2\n",
            "    Uninstalling Pillow-7.1.2:\n",
            "      Successfully uninstalled Pillow-7.1.2\n",
            "  Attempting uninstall: ipykernel\n",
            "    Found existing installation: ipykernel 4.10.1\n",
            "    Uninstalling ipykernel-4.10.1:\n",
            "      Successfully uninstalled ipykernel-4.10.1\n",
            "  Attempting uninstall: imageio\n",
            "    Found existing installation: imageio 2.4.1\n",
            "    Uninstalling imageio-2.4.1:\n",
            "      Successfully uninstalled imageio-2.4.1\n",
            "  Attempting uninstall: dask\n",
            "    Found existing installation: dask 2.12.0\n",
            "    Uninstalling dask-2.12.0:\n",
            "      Successfully uninstalled dask-2.12.0\n",
            "\u001b[31mERROR: pip's dependency resolver does not currently take into account all the packages that are installed. This behaviour is the source of the following dependency conflicts.\n",
            "jupyter-console 5.2.0 requires prompt-toolkit<2.0.0,>=1.0.0, but you have prompt-toolkit 3.0.29 which is incompatible.\n",
            "google-colab 1.0.0 requires ipykernel~=4.10, but you have ipykernel 6.12.1 which is incompatible.\n",
            "google-colab 1.0.0 requires ipython~=5.5.0, but you have ipython 7.32.0 which is incompatible.\n",
            "google-colab 1.0.0 requires tornado~=5.1.0; python_version >= \"3.0\", but you have tornado 6.1 which is incompatible.\n",
            "albumentations 0.1.12 requires imgaug<0.2.7,>=0.2.5, but you have imgaug 0.2.9 which is incompatible.\u001b[0m\n",
            "Successfully installed IPython-7.32.0 Pillow-9.1.0 PyYAML-6.0 cachey-0.2.1 dask-2022.2.0 docstring-parser-0.13 freetype-py-2.2.0 fsspec-2022.3.0 hsluv-5.0.2 imageio-2.16.1 ipykernel-6.12.1 jupyter-client-7.2.2 locket-0.2.1 magicgui-0.4.0 napari-0.4.14 napari-console-0.0.4 napari-plugin-engine-0.2.0 napari-svg-0.1.6 npe2-0.2.1 numpydoc-1.2.1 partd-1.2.0 pint-0.18 prompt-toolkit-3.0.29 psygnal-0.3.3 pydantic-1.9.0 pytomlpp-1.0.10 superqt-0.3.1 tornado-6.1 typer-0.4.1 vispy-0.9.6\n"
          ]
        },
        {
          "output_type": "display_data",
          "data": {
            "application/vnd.colab-display-data+json": {
              "pip_warning": {
                "packages": [
                  "IPython",
                  "PIL",
                  "imageio",
                  "ipykernel",
                  "jupyter_client",
                  "prompt_toolkit",
                  "tornado"
                ]
              }
            }
          },
          "metadata": {}
        }
      ]
    },
    {
      "cell_type": "code",
      "execution_count": null,
      "metadata": {
        "jupyter": {
          "source_hidden": true
        },
        "colab": {
          "base_uri": "https://localhost:8080/",
          "height": 383
        },
        "id": "t0p0C2ozIz-u",
        "outputId": "84e5cf05-2c3e-46a1-f89d-0c8be814bb7f"
      },
      "outputs": [
        {
          "output_type": "error",
          "ename": "ModuleNotFoundError",
          "evalue": "ignored",
          "traceback": [
            "\u001b[0;31m---------------------------------------------------------------------------\u001b[0m",
            "\u001b[0;31mModuleNotFoundError\u001b[0m                       Traceback (most recent call last)",
            "\u001b[0;32m<ipython-input-1-06d2b976c0c9>\u001b[0m in \u001b[0;36m<module>\u001b[0;34m()\u001b[0m\n\u001b[1;32m      9\u001b[0m \u001b[0;32mimport\u001b[0m \u001b[0msys\u001b[0m\u001b[0;34m\u001b[0m\u001b[0;34m\u001b[0m\u001b[0m\n\u001b[1;32m     10\u001b[0m \u001b[0;32mimport\u001b[0m \u001b[0mcv2\u001b[0m\u001b[0;34m\u001b[0m\u001b[0;34m\u001b[0m\u001b[0m\n\u001b[0;32m---> 11\u001b[0;31m \u001b[0;32mimport\u001b[0m \u001b[0mtrackpy\u001b[0m \u001b[0;32mas\u001b[0m \u001b[0mtp\u001b[0m\u001b[0;34m\u001b[0m\u001b[0;34m\u001b[0m\u001b[0m\n\u001b[0m\u001b[1;32m     12\u001b[0m \u001b[0;31m#!pip install shapely\u001b[0m\u001b[0;34m\u001b[0m\u001b[0;34m\u001b[0m\u001b[0;34m\u001b[0m\u001b[0m\n\u001b[1;32m     13\u001b[0m \u001b[0;32mfrom\u001b[0m \u001b[0mshapely\u001b[0m\u001b[0;34m.\u001b[0m\u001b[0mgeometry\u001b[0m \u001b[0;32mimport\u001b[0m \u001b[0mPolygon\u001b[0m\u001b[0;34m\u001b[0m\u001b[0;34m\u001b[0m\u001b[0m\n",
            "\u001b[0;31mModuleNotFoundError\u001b[0m: No module named 'trackpy'",
            "",
            "\u001b[0;31m---------------------------------------------------------------------------\u001b[0;32m\nNOTE: If your import is failing due to a missing package, you can\nmanually install dependencies using either !pip or !apt.\n\nTo view examples of installing some common dependencies, click the\n\"Open Examples\" button below.\n\u001b[0;31m---------------------------------------------------------------------------\u001b[0m\n"
          ],
          "errorDetails": {
            "actions": [
              {
                "action": "open_url",
                "actionText": "Open Examples",
                "url": "/notebooks/snippets/importing_libraries.ipynb"
              }
            ]
          }
        }
      ],
      "source": [
        "# To manipulate arrays\n",
        "import numpy as np \n",
        "from skimage.io import imread\n",
        "import matplotlib.pyplot as plt \n",
        "from matplotlib.path import Path\n",
        "import pylab as pyl\n",
        "import seaborn as sns; sns.set()  \n",
        "import pathlib # for working with windows paths\n",
        "import sys\n",
        "import cv2\n",
        "import trackpy as tp\n",
        "#!pip install shapely\n",
        "from shapely.geometry import Polygon \n",
        "from shapely.geometry import Point\n",
        "current_dir = pathlib.Path().absolute()\n",
        "sys.path.append(str(croparray_dir))\n",
        "import os\n",
        "import crop_array_tools as ca\n",
        "# %matplotlib inline \n",
        "plt.style.use('dark_background')"
      ]
    },
    {
      "cell_type": "markdown",
      "metadata": {
        "id": "1fRN0da3Iz-u"
      },
      "source": [
        "## Importing libraries\n",
        "\n",
        "\n",
        "----"
      ]
    },
    {
      "cell_type": "code",
      "source": [
        "print(\"Current working directory: {0}\".format(os.getcwd()))"
      ],
      "metadata": {
        "colab": {
          "base_uri": "https://localhost:8080/"
        },
        "id": "Qo4MYwYIU3tV",
        "outputId": "4fb191cf-0756-4915-c98c-1bf775abb7e0"
      },
      "execution_count": null,
      "outputs": [
        {
          "output_type": "stream",
          "name": "stdout",
          "text": [
            "Current working directory: /content\n"
          ]
        }
      ]
    },
    {
      "cell_type": "code",
      "execution_count": null,
      "metadata": {
        "id": "SpHPyLuXIz-v"
      },
      "outputs": [],
      "source": [
        "# Napari \n",
        "%gui qt5 \n",
        "import napari\n",
        "from napari.utils import nbscreenshot"
      ]
    },
    {
      "cell_type": "code",
      "execution_count": null,
      "metadata": {
        "id": "oqsBuqfSIz-v"
      },
      "outputs": [],
      "source": [
        "# Magicgui\n",
        "#from magicgui import magicgui\n",
        "import datetime\n",
        "import pathlib"
      ]
    },
    {
      "cell_type": "code",
      "execution_count": null,
      "metadata": {
        "id": "txA8FLdDIz-w",
        "colab": {
          "base_uri": "https://localhost:8080/",
          "height": 328
        },
        "outputId": "30c15152-c9d7-43e5-f1a2-f1587b70432a"
      },
      "outputs": [
        {
          "output_type": "error",
          "ename": "TypeError",
          "evalue": "ignored",
          "traceback": [
            "\u001b[0;31m---------------------------------------------------------------------------\u001b[0m",
            "\u001b[0;31mTypeError\u001b[0m                                 Traceback (most recent call last)",
            "\u001b[0;32m/tmp/ipykernel_700/3823575354.py\u001b[0m in \u001b[0;36m<module>\u001b[0;34m\u001b[0m\n\u001b[1;32m      1\u001b[0m \u001b[0;32mimport\u001b[0m \u001b[0mpandas\u001b[0m \u001b[0;32mas\u001b[0m \u001b[0mpd\u001b[0m\u001b[0;34m\u001b[0m\u001b[0;34m\u001b[0m\u001b[0m\n\u001b[0;32m----> 2\u001b[0;31m \u001b[0;32mimport\u001b[0m \u001b[0mxarray\u001b[0m \u001b[0;32mas\u001b[0m \u001b[0mxr\u001b[0m\u001b[0;34m\u001b[0m\u001b[0;34m\u001b[0m\u001b[0m\n\u001b[0m",
            "\u001b[0;32m/usr/local/lib/python3.7/dist-packages/xarray/__init__.py\u001b[0m in \u001b[0;36m<module>\u001b[0;34m\u001b[0m\n\u001b[1;32m      1\u001b[0m \u001b[0;32mimport\u001b[0m \u001b[0mpkg_resources\u001b[0m\u001b[0;34m\u001b[0m\u001b[0;34m\u001b[0m\u001b[0m\n\u001b[1;32m      2\u001b[0m \u001b[0;34m\u001b[0m\u001b[0m\n\u001b[0;32m----> 3\u001b[0;31m \u001b[0;32mfrom\u001b[0m \u001b[0;34m.\u001b[0m \u001b[0;32mimport\u001b[0m \u001b[0mtesting\u001b[0m\u001b[0;34m,\u001b[0m \u001b[0mtutorial\u001b[0m\u001b[0;34m,\u001b[0m \u001b[0mufuncs\u001b[0m\u001b[0;34m\u001b[0m\u001b[0;34m\u001b[0m\u001b[0m\n\u001b[0m\u001b[1;32m      4\u001b[0m from .backends.api import (\n\u001b[1;32m      5\u001b[0m     \u001b[0mload_dataarray\u001b[0m\u001b[0;34m,\u001b[0m\u001b[0;34m\u001b[0m\u001b[0;34m\u001b[0m\u001b[0m\n",
            "\u001b[0;32m/usr/local/lib/python3.7/dist-packages/xarray/tutorial.py\u001b[0m in \u001b[0;36m<module>\u001b[0;34m\u001b[0m\n\u001b[1;32m     11\u001b[0m \u001b[0;32mimport\u001b[0m \u001b[0mnumpy\u001b[0m \u001b[0;32mas\u001b[0m \u001b[0mnp\u001b[0m\u001b[0;34m\u001b[0m\u001b[0;34m\u001b[0m\u001b[0m\n\u001b[1;32m     12\u001b[0m \u001b[0;34m\u001b[0m\u001b[0m\n\u001b[0;32m---> 13\u001b[0;31m \u001b[0;32mfrom\u001b[0m \u001b[0;34m.\u001b[0m\u001b[0mbackends\u001b[0m\u001b[0;34m.\u001b[0m\u001b[0mapi\u001b[0m \u001b[0;32mimport\u001b[0m \u001b[0mopen_dataset\u001b[0m \u001b[0;32mas\u001b[0m \u001b[0m_open_dataset\u001b[0m\u001b[0;34m\u001b[0m\u001b[0;34m\u001b[0m\u001b[0m\n\u001b[0m\u001b[1;32m     14\u001b[0m \u001b[0;32mfrom\u001b[0m \u001b[0;34m.\u001b[0m\u001b[0mbackends\u001b[0m\u001b[0;34m.\u001b[0m\u001b[0mrasterio_\u001b[0m \u001b[0;32mimport\u001b[0m \u001b[0mopen_rasterio\u001b[0m \u001b[0;32mas\u001b[0m \u001b[0m_open_rasterio\u001b[0m\u001b[0;34m\u001b[0m\u001b[0;34m\u001b[0m\u001b[0m\n\u001b[1;32m     15\u001b[0m \u001b[0;32mfrom\u001b[0m \u001b[0;34m.\u001b[0m\u001b[0mcore\u001b[0m\u001b[0;34m.\u001b[0m\u001b[0mdataarray\u001b[0m \u001b[0;32mimport\u001b[0m \u001b[0mDataArray\u001b[0m\u001b[0;34m\u001b[0m\u001b[0;34m\u001b[0m\u001b[0m\n",
            "\u001b[0;32m/usr/local/lib/python3.7/dist-packages/xarray/backends/__init__.py\u001b[0m in \u001b[0;36m<module>\u001b[0;34m\u001b[0m\n\u001b[1;32m      4\u001b[0m \u001b[0mformats\u001b[0m\u001b[0;34m.\u001b[0m \u001b[0mThey\u001b[0m \u001b[0mshould\u001b[0m \u001b[0;32mnot\u001b[0m \u001b[0mbe\u001b[0m \u001b[0mused\u001b[0m \u001b[0mdirectly\u001b[0m\u001b[0;34m,\u001b[0m \u001b[0mbut\u001b[0m \u001b[0mrather\u001b[0m \u001b[0mthrough\u001b[0m \u001b[0mDataset\u001b[0m \u001b[0mobjects\u001b[0m\u001b[0;34m.\u001b[0m\u001b[0;34m\u001b[0m\u001b[0;34m\u001b[0m\u001b[0m\n\u001b[1;32m      5\u001b[0m \"\"\"\n\u001b[0;32m----> 6\u001b[0;31m \u001b[0;32mfrom\u001b[0m \u001b[0;34m.\u001b[0m\u001b[0mcfgrib_\u001b[0m \u001b[0;32mimport\u001b[0m \u001b[0mCfGribDataStore\u001b[0m\u001b[0;34m\u001b[0m\u001b[0;34m\u001b[0m\u001b[0m\n\u001b[0m\u001b[1;32m      7\u001b[0m \u001b[0;32mfrom\u001b[0m \u001b[0;34m.\u001b[0m\u001b[0mcommon\u001b[0m \u001b[0;32mimport\u001b[0m \u001b[0mAbstractDataStore\u001b[0m\u001b[0;34m,\u001b[0m \u001b[0mBackendArray\u001b[0m\u001b[0;34m,\u001b[0m \u001b[0mBackendEntrypoint\u001b[0m\u001b[0;34m\u001b[0m\u001b[0;34m\u001b[0m\u001b[0m\n\u001b[1;32m      8\u001b[0m \u001b[0;32mfrom\u001b[0m \u001b[0;34m.\u001b[0m\u001b[0mfile_manager\u001b[0m \u001b[0;32mimport\u001b[0m \u001b[0mCachingFileManager\u001b[0m\u001b[0;34m,\u001b[0m \u001b[0mDummyFileManager\u001b[0m\u001b[0;34m,\u001b[0m \u001b[0mFileManager\u001b[0m\u001b[0;34m\u001b[0m\u001b[0;34m\u001b[0m\u001b[0m\n",
            "\u001b[0;32m/usr/local/lib/python3.7/dist-packages/xarray/backends/cfgrib_.py\u001b[0m in \u001b[0;36m<module>\u001b[0;34m\u001b[0m\n\u001b[1;32m     14\u001b[0m     \u001b[0m_normalize_path\u001b[0m\u001b[0;34m,\u001b[0m\u001b[0;34m\u001b[0m\u001b[0;34m\u001b[0m\u001b[0m\n\u001b[1;32m     15\u001b[0m )\n\u001b[0;32m---> 16\u001b[0;31m \u001b[0;32mfrom\u001b[0m \u001b[0;34m.\u001b[0m\u001b[0mlocks\u001b[0m \u001b[0;32mimport\u001b[0m \u001b[0mSerializableLock\u001b[0m\u001b[0;34m,\u001b[0m \u001b[0mensure_lock\u001b[0m\u001b[0;34m\u001b[0m\u001b[0;34m\u001b[0m\u001b[0m\n\u001b[0m\u001b[1;32m     17\u001b[0m \u001b[0;32mfrom\u001b[0m \u001b[0;34m.\u001b[0m\u001b[0mstore\u001b[0m \u001b[0;32mimport\u001b[0m \u001b[0mStoreBackendEntrypoint\u001b[0m\u001b[0;34m\u001b[0m\u001b[0;34m\u001b[0m\u001b[0m\n\u001b[1;32m     18\u001b[0m \u001b[0;34m\u001b[0m\u001b[0m\n",
            "\u001b[0;32m/usr/local/lib/python3.7/dist-packages/xarray/backends/locks.py\u001b[0m in \u001b[0;36m<module>\u001b[0;34m\u001b[0m\n\u001b[1;32m     11\u001b[0m \u001b[0;34m\u001b[0m\u001b[0m\n\u001b[1;32m     12\u001b[0m \u001b[0;32mtry\u001b[0m\u001b[0;34m:\u001b[0m\u001b[0;34m\u001b[0m\u001b[0;34m\u001b[0m\u001b[0m\n\u001b[0;32m---> 13\u001b[0;31m     \u001b[0;32mfrom\u001b[0m \u001b[0mdask\u001b[0m\u001b[0;34m.\u001b[0m\u001b[0mdistributed\u001b[0m \u001b[0;32mimport\u001b[0m \u001b[0mLock\u001b[0m \u001b[0;32mas\u001b[0m \u001b[0mDistributedLock\u001b[0m\u001b[0;34m\u001b[0m\u001b[0;34m\u001b[0m\u001b[0m\n\u001b[0m\u001b[1;32m     14\u001b[0m \u001b[0;32mexcept\u001b[0m \u001b[0mImportError\u001b[0m\u001b[0;34m:\u001b[0m\u001b[0;34m\u001b[0m\u001b[0;34m\u001b[0m\u001b[0m\n\u001b[1;32m     15\u001b[0m     \u001b[0mDistributedLock\u001b[0m \u001b[0;34m=\u001b[0m \u001b[0;32mNone\u001b[0m\u001b[0;34m\u001b[0m\u001b[0;34m\u001b[0m\u001b[0m\n",
            "\u001b[0;32m/usr/local/lib/python3.7/dist-packages/dask/distributed.py\u001b[0m in \u001b[0;36m<module>\u001b[0;34m\u001b[0m\n\u001b[1;32m      9\u001b[0m \u001b[0;34m\u001b[0m\u001b[0m\n\u001b[1;32m     10\u001b[0m \u001b[0;32mtry\u001b[0m\u001b[0;34m:\u001b[0m\u001b[0;34m\u001b[0m\u001b[0;34m\u001b[0m\u001b[0m\n\u001b[0;32m---> 11\u001b[0;31m     \u001b[0;32mfrom\u001b[0m \u001b[0mdistributed\u001b[0m \u001b[0;32mimport\u001b[0m \u001b[0;34m*\u001b[0m\u001b[0;34m\u001b[0m\u001b[0;34m\u001b[0m\u001b[0m\n\u001b[0m\u001b[1;32m     12\u001b[0m \u001b[0;32mexcept\u001b[0m \u001b[0mImportError\u001b[0m \u001b[0;32mas\u001b[0m \u001b[0me\u001b[0m\u001b[0;34m:\u001b[0m\u001b[0;34m\u001b[0m\u001b[0;34m\u001b[0m\u001b[0m\n\u001b[1;32m     13\u001b[0m     \u001b[0;32mif\u001b[0m \u001b[0me\u001b[0m\u001b[0;34m.\u001b[0m\u001b[0mmsg\u001b[0m \u001b[0;34m==\u001b[0m \u001b[0;34m\"No module named 'distributed'\"\u001b[0m\u001b[0;34m:\u001b[0m\u001b[0;34m\u001b[0m\u001b[0;34m\u001b[0m\u001b[0m\n",
            "\u001b[0;32m/usr/local/lib/python3.7/dist-packages/distributed/__init__.py\u001b[0m in \u001b[0;36m<module>\u001b[0;34m\u001b[0m\n\u001b[1;32m      1\u001b[0m \u001b[0;32mfrom\u001b[0m \u001b[0m__future__\u001b[0m \u001b[0;32mimport\u001b[0m \u001b[0mprint_function\u001b[0m\u001b[0;34m,\u001b[0m \u001b[0mdivision\u001b[0m\u001b[0;34m,\u001b[0m \u001b[0mabsolute_import\u001b[0m\u001b[0;34m\u001b[0m\u001b[0;34m\u001b[0m\u001b[0m\n\u001b[1;32m      2\u001b[0m \u001b[0;34m\u001b[0m\u001b[0m\n\u001b[0;32m----> 3\u001b[0;31m \u001b[0;32mfrom\u001b[0m \u001b[0;34m.\u001b[0m \u001b[0;32mimport\u001b[0m \u001b[0mconfig\u001b[0m\u001b[0;34m\u001b[0m\u001b[0;34m\u001b[0m\u001b[0m\n\u001b[0m\u001b[1;32m      4\u001b[0m \u001b[0;32mfrom\u001b[0m \u001b[0mdask\u001b[0m\u001b[0;34m.\u001b[0m\u001b[0mconfig\u001b[0m \u001b[0;32mimport\u001b[0m \u001b[0mconfig\u001b[0m\u001b[0;34m\u001b[0m\u001b[0;34m\u001b[0m\u001b[0m\n\u001b[1;32m      5\u001b[0m \u001b[0;32mfrom\u001b[0m \u001b[0;34m.\u001b[0m\u001b[0mactor\u001b[0m \u001b[0;32mimport\u001b[0m \u001b[0mActor\u001b[0m\u001b[0;34m,\u001b[0m \u001b[0mActorFuture\u001b[0m\u001b[0;34m\u001b[0m\u001b[0;34m\u001b[0m\u001b[0m\n",
            "\u001b[0;32m/usr/local/lib/python3.7/dist-packages/distributed/config.py\u001b[0m in \u001b[0;36m<module>\u001b[0;34m\u001b[0m\n\u001b[1;32m     18\u001b[0m \u001b[0;34m\u001b[0m\u001b[0m\n\u001b[1;32m     19\u001b[0m \u001b[0;32mwith\u001b[0m \u001b[0mopen\u001b[0m\u001b[0;34m(\u001b[0m\u001b[0mfn\u001b[0m\u001b[0;34m)\u001b[0m \u001b[0;32mas\u001b[0m \u001b[0mf\u001b[0m\u001b[0;34m:\u001b[0m\u001b[0;34m\u001b[0m\u001b[0;34m\u001b[0m\u001b[0m\n\u001b[0;32m---> 20\u001b[0;31m     \u001b[0mdefaults\u001b[0m \u001b[0;34m=\u001b[0m \u001b[0myaml\u001b[0m\u001b[0;34m.\u001b[0m\u001b[0mload\u001b[0m\u001b[0;34m(\u001b[0m\u001b[0mf\u001b[0m\u001b[0;34m)\u001b[0m\u001b[0;34m\u001b[0m\u001b[0;34m\u001b[0m\u001b[0m\n\u001b[0m\u001b[1;32m     21\u001b[0m \u001b[0;34m\u001b[0m\u001b[0m\n\u001b[1;32m     22\u001b[0m \u001b[0mdask\u001b[0m\u001b[0;34m.\u001b[0m\u001b[0mconfig\u001b[0m\u001b[0;34m.\u001b[0m\u001b[0mupdate_defaults\u001b[0m\u001b[0;34m(\u001b[0m\u001b[0mdefaults\u001b[0m\u001b[0;34m)\u001b[0m\u001b[0;34m\u001b[0m\u001b[0;34m\u001b[0m\u001b[0m\n",
            "\u001b[0;31mTypeError\u001b[0m: load() missing 1 required positional argument: 'Loader'"
          ]
        }
      ],
      "source": [
        "import pandas as pd\n",
        "import xarray as xr"
      ]
    },
    {
      "cell_type": "markdown",
      "metadata": {
        "id": "XWCUhPEjIz-w"
      },
      "source": [
        "## Functions \n",
        "\n",
        "___"
      ]
    },
    {
      "cell_type": "code",
      "execution_count": null,
      "metadata": {
        "id": "r9k6FvwXIz-x"
      },
      "outputs": [],
      "source": [
        "def TrackWithMasks(img_max, particle_diameter ,min_m, mask_include, mask_exclude):\n",
        "    f = tp.batch(img_max, diameter=particle_diameter,minmass=min_m)\n",
        "    f_list = []\n",
        "    for i in np.arange(len(f['frame'].unique())):\n",
        "        f0 = f[f['frame']==i]\n",
        "        f1 = f0.copy()\n",
        "\n",
        "        # If no masks, include everything and exclude nothing\n",
        "        if len(mask_include) == 0 :\n",
        "            mask_include1 = [[0,0],[0,10000000],[10000000,10000000],[10000000,0]]\n",
        "        else:\n",
        "            mask_include1 = mask_include\n",
        "        if len(mask_exclude) == 0:\n",
        "            mask_exclude1 = [[0,0],[0,-10],[-10,-10]]\n",
        "        else:\n",
        "            mask_exclude1 = mask_exclude\n",
        "\n",
        "        mask_in = Polygon(mask_include1)  # This is a polygon that defines the mask\n",
        "        mypts = np.transpose([f1.y,f1.x]) # These are the points detected by trackpy, notice the x/y inversion for napari\n",
        "        f1['Include']=[mask_in.contains(Point(mypts[i])) for i in np.arange(len(mypts))] # Check if pts are on/in polygon mask  \n",
        "\n",
        "        # # Label points in nucleus if polygon mask exists\n",
        "        # if polygon != None:\n",
        "        mask_out = Polygon(mask_exclude1)  # This is a polygon that defines the mask\n",
        "        f1['Exclude']=[mask_out.contains(Point(mypts[i])) for i in np.arange(len(mypts))] # Check if pts are on/in polygon mask  \n",
        "        \n",
        "        f_list.append(f1[(f1['Include']==True) & (f1['Exclude']==False)])\n",
        "    f_all = pd.concat(f_list)\n",
        "    return f_all"
      ]
    },
    {
      "cell_type": "markdown",
      "source": [
        "### Set up directories"
      ],
      "metadata": {
        "id": "mUZEgcucUHjl"
      }
    },
    {
      "cell_type": "code",
      "source": [
        "os.chdir(r'C:\\Users\\101149\\Desktop\\Code\\MovieFiles\\040522_NlsMcpGfp')"
      ],
      "metadata": {
        "colab": {
          "base_uri": "https://localhost:8080/",
          "height": 165
        },
        "id": "otu02AbLUL_N",
        "outputId": "51611f12-cc0f-44ae-b9c9-83aa76f360ae"
      },
      "execution_count": null,
      "outputs": [
        {
          "output_type": "error",
          "ename": "NameError",
          "evalue": "ignored",
          "traceback": [
            "\u001b[0;31m---------------------------------------------------------------------------\u001b[0m",
            "\u001b[0;31mNameError\u001b[0m                                 Traceback (most recent call last)",
            "\u001b[0;32m/tmp/ipykernel_700/4232223241.py\u001b[0m in \u001b[0;36m<module>\u001b[0;34m\u001b[0m\n\u001b[0;32m----> 1\u001b[0;31m \u001b[0mos\u001b[0m\u001b[0;34m.\u001b[0m\u001b[0mchdir\u001b[0m\u001b[0;34m(\u001b[0m\u001b[0;34mr'C:\\Users\\101149\\Desktop\\Code\\MovieFiles\\040522_NlsMcpGfp'\u001b[0m\u001b[0;34m)\u001b[0m\u001b[0;34m\u001b[0m\u001b[0;34m\u001b[0m\u001b[0m\n\u001b[0m",
            "\u001b[0;31mNameError\u001b[0m: name 'os' is not defined"
          ]
        }
      ]
    },
    {
      "cell_type": "code",
      "execution_count": null,
      "metadata": {
        "id": "fExvwctpIz-y"
      },
      "outputs": [],
      "source": [
        "dir = r'C:\\Users\\101149\\Desktop\\Code\\MovieFiles\\040522_NlsMcpGfp'\n",
        "#This is where the movie files are located\n",
        "\n",
        "my_output_dir = r'\\\\129.82.125.210\\TSnas2\\galindo\\1_Imaging_Data\\20220314_Cry2OligoDark_translation\\60TP_1mINT_puro\\Tracks'\n",
        "#This is where my data plots will be saved"
      ]
    },
    {
      "cell_type": "code",
      "source": [
        ""
      ],
      "metadata": {
        "id": "agaL1iMyUBJ-"
      },
      "execution_count": null,
      "outputs": []
    },
    {
      "cell_type": "markdown",
      "metadata": {
        "id": "dpB-oWWTIz-x"
      },
      "source": [
        "## Loading data (and track file, if already available)\n",
        "\n",
        "\n",
        "----"
      ]
    },
    {
      "cell_type": "code",
      "execution_count": null,
      "metadata": {
        "id": "HOwmaAswIz-y",
        "outputId": "182b70a8-7e0f-4edc-a3ca-885afe06ae10",
        "colab": {
          "base_uri": "https://localhost:8080/",
          "height": 217
        }
      },
      "outputs": [
        {
          "output_type": "error",
          "ename": "NameError",
          "evalue": "ignored",
          "traceback": [
            "\u001b[0;31m---------------------------------------------------------------------------\u001b[0m",
            "\u001b[0;31mNameError\u001b[0m                                 Traceback (most recent call last)",
            "\u001b[0;32m/tmp/ipykernel_700/1089306340.py\u001b[0m in \u001b[0;36m<module>\u001b[0;34m\u001b[0m\n\u001b[1;32m      1\u001b[0m \u001b[0;31m#Video directory\u001b[0m\u001b[0;34m\u001b[0m\u001b[0;34m\u001b[0m\u001b[0;34m\u001b[0m\u001b[0m\n\u001b[1;32m      2\u001b[0m \u001b[0mimg_4D_filename\u001b[0m \u001b[0;34m=\u001b[0m \u001b[0;34m'Cell01.tif'\u001b[0m\u001b[0;34m\u001b[0m\u001b[0;34m\u001b[0m\u001b[0m\n\u001b[0;32m----> 3\u001b[0;31m \u001b[0mimg_4D\u001b[0m \u001b[0;34m=\u001b[0m  \u001b[0mimread\u001b[0m\u001b[0;34m(\u001b[0m\u001b[0mos\u001b[0m\u001b[0;34m.\u001b[0m\u001b[0mpath\u001b[0m\u001b[0;34m.\u001b[0m\u001b[0mjoin\u001b[0m\u001b[0;34m(\u001b[0m\u001b[0mdir\u001b[0m\u001b[0;34m,\u001b[0m\u001b[0mimg_4D_filename\u001b[0m\u001b[0;34m)\u001b[0m\u001b[0;34m)\u001b[0m\u001b[0;34m\u001b[0m\u001b[0;34m\u001b[0m\u001b[0m\n\u001b[0m\u001b[1;32m      4\u001b[0m \u001b[0mimg_4D\u001b[0m\u001b[0;34m.\u001b[0m\u001b[0mshape\u001b[0m\u001b[0;34m\u001b[0m\u001b[0;34m\u001b[0m\u001b[0m\n",
            "\u001b[0;31mNameError\u001b[0m: name 'imread' is not defined"
          ]
        }
      ],
      "source": [
        "#Video directory\n",
        "img_4D_filename = 'Cell01.tif'\n",
        "img_4D =  imread(os.path.join(dir,img_4D_filename))\n",
        "img_4D.shape"
      ]
    },
    {
      "cell_type": "code",
      "execution_count": null,
      "metadata": {
        "id": "PrJwv-uvIz-y",
        "outputId": "92d7b512-965b-4e3b-b98c-ccdfe59ffbe6"
      },
      "outputs": [
        {
          "name": "stdout",
          "output_type": "stream",
          "text": [
            "croparray format shape [fov, f , z, y, x, ch] =  (1, 60, 13, 512, 512, 3)\n"
          ]
        }
      ],
      "source": [
        "# Converting the video to Croparray format\n",
        "img_croparray = np.expand_dims(img_4D,axis=0) \n",
        "\n",
        "\n",
        "#if you need to reorder dimensions\n",
        "#img_croparray1 = np.expand_dims(img_4D,axis=0) \n",
        "#img_croparray = img_croparray1.transpose([0,1,2,4,5,3]) # dimensions MUST be (fov, f , z, y, x, ch)\n",
        "\n",
        "\n",
        "print(\"croparray format shape [fov, f , z, y, x, ch] = \", img_croparray.shape)"
      ]
    },
    {
      "cell_type": "markdown",
      "metadata": {
        "id": "jqfOMegRIz-z"
      },
      "source": [
        "## Optional tracking: Max projection, masking, and tracking\n",
        "\n",
        "\n",
        "----"
      ]
    },
    {
      "cell_type": "markdown",
      "metadata": {
        "id": "f4e3yuM3Iz-z"
      },
      "source": [
        "Just view video to determine what are the best z planes"
      ]
    },
    {
      "cell_type": "code",
      "execution_count": null,
      "metadata": {
        "id": "Vu81J3ykIz-z"
      },
      "outputs": [],
      "source": [
        "viewer1 = napari.view_image(img_croparray[0,:,:,:,:,1])"
      ]
    },
    {
      "cell_type": "markdown",
      "metadata": {
        "id": "uPXop0vDIz-z"
      },
      "source": [
        "Now do max-projection on best-z planes"
      ]
    },
    {
      "cell_type": "code",
      "execution_count": null,
      "metadata": {
        "id": "DHIt0MwQIz-z",
        "outputId": "2b9ebcfe-c05e-4469-f12d-ee0ba7045f26"
      },
      "outputs": [
        {
          "data": {
            "text/plain": [
              "(65, 512, 512)"
            ]
          },
          "execution_count": 513,
          "metadata": {},
          "output_type": "execute_result"
        }
      ],
      "source": [
        "best_zs = [2,10]\n",
        "img_max = np.max(img_croparray[0,:,best_zs[0]:best_zs[1],:,:,1],axis=1)\n",
        "img_max.shape"
      ]
    },
    {
      "cell_type": "markdown",
      "metadata": {
        "id": "_ebBJ0pvIz-0"
      },
      "source": [
        "Now you can create a mask to exclude regions: Shapes will be excluded and Shapes [1] will be included in tracks"
      ]
    },
    {
      "cell_type": "code",
      "execution_count": null,
      "metadata": {
        "id": "UMSyoltcIz-0"
      },
      "outputs": [],
      "source": [
        "viewer2 = napari.view_image(np.max(img_max,axis=0))  # Max of max, should be a single frame"
      ]
    },
    {
      "cell_type": "code",
      "execution_count": null,
      "metadata": {
        "id": "Y39PHUeHIz-0",
        "outputId": "2851bf16-694e-4cd2-c892-56ca2c33e21e"
      },
      "outputs": [
        {
          "data": {
            "text/plain": [
              "<Points layer 'Spots all frames' at 0x18ee588ce50>"
            ]
          },
          "execution_count": 516,
          "metadata": {},
          "output_type": "execute_result"
        }
      ],
      "source": [
        "# Use this if you don't have a mask:\n",
        "# f_all = TrackWithMasks(img_max,7,1000,[],[])\n",
        "particle_diameter = 7\n",
        "min_mass = 500\n",
        "viewer3 = napari.view_image(img_max)\n",
        "f_all = TrackWithMasks(img_max,particle_diameter,min_mass,viewer2.layers['Shapes [1]'].data[0][:,-2:],viewer2.layers['Shapes'].data[0][:,-2:])\n",
        "data = f_all[['frame','y','x']].values\n",
        "layer_name = 'Spots all frames'\n",
        "viewer3.add_points(data, size = 12, face_color='transparent', edge_color = 'yellow', symbol='disc', name = layer_name)"
      ]
    },
    {
      "cell_type": "code",
      "execution_count": null,
      "metadata": {
        "id": "e9uO_s5hIz-0"
      },
      "outputs": [],
      "source": [
        "f_all.to_csv(os.path.join(my_output_dir,img_4D_filename[:-4]+'.csv'))"
      ]
    },
    {
      "cell_type": "markdown",
      "metadata": {
        "id": "pJkzSb3dIz-0"
      },
      "source": [
        "Convert f to crop_array format"
      ]
    },
    {
      "cell_type": "code",
      "execution_count": null,
      "metadata": {
        "id": "S1o3jNr7Iz-0",
        "outputId": "a7ed27cc-db0e-41b0-be86-45128f3cf026"
      },
      "outputs": [
        {
          "data": {
            "text/html": [
              "<div>\n",
              "<style scoped>\n",
              "    .dataframe tbody tr th:only-of-type {\n",
              "        vertical-align: middle;\n",
              "    }\n",
              "\n",
              "    .dataframe tbody tr th {\n",
              "        vertical-align: top;\n",
              "    }\n",
              "\n",
              "    .dataframe thead th {\n",
              "        text-align: right;\n",
              "    }\n",
              "</style>\n",
              "<table border=\"1\" class=\"dataframe\">\n",
              "  <thead>\n",
              "    <tr style=\"text-align: right;\">\n",
              "      <th></th>\n",
              "      <th>fov</th>\n",
              "      <th>id</th>\n",
              "      <th>f</th>\n",
              "      <th>yc</th>\n",
              "      <th>xc</th>\n",
              "      <th>signal_tp</th>\n",
              "      <th>Include</th>\n",
              "      <th>Exclude</th>\n",
              "    </tr>\n",
              "  </thead>\n",
              "  <tbody>\n",
              "    <tr>\n",
              "      <th>32</th>\n",
              "      <td>0</td>\n",
              "      <td>32</td>\n",
              "      <td>0</td>\n",
              "      <td>165.834988</td>\n",
              "      <td>223.259580</td>\n",
              "      <td>80.621203</td>\n",
              "      <td>True</td>\n",
              "      <td>False</td>\n",
              "    </tr>\n",
              "    <tr>\n",
              "      <th>35</th>\n",
              "      <td>0</td>\n",
              "      <td>35</td>\n",
              "      <td>0</td>\n",
              "      <td>169.013864</td>\n",
              "      <td>231.993179</td>\n",
              "      <td>84.027100</td>\n",
              "      <td>True</td>\n",
              "      <td>False</td>\n",
              "    </tr>\n",
              "    <tr>\n",
              "      <th>38</th>\n",
              "      <td>0</td>\n",
              "      <td>38</td>\n",
              "      <td>0</td>\n",
              "      <td>176.927009</td>\n",
              "      <td>223.559664</td>\n",
              "      <td>84.843132</td>\n",
              "      <td>True</td>\n",
              "      <td>False</td>\n",
              "    </tr>\n",
              "    <tr>\n",
              "      <th>40</th>\n",
              "      <td>0</td>\n",
              "      <td>40</td>\n",
              "      <td>0</td>\n",
              "      <td>178.794352</td>\n",
              "      <td>206.546841</td>\n",
              "      <td>82.000851</td>\n",
              "      <td>True</td>\n",
              "      <td>False</td>\n",
              "    </tr>\n",
              "    <tr>\n",
              "      <th>41</th>\n",
              "      <td>0</td>\n",
              "      <td>41</td>\n",
              "      <td>0</td>\n",
              "      <td>180.359872</td>\n",
              "      <td>192.072625</td>\n",
              "      <td>77.564541</td>\n",
              "      <td>True</td>\n",
              "      <td>False</td>\n",
              "    </tr>\n",
              "  </tbody>\n",
              "</table>\n",
              "</div>"
            ],
            "text/plain": [
              "    fov  id  f          yc          xc  signal_tp  Include  Exclude\n",
              "32    0  32  0  165.834988  223.259580  80.621203     True    False\n",
              "35    0  35  0  169.013864  231.993179  84.027100     True    False\n",
              "38    0  38  0  176.927009  223.559664  84.843132     True    False\n",
              "40    0  40  0  178.794352  206.546841  82.000851     True    False\n",
              "41    0  41  0  180.359872  192.072625  77.564541     True    False"
            ]
          },
          "execution_count": 518,
          "metadata": {},
          "output_type": "execute_result"
        }
      ],
      "source": [
        "#only if you didn't track:\n",
        "spots = f_all.copy() # Nice to copy; seems it can cause to overwrite otherwise\n",
        "spots['id']=spots.index\n",
        "spots.rename(columns={'x': 'xc','y': 'yc', 'frame': 'f','signal':'signal_tp'}, \n",
        "inplace=True, errors='raise')\n",
        "spots['fov']=0\n",
        "spots.rename(columns={'particle':'id'})\n",
        "spots = spots[['fov','id','f','yc','xc','signal_tp','Include','Exclude']] # keeping signal out of curiousity... want to compare to disk-donut measurements  \n",
        "spots.head()"
      ]
    },
    {
      "cell_type": "markdown",
      "metadata": {
        "id": "ncgy3oZyIz-1"
      },
      "source": [
        "## Create Crop Array\n",
        "____"
      ]
    },
    {
      "cell_type": "markdown",
      "metadata": {
        "id": "4_7g33bdIz-1"
      },
      "source": [
        "Create a crop array from 4D movie"
      ]
    },
    {
      "cell_type": "code",
      "execution_count": null,
      "metadata": {
        "id": "lgHhw-L-Iz-1",
        "outputId": "89137169-03ae-4cb2-ce45-ed96fa874470"
      },
      "outputs": [
        {
          "data": {
            "text/html": [
              "<div>\n",
              "<style scoped>\n",
              "    .dataframe tbody tr th:only-of-type {\n",
              "        vertical-align: middle;\n",
              "    }\n",
              "\n",
              "    .dataframe tbody tr th {\n",
              "        vertical-align: top;\n",
              "    }\n",
              "\n",
              "    .dataframe thead th {\n",
              "        text-align: right;\n",
              "    }\n",
              "</style>\n",
              "<table border=\"1\" class=\"dataframe\">\n",
              "  <thead>\n",
              "    <tr style=\"text-align: right;\">\n",
              "      <th></th>\n",
              "      <th>Label</th>\n",
              "      <th>ID</th>\n",
              "      <th>TRACK_ID</th>\n",
              "      <th>QUALITY</th>\n",
              "      <th>POSITION_X</th>\n",
              "      <th>POSITION_Y</th>\n",
              "      <th>POSITION_Z</th>\n",
              "      <th>POSITION_T</th>\n",
              "      <th>FRAME</th>\n",
              "      <th>RADIUS</th>\n",
              "      <th>...</th>\n",
              "      <th>MANUAL_COLOR</th>\n",
              "      <th>MEAN_INTENSITY</th>\n",
              "      <th>MEDIAN_INTENSITY</th>\n",
              "      <th>MIN_INTENSITY</th>\n",
              "      <th>MAX_INTENSITY</th>\n",
              "      <th>TOTAL_INTENSITY</th>\n",
              "      <th>STANDARD_DEVIATION</th>\n",
              "      <th>ESTIMATED_DIAMETER</th>\n",
              "      <th>CONTRAST</th>\n",
              "      <th>SNR</th>\n",
              "    </tr>\n",
              "  </thead>\n",
              "  <tbody>\n",
              "    <tr>\n",
              "      <th>0</th>\n",
              "      <td>ID2549</td>\n",
              "      <td>2549</td>\n",
              "      <td>0</td>\n",
              "      <td>-1.000</td>\n",
              "      <td>307.000</td>\n",
              "      <td>326.000</td>\n",
              "      <td>0</td>\n",
              "      <td>0</td>\n",
              "      <td>0</td>\n",
              "      <td>5</td>\n",
              "      <td>...</td>\n",
              "      <td>-10921639</td>\n",
              "      <td>1763.515</td>\n",
              "      <td>1737</td>\n",
              "      <td>1483</td>\n",
              "      <td>2613</td>\n",
              "      <td>171061</td>\n",
              "      <td>181.623</td>\n",
              "      <td>2.000</td>\n",
              "      <td>0.026</td>\n",
              "      <td>0.494</td>\n",
              "    </tr>\n",
              "    <tr>\n",
              "      <th>1</th>\n",
              "      <td>ID2564</td>\n",
              "      <td>2564</td>\n",
              "      <td>0</td>\n",
              "      <td>23.054</td>\n",
              "      <td>300.727</td>\n",
              "      <td>324.727</td>\n",
              "      <td>0</td>\n",
              "      <td>1</td>\n",
              "      <td>1</td>\n",
              "      <td>5</td>\n",
              "      <td>...</td>\n",
              "      <td>-10921639</td>\n",
              "      <td>1799.660</td>\n",
              "      <td>1774</td>\n",
              "      <td>1379</td>\n",
              "      <td>2583</td>\n",
              "      <td>174567</td>\n",
              "      <td>202.110</td>\n",
              "      <td>17.822</td>\n",
              "      <td>0.024</td>\n",
              "      <td>0.415</td>\n",
              "    </tr>\n",
              "    <tr>\n",
              "      <th>2</th>\n",
              "      <td>NaN</td>\n",
              "      <td>2569</td>\n",
              "      <td>0</td>\n",
              "      <td>22.361</td>\n",
              "      <td>303.614</td>\n",
              "      <td>325.026</td>\n",
              "      <td>0</td>\n",
              "      <td>2</td>\n",
              "      <td>2</td>\n",
              "      <td>5</td>\n",
              "      <td>...</td>\n",
              "      <td>-10921639</td>\n",
              "      <td>1727.639</td>\n",
              "      <td>1702</td>\n",
              "      <td>1457</td>\n",
              "      <td>2568</td>\n",
              "      <td>167581</td>\n",
              "      <td>202.306</td>\n",
              "      <td>2.000</td>\n",
              "      <td>0.023</td>\n",
              "      <td>0.379</td>\n",
              "    </tr>\n",
              "    <tr>\n",
              "      <th>3</th>\n",
              "      <td>ID2574</td>\n",
              "      <td>2574</td>\n",
              "      <td>0</td>\n",
              "      <td>-1.000</td>\n",
              "      <td>304.167</td>\n",
              "      <td>340.500</td>\n",
              "      <td>0</td>\n",
              "      <td>0</td>\n",
              "      <td>3</td>\n",
              "      <td>5</td>\n",
              "      <td>...</td>\n",
              "      <td>-10921639</td>\n",
              "      <td>1513.763</td>\n",
              "      <td>1467</td>\n",
              "      <td>1157</td>\n",
              "      <td>2365</td>\n",
              "      <td>146835</td>\n",
              "      <td>230.768</td>\n",
              "      <td>2.000</td>\n",
              "      <td>0.044</td>\n",
              "      <td>0.557</td>\n",
              "    </tr>\n",
              "    <tr>\n",
              "      <th>4</th>\n",
              "      <td>ID2582</td>\n",
              "      <td>2582</td>\n",
              "      <td>0</td>\n",
              "      <td>5.732</td>\n",
              "      <td>297.667</td>\n",
              "      <td>353.667</td>\n",
              "      <td>0</td>\n",
              "      <td>0</td>\n",
              "      <td>4</td>\n",
              "      <td>5</td>\n",
              "      <td>...</td>\n",
              "      <td>-10921639</td>\n",
              "      <td>1312.113</td>\n",
              "      <td>1250</td>\n",
              "      <td>976</td>\n",
              "      <td>2296</td>\n",
              "      <td>127275</td>\n",
              "      <td>243.941</td>\n",
              "      <td>2.000</td>\n",
              "      <td>0.060</td>\n",
              "      <td>0.607</td>\n",
              "    </tr>\n",
              "    <tr>\n",
              "      <th>...</th>\n",
              "      <td>...</td>\n",
              "      <td>...</td>\n",
              "      <td>...</td>\n",
              "      <td>...</td>\n",
              "      <td>...</td>\n",
              "      <td>...</td>\n",
              "      <td>...</td>\n",
              "      <td>...</td>\n",
              "      <td>...</td>\n",
              "      <td>...</td>\n",
              "      <td>...</td>\n",
              "      <td>...</td>\n",
              "      <td>...</td>\n",
              "      <td>...</td>\n",
              "      <td>...</td>\n",
              "      <td>...</td>\n",
              "      <td>...</td>\n",
              "      <td>...</td>\n",
              "      <td>...</td>\n",
              "      <td>...</td>\n",
              "      <td>...</td>\n",
              "    </tr>\n",
              "    <tr>\n",
              "      <th>184</th>\n",
              "      <td>ID4441</td>\n",
              "      <td>4441</td>\n",
              "      <td>32</td>\n",
              "      <td>23.789</td>\n",
              "      <td>312.729</td>\n",
              "      <td>181.188</td>\n",
              "      <td>0</td>\n",
              "      <td>48</td>\n",
              "      <td>48</td>\n",
              "      <td>5</td>\n",
              "      <td>...</td>\n",
              "      <td>-10921639</td>\n",
              "      <td>1284.835</td>\n",
              "      <td>1259</td>\n",
              "      <td>1033</td>\n",
              "      <td>2235</td>\n",
              "      <td>124629</td>\n",
              "      <td>182.452</td>\n",
              "      <td>2.000</td>\n",
              "      <td>0.036</td>\n",
              "      <td>0.491</td>\n",
              "    </tr>\n",
              "    <tr>\n",
              "      <th>185</th>\n",
              "      <td>ID4445</td>\n",
              "      <td>4445</td>\n",
              "      <td>32</td>\n",
              "      <td>22.705</td>\n",
              "      <td>315.540</td>\n",
              "      <td>182.531</td>\n",
              "      <td>0</td>\n",
              "      <td>49</td>\n",
              "      <td>49</td>\n",
              "      <td>5</td>\n",
              "      <td>...</td>\n",
              "      <td>-10921639</td>\n",
              "      <td>1280.918</td>\n",
              "      <td>1245</td>\n",
              "      <td>997</td>\n",
              "      <td>2086</td>\n",
              "      <td>124249</td>\n",
              "      <td>175.467</td>\n",
              "      <td>17.758</td>\n",
              "      <td>0.028</td>\n",
              "      <td>0.403</td>\n",
              "    </tr>\n",
              "    <tr>\n",
              "      <th>186</th>\n",
              "      <td>ID4448</td>\n",
              "      <td>4448</td>\n",
              "      <td>32</td>\n",
              "      <td>28.786</td>\n",
              "      <td>316.932</td>\n",
              "      <td>181.808</td>\n",
              "      <td>0</td>\n",
              "      <td>50</td>\n",
              "      <td>50</td>\n",
              "      <td>5</td>\n",
              "      <td>...</td>\n",
              "      <td>-10921639</td>\n",
              "      <td>1298.196</td>\n",
              "      <td>1245</td>\n",
              "      <td>1037</td>\n",
              "      <td>1850</td>\n",
              "      <td>125925</td>\n",
              "      <td>192.508</td>\n",
              "      <td>2.000</td>\n",
              "      <td>0.047</td>\n",
              "      <td>0.606</td>\n",
              "    </tr>\n",
              "    <tr>\n",
              "      <th>187</th>\n",
              "      <td>ID4451</td>\n",
              "      <td>4451</td>\n",
              "      <td>32</td>\n",
              "      <td>23.739</td>\n",
              "      <td>319.336</td>\n",
              "      <td>186.573</td>\n",
              "      <td>0</td>\n",
              "      <td>51</td>\n",
              "      <td>51</td>\n",
              "      <td>5</td>\n",
              "      <td>...</td>\n",
              "      <td>-10921639</td>\n",
              "      <td>1338.371</td>\n",
              "      <td>1326</td>\n",
              "      <td>994</td>\n",
              "      <td>2079</td>\n",
              "      <td>129822</td>\n",
              "      <td>171.245</td>\n",
              "      <td>4.926</td>\n",
              "      <td>0.036</td>\n",
              "      <td>0.540</td>\n",
              "    </tr>\n",
              "    <tr>\n",
              "      <th>188</th>\n",
              "      <td>ID4454</td>\n",
              "      <td>4454</td>\n",
              "      <td>32</td>\n",
              "      <td>24.842</td>\n",
              "      <td>320.594</td>\n",
              "      <td>180.495</td>\n",
              "      <td>0</td>\n",
              "      <td>52</td>\n",
              "      <td>52</td>\n",
              "      <td>5</td>\n",
              "      <td>...</td>\n",
              "      <td>-10921639</td>\n",
              "      <td>1249.918</td>\n",
              "      <td>1205</td>\n",
              "      <td>968</td>\n",
              "      <td>2047</td>\n",
              "      <td>121242</td>\n",
              "      <td>184.355</td>\n",
              "      <td>2.900</td>\n",
              "      <td>0.036</td>\n",
              "      <td>0.473</td>\n",
              "    </tr>\n",
              "  </tbody>\n",
              "</table>\n",
              "<p>189 rows × 21 columns</p>\n",
              "</div>"
            ],
            "text/plain": [
              "      Label    ID  TRACK_ID  QUALITY  POSITION_X  POSITION_Y  POSITION_Z  \\\n",
              "0    ID2549  2549         0   -1.000     307.000     326.000           0   \n",
              "1    ID2564  2564         0   23.054     300.727     324.727           0   \n",
              "2       NaN  2569         0   22.361     303.614     325.026           0   \n",
              "3    ID2574  2574         0   -1.000     304.167     340.500           0   \n",
              "4    ID2582  2582         0    5.732     297.667     353.667           0   \n",
              "..      ...   ...       ...      ...         ...         ...         ...   \n",
              "184  ID4441  4441        32   23.789     312.729     181.188           0   \n",
              "185  ID4445  4445        32   22.705     315.540     182.531           0   \n",
              "186  ID4448  4448        32   28.786     316.932     181.808           0   \n",
              "187  ID4451  4451        32   23.739     319.336     186.573           0   \n",
              "188  ID4454  4454        32   24.842     320.594     180.495           0   \n",
              "\n",
              "     POSITION_T  FRAME  RADIUS  ...  MANUAL_COLOR  MEAN_INTENSITY  \\\n",
              "0             0      0       5  ...     -10921639        1763.515   \n",
              "1             1      1       5  ...     -10921639        1799.660   \n",
              "2             2      2       5  ...     -10921639        1727.639   \n",
              "3             0      3       5  ...     -10921639        1513.763   \n",
              "4             0      4       5  ...     -10921639        1312.113   \n",
              "..          ...    ...     ...  ...           ...             ...   \n",
              "184          48     48       5  ...     -10921639        1284.835   \n",
              "185          49     49       5  ...     -10921639        1280.918   \n",
              "186          50     50       5  ...     -10921639        1298.196   \n",
              "187          51     51       5  ...     -10921639        1338.371   \n",
              "188          52     52       5  ...     -10921639        1249.918   \n",
              "\n",
              "     MEDIAN_INTENSITY  MIN_INTENSITY  MAX_INTENSITY  TOTAL_INTENSITY  \\\n",
              "0                1737           1483           2613           171061   \n",
              "1                1774           1379           2583           174567   \n",
              "2                1702           1457           2568           167581   \n",
              "3                1467           1157           2365           146835   \n",
              "4                1250            976           2296           127275   \n",
              "..                ...            ...            ...              ...   \n",
              "184              1259           1033           2235           124629   \n",
              "185              1245            997           2086           124249   \n",
              "186              1245           1037           1850           125925   \n",
              "187              1326            994           2079           129822   \n",
              "188              1205            968           2047           121242   \n",
              "\n",
              "     STANDARD_DEVIATION  ESTIMATED_DIAMETER  CONTRAST    SNR  \n",
              "0               181.623               2.000     0.026  0.494  \n",
              "1               202.110              17.822     0.024  0.415  \n",
              "2               202.306               2.000     0.023  0.379  \n",
              "3               230.768               2.000     0.044  0.557  \n",
              "4               243.941               2.000     0.060  0.607  \n",
              "..                  ...                 ...       ...    ...  \n",
              "184             182.452               2.000     0.036  0.491  \n",
              "185             175.467              17.758     0.028  0.403  \n",
              "186             192.508               2.000     0.047  0.606  \n",
              "187             171.245               4.926     0.036  0.540  \n",
              "188             184.355               2.900     0.036  0.473  \n",
              "\n",
              "[189 rows x 21 columns]"
            ]
          },
          "execution_count": 716,
          "metadata": {},
          "output_type": "execute_result"
        }
      ],
      "source": [
        "spots0 = pd.read_csv(os.path.join(my_output_dir,'Spots_Cell03.csv'))\n",
        "\n",
        "#test = trackmate_peak_import(os.path.join(dir+'\\Tracks\\Spots_Cell03.xml'))\n",
        "spots0"
      ]
    },
    {
      "cell_type": "code",
      "execution_count": null,
      "metadata": {
        "id": "MZEpIigfIz-1",
        "outputId": "0fdf18be-6555-4716-c343-d98ba1088c51"
      },
      "outputs": [
        {
          "data": {
            "text/html": [
              "<div>\n",
              "<style scoped>\n",
              "    .dataframe tbody tr th:only-of-type {\n",
              "        vertical-align: middle;\n",
              "    }\n",
              "\n",
              "    .dataframe tbody tr th {\n",
              "        vertical-align: top;\n",
              "    }\n",
              "\n",
              "    .dataframe thead th {\n",
              "        text-align: right;\n",
              "    }\n",
              "</style>\n",
              "<table border=\"1\" class=\"dataframe\">\n",
              "  <thead>\n",
              "    <tr style=\"text-align: right;\">\n",
              "      <th></th>\n",
              "      <th>fov</th>\n",
              "      <th>id</th>\n",
              "      <th>f</th>\n",
              "      <th>yc</th>\n",
              "      <th>xc</th>\n",
              "      <th>signal_tp</th>\n",
              "    </tr>\n",
              "  </thead>\n",
              "  <tbody>\n",
              "    <tr>\n",
              "      <th>0</th>\n",
              "      <td>0</td>\n",
              "      <td>0</td>\n",
              "      <td>0</td>\n",
              "      <td>326.000</td>\n",
              "      <td>307.000</td>\n",
              "      <td>171061</td>\n",
              "    </tr>\n",
              "    <tr>\n",
              "      <th>1</th>\n",
              "      <td>0</td>\n",
              "      <td>0</td>\n",
              "      <td>1</td>\n",
              "      <td>324.727</td>\n",
              "      <td>300.727</td>\n",
              "      <td>174567</td>\n",
              "    </tr>\n",
              "    <tr>\n",
              "      <th>2</th>\n",
              "      <td>0</td>\n",
              "      <td>0</td>\n",
              "      <td>2</td>\n",
              "      <td>325.026</td>\n",
              "      <td>303.614</td>\n",
              "      <td>167581</td>\n",
              "    </tr>\n",
              "    <tr>\n",
              "      <th>3</th>\n",
              "      <td>0</td>\n",
              "      <td>0</td>\n",
              "      <td>3</td>\n",
              "      <td>340.500</td>\n",
              "      <td>304.167</td>\n",
              "      <td>146835</td>\n",
              "    </tr>\n",
              "    <tr>\n",
              "      <th>4</th>\n",
              "      <td>0</td>\n",
              "      <td>0</td>\n",
              "      <td>4</td>\n",
              "      <td>353.667</td>\n",
              "      <td>297.667</td>\n",
              "      <td>127275</td>\n",
              "    </tr>\n",
              "  </tbody>\n",
              "</table>\n",
              "</div>"
            ],
            "text/plain": [
              "   fov  id  f       yc       xc  signal_tp\n",
              "0    0   0  0  326.000  307.000     171061\n",
              "1    0   0  1  324.727  300.727     174567\n",
              "2    0   0  2  325.026  303.614     167581\n",
              "3    0   0  3  340.500  304.167     146835\n",
              "4    0   0  4  353.667  297.667     127275"
            ]
          },
          "execution_count": 717,
          "metadata": {},
          "output_type": "execute_result"
        }
      ],
      "source": [
        "# spots0['TRACK_ID2']=spots0['TRACK_ID']+1 # so tracks don't have ID = 0\n",
        "# # If you tracked with trackmate use this\n",
        "spots = spots0.copy() # Nice to copy; seems it can cause to overwrite otherwise\n",
        "spots.rename(columns={'POSITION_X': 'xc','POSITION_Y': 'yc','TRACK_ID':'id','TOTAL_INTENSITY':'signal_tp','FRAME':'f'}, \n",
        "inplace=True, errors='raise')\n",
        "spots['fov']=0\n",
        "spots = spots[['fov','id','f','yc','xc','signal_tp']] # keeping signal out of curiousity... want to compare to disk-donut measurements  \n",
        "spots.head()"
      ]
    },
    {
      "cell_type": "code",
      "execution_count": null,
      "metadata": {
        "id": "t4kJyb--Iz-1",
        "outputId": "494cf89f-a9a3-4168-bddc-f6ab2aade4df"
      },
      "outputs": [
        {
          "name": "stdout",
          "output_type": "stream",
          "text": [
            "Original video dimensions:  (1, 60, 13, 512, 512, 3)\n",
            "Padded video dimensions:  (1, 60, 13, 524, 524, 3)\n",
            "Max # of spots per frame:  5\n",
            "Shape of numpy array to hold all crop intensity data:  (1, 5, 60, 13, 11, 11, 3)\n",
            "Shape of xc and yc numpy arrays:  (1, 5, 60, 3)\n",
            "Shape of extra my_layers numpy array:  (2, 1, 5, 60)\n"
          ]
        },
        {
          "data": {
            "text/html": [
              "<div><svg style=\"position: absolute; width: 0; height: 0; overflow: hidden\">\n",
              "<defs>\n",
              "<symbol id=\"icon-database\" viewBox=\"0 0 32 32\">\n",
              "<path d=\"M16 0c-8.837 0-16 2.239-16 5v4c0 2.761 7.163 5 16 5s16-2.239 16-5v-4c0-2.761-7.163-5-16-5z\"></path>\n",
              "<path d=\"M16 17c-8.837 0-16-2.239-16-5v6c0 2.761 7.163 5 16 5s16-2.239 16-5v-6c0 2.761-7.163 5-16 5z\"></path>\n",
              "<path d=\"M16 26c-8.837 0-16-2.239-16-5v6c0 2.761 7.163 5 16 5s16-2.239 16-5v-6c0 2.761-7.163 5-16 5z\"></path>\n",
              "</symbol>\n",
              "<symbol id=\"icon-file-text2\" viewBox=\"0 0 32 32\">\n",
              "<path d=\"M28.681 7.159c-0.694-0.947-1.662-2.053-2.724-3.116s-2.169-2.030-3.116-2.724c-1.612-1.182-2.393-1.319-2.841-1.319h-15.5c-1.378 0-2.5 1.121-2.5 2.5v27c0 1.378 1.122 2.5 2.5 2.5h23c1.378 0 2.5-1.122 2.5-2.5v-19.5c0-0.448-0.137-1.23-1.319-2.841zM24.543 5.457c0.959 0.959 1.712 1.825 2.268 2.543h-4.811v-4.811c0.718 0.556 1.584 1.309 2.543 2.268zM28 29.5c0 0.271-0.229 0.5-0.5 0.5h-23c-0.271 0-0.5-0.229-0.5-0.5v-27c0-0.271 0.229-0.5 0.5-0.5 0 0 15.499-0 15.5 0v7c0 0.552 0.448 1 1 1h7v19.5z\"></path>\n",
              "<path d=\"M23 26h-14c-0.552 0-1-0.448-1-1s0.448-1 1-1h14c0.552 0 1 0.448 1 1s-0.448 1-1 1z\"></path>\n",
              "<path d=\"M23 22h-14c-0.552 0-1-0.448-1-1s0.448-1 1-1h14c0.552 0 1 0.448 1 1s-0.448 1-1 1z\"></path>\n",
              "<path d=\"M23 18h-14c-0.552 0-1-0.448-1-1s0.448-1 1-1h14c0.552 0 1 0.448 1 1s-0.448 1-1 1z\"></path>\n",
              "</symbol>\n",
              "</defs>\n",
              "</svg>\n",
              "<style>/* CSS stylesheet for displaying xarray objects in jupyterlab.\n",
              " *\n",
              " */\n",
              "\n",
              ":root {\n",
              "  --xr-font-color0: var(--jp-content-font-color0, rgba(0, 0, 0, 1));\n",
              "  --xr-font-color2: var(--jp-content-font-color2, rgba(0, 0, 0, 0.54));\n",
              "  --xr-font-color3: var(--jp-content-font-color3, rgba(0, 0, 0, 0.38));\n",
              "  --xr-border-color: var(--jp-border-color2, #e0e0e0);\n",
              "  --xr-disabled-color: var(--jp-layout-color3, #bdbdbd);\n",
              "  --xr-background-color: var(--jp-layout-color0, white);\n",
              "  --xr-background-color-row-even: var(--jp-layout-color1, white);\n",
              "  --xr-background-color-row-odd: var(--jp-layout-color2, #eeeeee);\n",
              "}\n",
              "\n",
              "html[theme=dark],\n",
              "body.vscode-dark {\n",
              "  --xr-font-color0: rgba(255, 255, 255, 1);\n",
              "  --xr-font-color2: rgba(255, 255, 255, 0.54);\n",
              "  --xr-font-color3: rgba(255, 255, 255, 0.38);\n",
              "  --xr-border-color: #1F1F1F;\n",
              "  --xr-disabled-color: #515151;\n",
              "  --xr-background-color: #111111;\n",
              "  --xr-background-color-row-even: #111111;\n",
              "  --xr-background-color-row-odd: #313131;\n",
              "}\n",
              "\n",
              ".xr-wrap {\n",
              "  display: block;\n",
              "  min-width: 300px;\n",
              "  max-width: 700px;\n",
              "}\n",
              "\n",
              ".xr-text-repr-fallback {\n",
              "  /* fallback to plain text repr when CSS is not injected (untrusted notebook) */\n",
              "  display: none;\n",
              "}\n",
              "\n",
              ".xr-header {\n",
              "  padding-top: 6px;\n",
              "  padding-bottom: 6px;\n",
              "  margin-bottom: 4px;\n",
              "  border-bottom: solid 1px var(--xr-border-color);\n",
              "}\n",
              "\n",
              ".xr-header > div,\n",
              ".xr-header > ul {\n",
              "  display: inline;\n",
              "  margin-top: 0;\n",
              "  margin-bottom: 0;\n",
              "}\n",
              "\n",
              ".xr-obj-type,\n",
              ".xr-array-name {\n",
              "  margin-left: 2px;\n",
              "  margin-right: 10px;\n",
              "}\n",
              "\n",
              ".xr-obj-type {\n",
              "  color: var(--xr-font-color2);\n",
              "}\n",
              "\n",
              ".xr-sections {\n",
              "  padding-left: 0 !important;\n",
              "  display: grid;\n",
              "  grid-template-columns: 150px auto auto 1fr 20px 20px;\n",
              "}\n",
              "\n",
              ".xr-section-item {\n",
              "  display: contents;\n",
              "}\n",
              "\n",
              ".xr-section-item input {\n",
              "  display: none;\n",
              "}\n",
              "\n",
              ".xr-section-item input + label {\n",
              "  color: var(--xr-disabled-color);\n",
              "}\n",
              "\n",
              ".xr-section-item input:enabled + label {\n",
              "  cursor: pointer;\n",
              "  color: var(--xr-font-color2);\n",
              "}\n",
              "\n",
              ".xr-section-item input:enabled + label:hover {\n",
              "  color: var(--xr-font-color0);\n",
              "}\n",
              "\n",
              ".xr-section-summary {\n",
              "  grid-column: 1;\n",
              "  color: var(--xr-font-color2);\n",
              "  font-weight: 500;\n",
              "}\n",
              "\n",
              ".xr-section-summary > span {\n",
              "  display: inline-block;\n",
              "  padding-left: 0.5em;\n",
              "}\n",
              "\n",
              ".xr-section-summary-in:disabled + label {\n",
              "  color: var(--xr-font-color2);\n",
              "}\n",
              "\n",
              ".xr-section-summary-in + label:before {\n",
              "  display: inline-block;\n",
              "  content: '►';\n",
              "  font-size: 11px;\n",
              "  width: 15px;\n",
              "  text-align: center;\n",
              "}\n",
              "\n",
              ".xr-section-summary-in:disabled + label:before {\n",
              "  color: var(--xr-disabled-color);\n",
              "}\n",
              "\n",
              ".xr-section-summary-in:checked + label:before {\n",
              "  content: '▼';\n",
              "}\n",
              "\n",
              ".xr-section-summary-in:checked + label > span {\n",
              "  display: none;\n",
              "}\n",
              "\n",
              ".xr-section-summary,\n",
              ".xr-section-inline-details {\n",
              "  padding-top: 4px;\n",
              "  padding-bottom: 4px;\n",
              "}\n",
              "\n",
              ".xr-section-inline-details {\n",
              "  grid-column: 2 / -1;\n",
              "}\n",
              "\n",
              ".xr-section-details {\n",
              "  display: none;\n",
              "  grid-column: 1 / -1;\n",
              "  margin-bottom: 5px;\n",
              "}\n",
              "\n",
              ".xr-section-summary-in:checked ~ .xr-section-details {\n",
              "  display: contents;\n",
              "}\n",
              "\n",
              ".xr-array-wrap {\n",
              "  grid-column: 1 / -1;\n",
              "  display: grid;\n",
              "  grid-template-columns: 20px auto;\n",
              "}\n",
              "\n",
              ".xr-array-wrap > label {\n",
              "  grid-column: 1;\n",
              "  vertical-align: top;\n",
              "}\n",
              "\n",
              ".xr-preview {\n",
              "  color: var(--xr-font-color3);\n",
              "}\n",
              "\n",
              ".xr-array-preview,\n",
              ".xr-array-data {\n",
              "  padding: 0 5px !important;\n",
              "  grid-column: 2;\n",
              "}\n",
              "\n",
              ".xr-array-data,\n",
              ".xr-array-in:checked ~ .xr-array-preview {\n",
              "  display: none;\n",
              "}\n",
              "\n",
              ".xr-array-in:checked ~ .xr-array-data,\n",
              ".xr-array-preview {\n",
              "  display: inline-block;\n",
              "}\n",
              "\n",
              ".xr-dim-list {\n",
              "  display: inline-block !important;\n",
              "  list-style: none;\n",
              "  padding: 0 !important;\n",
              "  margin: 0;\n",
              "}\n",
              "\n",
              ".xr-dim-list li {\n",
              "  display: inline-block;\n",
              "  padding: 0;\n",
              "  margin: 0;\n",
              "}\n",
              "\n",
              ".xr-dim-list:before {\n",
              "  content: '(';\n",
              "}\n",
              "\n",
              ".xr-dim-list:after {\n",
              "  content: ')';\n",
              "}\n",
              "\n",
              ".xr-dim-list li:not(:last-child):after {\n",
              "  content: ',';\n",
              "  padding-right: 5px;\n",
              "}\n",
              "\n",
              ".xr-has-index {\n",
              "  font-weight: bold;\n",
              "}\n",
              "\n",
              ".xr-var-list,\n",
              ".xr-var-item {\n",
              "  display: contents;\n",
              "}\n",
              "\n",
              ".xr-var-item > div,\n",
              ".xr-var-item label,\n",
              ".xr-var-item > .xr-var-name span {\n",
              "  background-color: var(--xr-background-color-row-even);\n",
              "  margin-bottom: 0;\n",
              "}\n",
              "\n",
              ".xr-var-item > .xr-var-name:hover span {\n",
              "  padding-right: 5px;\n",
              "}\n",
              "\n",
              ".xr-var-list > li:nth-child(odd) > div,\n",
              ".xr-var-list > li:nth-child(odd) > label,\n",
              ".xr-var-list > li:nth-child(odd) > .xr-var-name span {\n",
              "  background-color: var(--xr-background-color-row-odd);\n",
              "}\n",
              "\n",
              ".xr-var-name {\n",
              "  grid-column: 1;\n",
              "}\n",
              "\n",
              ".xr-var-dims {\n",
              "  grid-column: 2;\n",
              "}\n",
              "\n",
              ".xr-var-dtype {\n",
              "  grid-column: 3;\n",
              "  text-align: right;\n",
              "  color: var(--xr-font-color2);\n",
              "}\n",
              "\n",
              ".xr-var-preview {\n",
              "  grid-column: 4;\n",
              "}\n",
              "\n",
              ".xr-var-name,\n",
              ".xr-var-dims,\n",
              ".xr-var-dtype,\n",
              ".xr-preview,\n",
              ".xr-attrs dt {\n",
              "  white-space: nowrap;\n",
              "  overflow: hidden;\n",
              "  text-overflow: ellipsis;\n",
              "  padding-right: 10px;\n",
              "}\n",
              "\n",
              ".xr-var-name:hover,\n",
              ".xr-var-dims:hover,\n",
              ".xr-var-dtype:hover,\n",
              ".xr-attrs dt:hover {\n",
              "  overflow: visible;\n",
              "  width: auto;\n",
              "  z-index: 1;\n",
              "}\n",
              "\n",
              ".xr-var-attrs,\n",
              ".xr-var-data {\n",
              "  display: none;\n",
              "  background-color: var(--xr-background-color) !important;\n",
              "  padding-bottom: 5px !important;\n",
              "}\n",
              "\n",
              ".xr-var-attrs-in:checked ~ .xr-var-attrs,\n",
              ".xr-var-data-in:checked ~ .xr-var-data {\n",
              "  display: block;\n",
              "}\n",
              "\n",
              ".xr-var-data > table {\n",
              "  float: right;\n",
              "}\n",
              "\n",
              ".xr-var-name span,\n",
              ".xr-var-data,\n",
              ".xr-attrs {\n",
              "  padding-left: 25px !important;\n",
              "}\n",
              "\n",
              ".xr-attrs,\n",
              ".xr-var-attrs,\n",
              ".xr-var-data {\n",
              "  grid-column: 1 / -1;\n",
              "}\n",
              "\n",
              "dl.xr-attrs {\n",
              "  padding: 0;\n",
              "  margin: 0;\n",
              "  display: grid;\n",
              "  grid-template-columns: 125px auto;\n",
              "}\n",
              "\n",
              ".xr-attrs dt,\n",
              ".xr-attrs dd {\n",
              "  padding: 0;\n",
              "  margin: 0;\n",
              "  float: left;\n",
              "  padding-right: 10px;\n",
              "  width: auto;\n",
              "}\n",
              "\n",
              ".xr-attrs dt {\n",
              "  font-weight: normal;\n",
              "  grid-column: 1;\n",
              "}\n",
              "\n",
              ".xr-attrs dt:hover span {\n",
              "  display: inline-block;\n",
              "  background: var(--xr-background-color);\n",
              "  padding-right: 10px;\n",
              "}\n",
              "\n",
              ".xr-attrs dd {\n",
              "  grid-column: 2;\n",
              "  white-space: pre-wrap;\n",
              "  word-break: break-all;\n",
              "}\n",
              "\n",
              ".xr-icon-database,\n",
              ".xr-icon-file-text2 {\n",
              "  display: inline-block;\n",
              "  vertical-align: middle;\n",
              "  width: 1em;\n",
              "  height: 1.5em !important;\n",
              "  stroke-width: 0;\n",
              "  stroke: currentColor;\n",
              "  fill: currentColor;\n",
              "}\n",
              "</style><pre class='xr-text-repr-fallback'>&lt;xarray.Dataset&gt;\n",
              "Dimensions:    (fov: 1, n: 5, t: 60, z: 13, y: 11, x: 11, ch: 3)\n",
              "Coordinates:\n",
              "  * fov        (fov) int32 0\n",
              "  * n          (n) int16 0 1 2 3 4\n",
              "  * t          (t) int32 0 1 2 3 4 5 6 7 8 9 ... 50 51 52 53 54 55 56 57 58 59\n",
              "  * z          (z) int32 0 500 1000 1500 2000 2500 ... 4000 4500 5000 5500 6000\n",
              "  * y          (y) int32 -5 -4 -3 -2 -1 0 1 2 3 4 5\n",
              "  * x          (x) int32 -5 -4 -3 -2 -1 0 1 2 3 4 5\n",
              "  * ch         (ch) int32 0 1 2\n",
              "Data variables:\n",
              "    int        (fov, n, t, z, y, x, ch) int32 2740 512 528 2258 505 ... 0 0 0 0\n",
              "    xc         (fov, n, t, ch) int32 313 313 313 307 307 307 310 ... 0 0 0 0 0 0\n",
              "    yc         (fov, n, t, ch) int32 332 332 332 331 331 331 331 ... 0 0 0 0 0 0\n",
              "    dx         int32 1\n",
              "    dy         int32 1\n",
              "    dz         int32 500\n",
              "    dt         int32 1\n",
              "    xy_pad     int32 5\n",
              "    id         (fov, n, t) float64 0.0 0.0 0.0 0.0 0.0 ... 0.0 0.0 0.0 0.0 0.0\n",
              "    signal_tp  (fov, n, t) float64 1.711e+05 1.746e+05 1.676e+05 ... 0.0 0.0 0.0\n",
              "Attributes:\n",
              "    name:     \\\\129.82.125.210\\TSnas2\\galindo\\1_Imaging_Data\\20220314_Cry2Oli...\n",
              "    date:     video_date</pre><div class='xr-wrap' hidden><div class='xr-header'><div class='xr-obj-type'>xarray.Dataset</div></div><ul class='xr-sections'><li class='xr-section-item'><input id='section-7b686c8f-ba00-4983-9b2b-964fd1d038ec' class='xr-section-summary-in' type='checkbox' disabled ><label for='section-7b686c8f-ba00-4983-9b2b-964fd1d038ec' class='xr-section-summary'  title='Expand/collapse section'>Dimensions:</label><div class='xr-section-inline-details'><ul class='xr-dim-list'><li><span class='xr-has-index'>fov</span>: 1</li><li><span class='xr-has-index'>n</span>: 5</li><li><span class='xr-has-index'>t</span>: 60</li><li><span class='xr-has-index'>z</span>: 13</li><li><span class='xr-has-index'>y</span>: 11</li><li><span class='xr-has-index'>x</span>: 11</li><li><span class='xr-has-index'>ch</span>: 3</li></ul></div><div class='xr-section-details'></div></li><li class='xr-section-item'><input id='section-7a2e4366-4a23-48b2-95cc-1e3f42862084' class='xr-section-summary-in' type='checkbox'  checked><label for='section-7a2e4366-4a23-48b2-95cc-1e3f42862084' class='xr-section-summary' >Coordinates: <span>(7)</span></label><div class='xr-section-inline-details'></div><div class='xr-section-details'><ul class='xr-var-list'><li class='xr-var-item'><div class='xr-var-name'><span class='xr-has-index'>fov</span></div><div class='xr-var-dims'>(fov)</div><div class='xr-var-dtype'>int32</div><div class='xr-var-preview xr-preview'>0</div><input id='attrs-3fe9cc9e-508a-43d6-923d-9d7964103813' class='xr-var-attrs-in' type='checkbox' disabled><label for='attrs-3fe9cc9e-508a-43d6-923d-9d7964103813' title='Show/Hide attributes'><svg class='icon xr-icon-file-text2'><use xlink:href='#icon-file-text2'></use></svg></label><input id='data-88a19208-4843-4c3f-826a-dca413bff5b3' class='xr-var-data-in' type='checkbox'><label for='data-88a19208-4843-4c3f-826a-dca413bff5b3' title='Show/Hide data repr'><svg class='icon xr-icon-database'><use xlink:href='#icon-database'></use></svg></label><div class='xr-var-attrs'><dl class='xr-attrs'></dl></div><div class='xr-var-data'><pre>array([0])</pre></div></li><li class='xr-var-item'><div class='xr-var-name'><span class='xr-has-index'>n</span></div><div class='xr-var-dims'>(n)</div><div class='xr-var-dtype'>int16</div><div class='xr-var-preview xr-preview'>0 1 2 3 4</div><input id='attrs-de5ee277-a476-42e0-9117-55aa20bb863e' class='xr-var-attrs-in' type='checkbox' ><label for='attrs-de5ee277-a476-42e0-9117-55aa20bb863e' title='Show/Hide attributes'><svg class='icon xr-icon-file-text2'><use xlink:href='#icon-file-text2'></use></svg></label><input id='data-ddf68f4b-931c-4948-bbc1-546b02a25a7b' class='xr-var-data-in' type='checkbox'><label for='data-ddf68f4b-931c-4948-bbc1-546b02a25a7b' title='Show/Hide data repr'><svg class='icon xr-icon-database'><use xlink:href='#icon-database'></use></svg></label><div class='xr-var-attrs'><dl class='xr-attrs'><dt><span>long_name :</span></dt><dd>crop count</dd></dl></div><div class='xr-var-data'><pre>array([0, 1, 2, 3, 4], dtype=int16)</pre></div></li><li class='xr-var-item'><div class='xr-var-name'><span class='xr-has-index'>t</span></div><div class='xr-var-dims'>(t)</div><div class='xr-var-dtype'>int32</div><div class='xr-var-preview xr-preview'>0 1 2 3 4 5 6 ... 54 55 56 57 58 59</div><input id='attrs-b7c1c334-ad11-44e5-9837-4cdbc427cfe0' class='xr-var-attrs-in' type='checkbox' ><label for='attrs-b7c1c334-ad11-44e5-9837-4cdbc427cfe0' title='Show/Hide attributes'><svg class='icon xr-icon-file-text2'><use xlink:href='#icon-file-text2'></use></svg></label><input id='data-91c2805a-845d-4285-a34a-61824153f8c3' class='xr-var-data-in' type='checkbox'><label for='data-91c2805a-845d-4285-a34a-61824153f8c3' title='Show/Hide data repr'><svg class='icon xr-icon-database'><use xlink:href='#icon-database'></use></svg></label><div class='xr-var-attrs'><dl class='xr-attrs'><dt><span>units :</span></dt><dd>min</dd><dt><span>long_name :</span></dt><dd>time</dd></dl></div><div class='xr-var-data'><pre>array([ 0,  1,  2,  3,  4,  5,  6,  7,  8,  9, 10, 11, 12, 13, 14, 15, 16, 17,\n",
              "       18, 19, 20, 21, 22, 23, 24, 25, 26, 27, 28, 29, 30, 31, 32, 33, 34, 35,\n",
              "       36, 37, 38, 39, 40, 41, 42, 43, 44, 45, 46, 47, 48, 49, 50, 51, 52, 53,\n",
              "       54, 55, 56, 57, 58, 59])</pre></div></li><li class='xr-var-item'><div class='xr-var-name'><span class='xr-has-index'>z</span></div><div class='xr-var-dims'>(z)</div><div class='xr-var-dtype'>int32</div><div class='xr-var-preview xr-preview'>0 500 1000 1500 ... 5000 5500 6000</div><input id='attrs-77da14ca-346e-439e-86a1-d44b61a9dcd4' class='xr-var-attrs-in' type='checkbox' ><label for='attrs-77da14ca-346e-439e-86a1-d44b61a9dcd4' title='Show/Hide attributes'><svg class='icon xr-icon-file-text2'><use xlink:href='#icon-file-text2'></use></svg></label><input id='data-e7932529-e3d5-4307-bb50-e09c8baac962' class='xr-var-data-in' type='checkbox'><label for='data-e7932529-e3d5-4307-bb50-e09c8baac962' title='Show/Hide data repr'><svg class='icon xr-icon-database'><use xlink:href='#icon-database'></use></svg></label><div class='xr-var-attrs'><dl class='xr-attrs'><dt><span>units :</span></dt><dd>nm</dd><dt><span>long_name :</span></dt><dd>axial z-distance</dd></dl></div><div class='xr-var-data'><pre>array([   0,  500, 1000, 1500, 2000, 2500, 3000, 3500, 4000, 4500, 5000, 5500,\n",
              "       6000])</pre></div></li><li class='xr-var-item'><div class='xr-var-name'><span class='xr-has-index'>y</span></div><div class='xr-var-dims'>(y)</div><div class='xr-var-dtype'>int32</div><div class='xr-var-preview xr-preview'>-5 -4 -3 -2 -1 0 1 2 3 4 5</div><input id='attrs-0888d1be-97f4-4394-9a2e-9aac15e7c71a' class='xr-var-attrs-in' type='checkbox' ><label for='attrs-0888d1be-97f4-4394-9a2e-9aac15e7c71a' title='Show/Hide attributes'><svg class='icon xr-icon-file-text2'><use xlink:href='#icon-file-text2'></use></svg></label><input id='data-89c71846-488b-4119-b474-3ca9efac3739' class='xr-var-data-in' type='checkbox'><label for='data-89c71846-488b-4119-b474-3ca9efac3739' title='Show/Hide data repr'><svg class='icon xr-icon-database'><use xlink:href='#icon-database'></use></svg></label><div class='xr-var-attrs'><dl class='xr-attrs'><dt><span>units :</span></dt><dd>nm</dd><dt><span>long_name :</span></dt><dd>radial y-distance</dd></dl></div><div class='xr-var-data'><pre>array([-5, -4, -3, -2, -1,  0,  1,  2,  3,  4,  5])</pre></div></li><li class='xr-var-item'><div class='xr-var-name'><span class='xr-has-index'>x</span></div><div class='xr-var-dims'>(x)</div><div class='xr-var-dtype'>int32</div><div class='xr-var-preview xr-preview'>-5 -4 -3 -2 -1 0 1 2 3 4 5</div><input id='attrs-18a9d4ba-555a-4370-b880-19d0c6233716' class='xr-var-attrs-in' type='checkbox' ><label for='attrs-18a9d4ba-555a-4370-b880-19d0c6233716' title='Show/Hide attributes'><svg class='icon xr-icon-file-text2'><use xlink:href='#icon-file-text2'></use></svg></label><input id='data-9e67e6c9-7a42-48da-96c5-2f91c9735fff' class='xr-var-data-in' type='checkbox'><label for='data-9e67e6c9-7a42-48da-96c5-2f91c9735fff' title='Show/Hide data repr'><svg class='icon xr-icon-database'><use xlink:href='#icon-database'></use></svg></label><div class='xr-var-attrs'><dl class='xr-attrs'><dt><span>units :</span></dt><dd>nm</dd><dt><span>long_name :</span></dt><dd>radial x-distance</dd></dl></div><div class='xr-var-data'><pre>array([-5, -4, -3, -2, -1,  0,  1,  2,  3,  4,  5])</pre></div></li><li class='xr-var-item'><div class='xr-var-name'><span class='xr-has-index'>ch</span></div><div class='xr-var-dims'>(ch)</div><div class='xr-var-dtype'>int32</div><div class='xr-var-preview xr-preview'>0 1 2</div><input id='attrs-e9070b0f-4ab0-4e71-a970-1d615a8552b2' class='xr-var-attrs-in' type='checkbox' disabled><label for='attrs-e9070b0f-4ab0-4e71-a970-1d615a8552b2' title='Show/Hide attributes'><svg class='icon xr-icon-file-text2'><use xlink:href='#icon-file-text2'></use></svg></label><input id='data-c8bb7d8d-fb02-4d31-ab0f-c2d68cb0512d' class='xr-var-data-in' type='checkbox'><label for='data-c8bb7d8d-fb02-4d31-ab0f-c2d68cb0512d' title='Show/Hide data repr'><svg class='icon xr-icon-database'><use xlink:href='#icon-database'></use></svg></label><div class='xr-var-attrs'><dl class='xr-attrs'></dl></div><div class='xr-var-data'><pre>array([0, 1, 2])</pre></div></li></ul></div></li><li class='xr-section-item'><input id='section-dacd3bf1-669f-4ebe-baa1-c1663b8117b1' class='xr-section-summary-in' type='checkbox'  checked><label for='section-dacd3bf1-669f-4ebe-baa1-c1663b8117b1' class='xr-section-summary' >Data variables: <span>(10)</span></label><div class='xr-section-inline-details'></div><div class='xr-section-details'><ul class='xr-var-list'><li class='xr-var-item'><div class='xr-var-name'><span>int</span></div><div class='xr-var-dims'>(fov, n, t, z, y, x, ch)</div><div class='xr-var-dtype'>int32</div><div class='xr-var-preview xr-preview'>2740 512 528 2258 505 ... 0 0 0 0 0</div><input id='attrs-aaf68b1f-fc84-4476-b2b6-93accf3cb777' class='xr-var-attrs-in' type='checkbox' ><label for='attrs-aaf68b1f-fc84-4476-b2b6-93accf3cb777' title='Show/Hide attributes'><svg class='icon xr-icon-file-text2'><use xlink:href='#icon-file-text2'></use></svg></label><input id='data-afd406d9-3658-432d-bdfd-07705cb9110c' class='xr-var-data-in' type='checkbox'><label for='data-afd406d9-3658-432d-bdfd-07705cb9110c' title='Show/Hide data repr'><svg class='icon xr-icon-database'><use xlink:href='#icon-database'></use></svg></label><div class='xr-var-attrs'><dl class='xr-attrs'><dt><span>units :</span></dt><dd>intensity (a.u.)</dd><dt><span>long_name :</span></dt><dd>intensity</dd></dl></div><div class='xr-var-data'><pre>array([[[[[[[2740,  512,  528],\n",
              "            [2258,  505,  466],\n",
              "            [2398,  509,  451],\n",
              "            ...,\n",
              "            [2322,  487,  514],\n",
              "            [2113,  460,  522],\n",
              "            [1892,  458,  527]],\n",
              "\n",
              "           [[2261,  497,  453],\n",
              "            [2303,  471,  485],\n",
              "            [2032,  484,  488],\n",
              "            ...,\n",
              "            [2660,  448,  546],\n",
              "            [2111,  466,  509],\n",
              "            [2006,  463,  472]],\n",
              "\n",
              "           [[2146,  477,  553],\n",
              "            [2380,  501,  557],\n",
              "            [2439,  519,  506],\n",
              "            ...,\n",
              "...\n",
              "            ...,\n",
              "            [   0,    0,    0],\n",
              "            [   0,    0,    0],\n",
              "            [   0,    0,    0]],\n",
              "\n",
              "           [[   0,    0,    0],\n",
              "            [   0,    0,    0],\n",
              "            [   0,    0,    0],\n",
              "            ...,\n",
              "            [   0,    0,    0],\n",
              "            [   0,    0,    0],\n",
              "            [   0,    0,    0]],\n",
              "\n",
              "           [[   0,    0,    0],\n",
              "            [   0,    0,    0],\n",
              "            [   0,    0,    0],\n",
              "            ...,\n",
              "            [   0,    0,    0],\n",
              "            [   0,    0,    0],\n",
              "            [   0,    0,    0]]]]]]])</pre></div></li><li class='xr-var-item'><div class='xr-var-name'><span>xc</span></div><div class='xr-var-dims'>(fov, n, t, ch)</div><div class='xr-var-dtype'>int32</div><div class='xr-var-preview xr-preview'>313 313 313 307 307 ... 0 0 0 0 0</div><input id='attrs-fb402484-e9bf-4aec-83d5-22d6084da402' class='xr-var-attrs-in' type='checkbox' ><label for='attrs-fb402484-e9bf-4aec-83d5-22d6084da402' title='Show/Hide attributes'><svg class='icon xr-icon-file-text2'><use xlink:href='#icon-file-text2'></use></svg></label><input id='data-bebad38d-9ae5-43f7-b59f-cb67363c1542' class='xr-var-data-in' type='checkbox'><label for='data-bebad38d-9ae5-43f7-b59f-cb67363c1542' title='Show/Hide data repr'><svg class='icon xr-icon-database'><use xlink:href='#icon-database'></use></svg></label><div class='xr-var-attrs'><dl class='xr-attrs'><dt><span>units :</span></dt><dd>pixels</dd><dt><span>long_name :</span></dt><dd>crop center x</dd></dl></div><div class='xr-var-data'><pre>array([[[[313, 313, 313],\n",
              "         [307, 307, 307],\n",
              "         [310, 310, 310],\n",
              "         [310, 310, 310],\n",
              "         [304, 304, 304],\n",
              "         [316, 316, 316],\n",
              "         [314, 314, 314],\n",
              "         [308, 308, 308],\n",
              "         [307, 307, 307],\n",
              "         [305, 305, 305],\n",
              "         [298, 298, 298],\n",
              "         [298, 298, 298],\n",
              "         [298, 298, 298],\n",
              "         [294, 294, 294],\n",
              "         [299, 299, 299],\n",
              "         [302, 302, 302],\n",
              "         [306, 306, 306],\n",
              "         [308, 308, 308],\n",
              "         [308, 308, 308],\n",
              "         [309, 309, 309],\n",
              "...\n",
              "         [  0,   0,   0],\n",
              "         [  0,   0,   0],\n",
              "         [  0,   0,   0],\n",
              "         [  0,   0,   0],\n",
              "         [  0,   0,   0],\n",
              "         [  0,   0,   0],\n",
              "         [  0,   0,   0],\n",
              "         [  0,   0,   0],\n",
              "         [  0,   0,   0],\n",
              "         [  0,   0,   0],\n",
              "         [  0,   0,   0],\n",
              "         [  0,   0,   0],\n",
              "         [  0,   0,   0],\n",
              "         [  0,   0,   0],\n",
              "         [  0,   0,   0],\n",
              "         [  0,   0,   0],\n",
              "         [  0,   0,   0],\n",
              "         [  0,   0,   0],\n",
              "         [  0,   0,   0],\n",
              "         [  0,   0,   0]]]])</pre></div></li><li class='xr-var-item'><div class='xr-var-name'><span>yc</span></div><div class='xr-var-dims'>(fov, n, t, ch)</div><div class='xr-var-dtype'>int32</div><div class='xr-var-preview xr-preview'>332 332 332 331 331 ... 0 0 0 0 0</div><input id='attrs-08cf391e-ed5f-4902-a614-52ec1c7da21d' class='xr-var-attrs-in' type='checkbox' ><label for='attrs-08cf391e-ed5f-4902-a614-52ec1c7da21d' title='Show/Hide attributes'><svg class='icon xr-icon-file-text2'><use xlink:href='#icon-file-text2'></use></svg></label><input id='data-3ec38bcd-05ef-40f9-afc6-621d8a111c0d' class='xr-var-data-in' type='checkbox'><label for='data-3ec38bcd-05ef-40f9-afc6-621d8a111c0d' title='Show/Hide data repr'><svg class='icon xr-icon-database'><use xlink:href='#icon-database'></use></svg></label><div class='xr-var-attrs'><dl class='xr-attrs'><dt><span>units :</span></dt><dd>pixels</dd><dt><span>long_name :</span></dt><dd>crop center y</dd></dl></div><div class='xr-var-data'><pre>array([[[[332, 332, 332],\n",
              "         [331, 331, 331],\n",
              "         [331, 331, 331],\n",
              "         [346, 346, 346],\n",
              "         [360, 360, 360],\n",
              "         [349, 349, 349],\n",
              "         [361, 361, 361],\n",
              "         [362, 362, 362],\n",
              "         [360, 360, 360],\n",
              "         [361, 361, 361],\n",
              "         [356, 356, 356],\n",
              "         [354, 354, 354],\n",
              "         [356, 356, 356],\n",
              "         [354, 354, 354],\n",
              "         [352, 352, 352],\n",
              "         [352, 352, 352],\n",
              "         [351, 351, 351],\n",
              "         [349, 349, 349],\n",
              "         [345, 345, 345],\n",
              "         [344, 344, 344],\n",
              "...\n",
              "         [  0,   0,   0],\n",
              "         [  0,   0,   0],\n",
              "         [  0,   0,   0],\n",
              "         [  0,   0,   0],\n",
              "         [  0,   0,   0],\n",
              "         [  0,   0,   0],\n",
              "         [  0,   0,   0],\n",
              "         [  0,   0,   0],\n",
              "         [  0,   0,   0],\n",
              "         [  0,   0,   0],\n",
              "         [  0,   0,   0],\n",
              "         [  0,   0,   0],\n",
              "         [  0,   0,   0],\n",
              "         [  0,   0,   0],\n",
              "         [  0,   0,   0],\n",
              "         [  0,   0,   0],\n",
              "         [  0,   0,   0],\n",
              "         [  0,   0,   0],\n",
              "         [  0,   0,   0],\n",
              "         [  0,   0,   0]]]])</pre></div></li><li class='xr-var-item'><div class='xr-var-name'><span>dx</span></div><div class='xr-var-dims'>()</div><div class='xr-var-dtype'>int32</div><div class='xr-var-preview xr-preview'>1</div><input id='attrs-33a82db9-e343-4f0a-b5f8-0fb072a45295' class='xr-var-attrs-in' type='checkbox' ><label for='attrs-33a82db9-e343-4f0a-b5f8-0fb072a45295' title='Show/Hide attributes'><svg class='icon xr-icon-file-text2'><use xlink:href='#icon-file-text2'></use></svg></label><input id='data-0565c2d1-e529-472c-a3e2-0582de0d9548' class='xr-var-data-in' type='checkbox'><label for='data-0565c2d1-e529-472c-a3e2-0582de0d9548' title='Show/Hide data repr'><svg class='icon xr-icon-database'><use xlink:href='#icon-database'></use></svg></label><div class='xr-var-attrs'><dl class='xr-attrs'><dt><span>units :</span></dt><dd>nm</dd><dt><span>long_name :</span></dt><dd>x-resolution</dd></dl></div><div class='xr-var-data'><pre>array(1)</pre></div></li><li class='xr-var-item'><div class='xr-var-name'><span>dy</span></div><div class='xr-var-dims'>()</div><div class='xr-var-dtype'>int32</div><div class='xr-var-preview xr-preview'>1</div><input id='attrs-c1d44e15-ca3b-4aa2-937f-096bd393ef95' class='xr-var-attrs-in' type='checkbox' ><label for='attrs-c1d44e15-ca3b-4aa2-937f-096bd393ef95' title='Show/Hide attributes'><svg class='icon xr-icon-file-text2'><use xlink:href='#icon-file-text2'></use></svg></label><input id='data-50425b24-a13f-4815-84fe-5aa52e3cbb68' class='xr-var-data-in' type='checkbox'><label for='data-50425b24-a13f-4815-84fe-5aa52e3cbb68' title='Show/Hide data repr'><svg class='icon xr-icon-database'><use xlink:href='#icon-database'></use></svg></label><div class='xr-var-attrs'><dl class='xr-attrs'><dt><span>units :</span></dt><dd>nm</dd><dt><span>long_name :</span></dt><dd>y-resolution</dd></dl></div><div class='xr-var-data'><pre>array(1)</pre></div></li><li class='xr-var-item'><div class='xr-var-name'><span>dz</span></div><div class='xr-var-dims'>()</div><div class='xr-var-dtype'>int32</div><div class='xr-var-preview xr-preview'>500</div><input id='attrs-c3281461-b50a-4d72-9ff3-aeef8415024f' class='xr-var-attrs-in' type='checkbox' ><label for='attrs-c3281461-b50a-4d72-9ff3-aeef8415024f' title='Show/Hide attributes'><svg class='icon xr-icon-file-text2'><use xlink:href='#icon-file-text2'></use></svg></label><input id='data-b18c6b03-2681-49ad-8154-f4d6540a28cb' class='xr-var-data-in' type='checkbox'><label for='data-b18c6b03-2681-49ad-8154-f4d6540a28cb' title='Show/Hide data repr'><svg class='icon xr-icon-database'><use xlink:href='#icon-database'></use></svg></label><div class='xr-var-attrs'><dl class='xr-attrs'><dt><span>units :</span></dt><dd>nm</dd><dt><span>long_name :</span></dt><dd>z-resolution</dd></dl></div><div class='xr-var-data'><pre>array(500)</pre></div></li><li class='xr-var-item'><div class='xr-var-name'><span>dt</span></div><div class='xr-var-dims'>()</div><div class='xr-var-dtype'>int32</div><div class='xr-var-preview xr-preview'>1</div><input id='attrs-4538d731-a8e1-4c70-ad51-e72e8a5244cd' class='xr-var-attrs-in' type='checkbox' ><label for='attrs-4538d731-a8e1-4c70-ad51-e72e8a5244cd' title='Show/Hide attributes'><svg class='icon xr-icon-file-text2'><use xlink:href='#icon-file-text2'></use></svg></label><input id='data-2e67bee4-0d1f-4fe4-be19-a2826b20db0e' class='xr-var-data-in' type='checkbox'><label for='data-2e67bee4-0d1f-4fe4-be19-a2826b20db0e' title='Show/Hide data repr'><svg class='icon xr-icon-database'><use xlink:href='#icon-database'></use></svg></label><div class='xr-var-attrs'><dl class='xr-attrs'><dt><span>units :</span></dt><dd>min</dd><dt><span>long_name :</span></dt><dd>temporal resolution</dd></dl></div><div class='xr-var-data'><pre>array(1)</pre></div></li><li class='xr-var-item'><div class='xr-var-name'><span>xy_pad</span></div><div class='xr-var-dims'>()</div><div class='xr-var-dtype'>int32</div><div class='xr-var-preview xr-preview'>5</div><input id='attrs-438ff27c-984f-4599-adcd-f0d0e591b0d1' class='xr-var-attrs-in' type='checkbox' ><label for='attrs-438ff27c-984f-4599-adcd-f0d0e591b0d1' title='Show/Hide attributes'><svg class='icon xr-icon-file-text2'><use xlink:href='#icon-file-text2'></use></svg></label><input id='data-121993ed-7611-43a2-ba4f-69c14902475d' class='xr-var-data-in' type='checkbox'><label for='data-121993ed-7611-43a2-ba4f-69c14902475d' title='Show/Hide data repr'><svg class='icon xr-icon-database'><use xlink:href='#icon-database'></use></svg></label><div class='xr-var-attrs'><dl class='xr-attrs'><dt><span>units :</span></dt><dd>pixels</dd></dl></div><div class='xr-var-data'><pre>array(5)</pre></div></li><li class='xr-var-item'><div class='xr-var-name'><span>id</span></div><div class='xr-var-dims'>(fov, n, t)</div><div class='xr-var-dtype'>float64</div><div class='xr-var-preview xr-preview'>0.0 0.0 0.0 0.0 ... 0.0 0.0 0.0 0.0</div><input id='attrs-3b3e8948-8600-4659-814d-d25bf9faa357' class='xr-var-attrs-in' type='checkbox' disabled><label for='attrs-3b3e8948-8600-4659-814d-d25bf9faa357' title='Show/Hide attributes'><svg class='icon xr-icon-file-text2'><use xlink:href='#icon-file-text2'></use></svg></label><input id='data-822240e1-63e1-452b-8da8-7edc6266f8d6' class='xr-var-data-in' type='checkbox'><label for='data-822240e1-63e1-452b-8da8-7edc6266f8d6' title='Show/Hide data repr'><svg class='icon xr-icon-database'><use xlink:href='#icon-database'></use></svg></label><div class='xr-var-attrs'><dl class='xr-attrs'></dl></div><div class='xr-var-data'><pre>array([[[ 0.,  0.,  0.,  0.,  0.,  0.,  0.,  0.,  0.,  0.,  0.,  0.,\n",
              "          0.,  0.,  0.,  0.,  0.,  0.,  0.,  0.,  0.,  0.,  0.,  0.,\n",
              "          0.,  0.,  0.,  0.,  0.,  0.,  0.,  0.,  0.,  0.,  0.,  0.,\n",
              "          0.,  0.,  0.,  0.,  0.,  0.,  0.,  0.,  0.,  0.,  0.,  0.,\n",
              "          0.,  0.,  0.,  0., 32.,  0.,  0.,  0.,  0.,  0.,  0.,  0.],\n",
              "        [ 3.,  3.,  3.,  3.,  3.,  3.,  3.,  3.,  3.,  3.,  3.,  3.,\n",
              "          3.,  3.,  3.,  3.,  3.,  3.,  3.,  3., 12., 12., 12., 12.,\n",
              "         12., 12., 12., 12., 31., 31., 31., 31., 31., 31., 31., 31.,\n",
              "         32., 32., 32., 32., 32., 32., 32., 32., 32., 32., 32., 32.,\n",
              "         32., 32., 32., 32.,  0.,  0.,  0.,  0.,  0.,  0.,  0.,  0.],\n",
              "        [12., 12., 12., 12., 12., 12., 12., 12., 12., 12., 12., 12.,\n",
              "         12., 12., 12., 12., 12., 12., 12., 12., 31., 31., 31., 31.,\n",
              "         31., 31., 31., 31., 32., 32., 32., 32., 32., 32., 32., 32.,\n",
              "          0.,  0.,  0.,  0.,  0.,  0.,  0.,  0.,  0.,  0.,  0.,  0.,\n",
              "          0.,  0.,  0.,  0.,  0.,  0.,  0.,  0.,  0.,  0.,  0.,  0.],\n",
              "        [31., 31., 31., 31., 31., 31., 31., 31., 31., 31., 31., 31.,\n",
              "         31., 31., 31., 31., 31., 31., 31., 31., 32., 32., 32., 32.,\n",
              "         32., 32., 32., 32.,  0.,  0.,  0.,  0.,  0.,  0.,  0.,  0.,\n",
              "          0.,  0.,  0.,  0.,  0.,  0.,  0.,  0.,  0.,  0.,  0.,  0.,\n",
              "          0.,  0.,  0.,  0.,  0.,  0.,  0.,  0.,  0.,  0.,  0.,  0.],\n",
              "        [32., 32., 32., 32., 32., 32., 32., 32., 32., 32., 32., 32.,\n",
              "         32., 32., 32., 32., 32., 32., 32., 32.,  0.,  0.,  0.,  0.,\n",
              "          0.,  0.,  0.,  0.,  0.,  0.,  0.,  0.,  0.,  0.,  0.,  0.,\n",
              "          0.,  0.,  0.,  0.,  0.,  0.,  0.,  0.,  0.,  0.,  0.,  0.,\n",
              "          0.,  0.,  0.,  0.,  0.,  0.,  0.,  0.,  0.,  0.,  0.,  0.]]])</pre></div></li><li class='xr-var-item'><div class='xr-var-name'><span>signal_tp</span></div><div class='xr-var-dims'>(fov, n, t)</div><div class='xr-var-dtype'>float64</div><div class='xr-var-preview xr-preview'>1.711e+05 1.746e+05 ... 0.0 0.0</div><input id='attrs-18903e57-b571-4d51-8693-c0b47f7622d4' class='xr-var-attrs-in' type='checkbox' disabled><label for='attrs-18903e57-b571-4d51-8693-c0b47f7622d4' title='Show/Hide attributes'><svg class='icon xr-icon-file-text2'><use xlink:href='#icon-file-text2'></use></svg></label><input id='data-c5304023-d008-474a-a982-bda624499ac2' class='xr-var-data-in' type='checkbox'><label for='data-c5304023-d008-474a-a982-bda624499ac2' title='Show/Hide data repr'><svg class='icon xr-icon-database'><use xlink:href='#icon-database'></use></svg></label><div class='xr-var-attrs'><dl class='xr-attrs'></dl></div><div class='xr-var-data'><pre>array([[[171061., 174567., 167581., 146835., 127275., 135526., 117891.,\n",
              "         122736., 121105., 122146., 132535., 137721., 128863., 137058.,\n",
              "         141635., 134927., 136262., 139508., 139835., 142223., 138271.,\n",
              "         134276., 144465., 146957., 152213., 151842., 150347., 152363.,\n",
              "         151785., 156095., 156975., 160297., 153829., 155835., 156709.,\n",
              "         160093., 156483., 155861., 156992., 156838., 159364., 151246.,\n",
              "         158103., 152935., 150928., 150906., 154372., 153763., 152352.,\n",
              "         152718., 157962., 154544., 121242.,      0.,      0.,      0.,\n",
              "              0.,      0.,      0.,      0.],\n",
              "        [102111., 104355., 103584., 101537., 103783., 103512.,  98437.,\n",
              "          97155.,  96882.,  98965., 100994., 101584.,  95625.,  96152.,\n",
              "          94111.,  92764.,  93071.,  89513.,  88135.,  83838., 103586.,\n",
              "         103404., 104217., 102926., 101733., 102364., 103624., 104410.,\n",
              "         110713., 112486., 110181., 111911., 112662., 109824., 109981.,\n",
              "         109948., 122406., 125859., 120778., 120574., 121927., 118919.,\n",
              "         120949., 120819., 121345., 122990., 120719., 122995., 124629.,\n",
              "         124249., 125925., 129822.,      0.,      0.,      0.,      0.,\n",
              "              0.,      0.,      0.,      0.],\n",
              "        [112422., 117241., 118370., 116058., 110328., 115482., 104871.,\n",
              "         105057., 102394., 102310., 101779., 106450., 103732., 101115.,\n",
              "...\n",
              "              0.,      0.,      0.,      0.,      0.,      0.,      0.,\n",
              "              0.,      0.,      0.,      0.],\n",
              "        [116066., 140207., 143967., 126246., 133287., 119943., 122341.,\n",
              "         136038., 131932., 129774., 125585., 130135., 128074., 125443.,\n",
              "         127627., 124050., 123434., 123038., 125391., 122164., 126692.,\n",
              "         125751., 128620., 131898., 129103., 120262., 121740., 131259.,\n",
              "              0.,      0.,      0.,      0.,      0.,      0.,      0.,\n",
              "              0.,      0.,      0.,      0.,      0.,      0.,      0.,\n",
              "              0.,      0.,      0.,      0.,      0.,      0.,      0.,\n",
              "              0.,      0.,      0.,      0.,      0.,      0.,      0.,\n",
              "              0.,      0.,      0.,      0.],\n",
              "        [161655., 143659., 143019., 152522., 155490., 112923., 127249.,\n",
              "         133408., 144026., 132481., 121869., 118896., 118936., 127385.,\n",
              "         137427., 136418., 133426., 130063., 133021., 130617.,      0.,\n",
              "              0.,      0.,      0.,      0.,      0.,      0.,      0.,\n",
              "              0.,      0.,      0.,      0.,      0.,      0.,      0.,\n",
              "              0.,      0.,      0.,      0.,      0.,      0.,      0.,\n",
              "              0.,      0.,      0.,      0.,      0.,      0.,      0.,\n",
              "              0.,      0.,      0.,      0.,      0.,      0.,      0.,\n",
              "              0.,      0.,      0.,      0.]]])</pre></div></li></ul></div></li><li class='xr-section-item'><input id='section-d8bb0455-da75-4d9d-bb58-e2e5d5898a50' class='xr-section-summary-in' type='checkbox'  checked><label for='section-d8bb0455-da75-4d9d-bb58-e2e5d5898a50' class='xr-section-summary' >Attributes: <span>(2)</span></label><div class='xr-section-inline-details'></div><div class='xr-section-details'><dl class='xr-attrs'><dt><span>name :</span></dt><dd>\\\\129.82.125.210\\TSnas2\\galindo\\1_Imaging_Data\\20220314_Cry2OligoDark_translation\\60TP_1mINT_puro\\Tracks\\Cell03.tif</dd><dt><span>date :</span></dt><dd>video_date</dd></dl></div></li></ul></div></div>"
            ],
            "text/plain": [
              "<xarray.Dataset>\n",
              "Dimensions:    (fov: 1, n: 5, t: 60, z: 13, y: 11, x: 11, ch: 3)\n",
              "Coordinates:\n",
              "  * fov        (fov) int32 0\n",
              "  * n          (n) int16 0 1 2 3 4\n",
              "  * t          (t) int32 0 1 2 3 4 5 6 7 8 9 ... 50 51 52 53 54 55 56 57 58 59\n",
              "  * z          (z) int32 0 500 1000 1500 2000 2500 ... 4000 4500 5000 5500 6000\n",
              "  * y          (y) int32 -5 -4 -3 -2 -1 0 1 2 3 4 5\n",
              "  * x          (x) int32 -5 -4 -3 -2 -1 0 1 2 3 4 5\n",
              "  * ch         (ch) int32 0 1 2\n",
              "Data variables:\n",
              "    int        (fov, n, t, z, y, x, ch) int32 2740 512 528 2258 505 ... 0 0 0 0\n",
              "    xc         (fov, n, t, ch) int32 313 313 313 307 307 307 310 ... 0 0 0 0 0 0\n",
              "    yc         (fov, n, t, ch) int32 332 332 332 331 331 331 331 ... 0 0 0 0 0 0\n",
              "    dx         int32 1\n",
              "    dy         int32 1\n",
              "    dz         int32 500\n",
              "    dt         int32 1\n",
              "    xy_pad     int32 5\n",
              "    id         (fov, n, t) float64 0.0 0.0 0.0 0.0 0.0 ... 0.0 0.0 0.0 0.0 0.0\n",
              "    signal_tp  (fov, n, t) float64 1.711e+05 1.746e+05 1.676e+05 ... 0.0 0.0 0.0\n",
              "Attributes:\n",
              "    name:     \\\\129.82.125.210\\TSnas2\\galindo\\1_Imaging_Data\\20220314_Cry2Oli...\n",
              "    date:     video_date"
            ]
          },
          "execution_count": 718,
          "metadata": {},
          "output_type": "execute_result"
        }
      ],
      "source": [
        "my_ca = ca.create_crop_array(img_croparray,spots,xy_pad=5, dxy=130, dz=500, dt=1, units=['nm','min'], name = os.path.join(my_output_dir,img_4D_filename))\n",
        "#my_ca = xr.open_dataset(os.path.join(dir, 'Cell03.nc'))\n",
        "my_ca"
      ]
    },
    {
      "cell_type": "markdown",
      "metadata": {
        "id": "Im74ErcfIz-1"
      },
      "source": [
        "## Save the crop array\n",
        "____"
      ]
    },
    {
      "cell_type": "code",
      "execution_count": null,
      "metadata": {
        "id": "EjifYOYuIz-1"
      },
      "outputs": [],
      "source": [
        "my_ca.to_netcdf(os.path.join(my_output_dir,'Tracks_Cell03.nc') )"
      ]
    },
    {
      "cell_type": "markdown",
      "metadata": {
        "id": "ZrzHXUbSIz-1"
      },
      "source": [
        "## Quantify signal intensity through time\n",
        "____"
      ]
    },
    {
      "cell_type": "code",
      "execution_count": null,
      "metadata": {
        "id": "hqMtNaTyIz-2"
      },
      "outputs": [],
      "source": [
        "# Measure signals and plot average signal through time, creating 'best_z' layer and 'signal' layer\n",
        "ca.measure_signal(my_ca, ref_ch=1, disk_r=3, roll_n=3)"
      ]
    },
    {
      "cell_type": "code",
      "execution_count": null,
      "metadata": {
        "id": "wV_hLtNYIz-2",
        "outputId": "fda2422f-f4c9-42f2-b7c4-de590e0b7a81"
      },
      "outputs": [
        {
          "data": {
            "text/plain": [
              "<xarray.plot.facetgrid.FacetGrid at 0x18f65d46f10>"
            ]
          },
          "execution_count": 721,
          "metadata": {},
          "output_type": "execute_result"
        },
        {
          "data": {
            "image/png": "[encoded data removed]",
            "text/plain": [
              "<Figure size 1152x648 with 61 Axes>"
            ]
          },
          "metadata": {},
          "output_type": "display_data"
        }
      ],
      "source": [
        "my_ca.best_z.mean('n').sel(fov=0,ch=1).rolling(t=3,min_periods=1).mean().plot.imshow(col='t',col_wrap=10,robust=True,xticks=[],yticks=[],size=1.5,cmap='gray', vmin=0, vmax =300)"
      ]
    },
    {
      "cell_type": "markdown",
      "metadata": {
        "id": "wxdEl8mPIz-2"
      },
      "source": [
        "Let's compare our disk-donut 'signal' layer (acquired from 3D image) to trackpy's (acquired from max-projection):"
      ]
    },
    {
      "cell_type": "code",
      "execution_count": null,
      "metadata": {
        "id": "27C-2OfuIz-2",
        "outputId": "23c4a0fd-3416-406f-976f-9dc4e33826ae"
      },
      "outputs": [
        {
          "data": {
            "text/plain": [
              "<xarray.plot.facetgrid.FacetGrid at 0x18f7b327dc0>"
            ]
          },
          "execution_count": 524,
          "metadata": {},
          "output_type": "execute_result"
        },
        {
          "data": {
            "image/png": "[encoded data removed]",
            "text/plain": [
              "<Figure size 504x216 with 3 Axes>"
            ]
          },
          "metadata": {},
          "output_type": "display_data"
        }
      ],
      "source": [
        "# Let's compare our intensity numbers to those from trackpy:\n",
        "my_ca.where(my_ca.signal>0).plot.scatter(x='signal',y='signal_tp',col='ch',hue='ch',colors=['red','limegreen','blue'],levels=[0,1,2,3])"
      ]
    },
    {
      "cell_type": "markdown",
      "metadata": {
        "id": "1eYTl6Q5Iz-2"
      },
      "source": [
        "Let's look at average signal vs time"
      ]
    },
    {
      "cell_type": "code",
      "execution_count": null,
      "metadata": {
        "id": "oZFiMCuQIz-2",
        "outputId": "8252d4bf-31bb-423b-a0d0-2e18bb71ddd1"
      },
      "outputs": [
        {
          "data": {
            "text/plain": [
              "[<matplotlib.lines.Line2D at 0x18f440464c0>]"
            ]
          },
          "execution_count": 722,
          "metadata": {},
          "output_type": "execute_result"
        },
        {
          "data": {
            "image/png": "[encoded data removed]",
            "text/plain": [
              "<Figure size 432x288 with 1 Axes>"
            ]
          },
          "metadata": {},
          "output_type": "display_data"
        }
      ],
      "source": [
        "# Let's look at average signal vs time\n",
        "start_sig = my_ca.signal.mean('n').sel(t=slice(0,4)).mean('t')\n",
        "end_sig = 0# my_ca.signal.mean('n').sel(t=slice(15,20)).mean('t')\n",
        "norm_sig = (my_ca.signal.mean('n') - end_sig)/(start_sig - end_sig)\n",
        "sns.set_palette(['limegreen','limegreen','blue'])\n",
        "norm_sig.sel(fov=0,ch=1).plot.line(x='t',hue='ch',ylim=[0,2.7])"
      ]
    },
    {
      "cell_type": "markdown",
      "metadata": {
        "id": "EMS5LigIIz-2"
      },
      "source": [
        "Now let's just use trackpy's values:"
      ]
    },
    {
      "cell_type": "code",
      "execution_count": null,
      "metadata": {
        "id": "a7bafQVEIz-3",
        "outputId": "5e91606e-4293-4e9e-e497-22497b7fa249"
      },
      "outputs": [
        {
          "data": {
            "text/plain": [
              "[<matplotlib.lines.Line2D at 0x18e920cdc40>]"
            ]
          },
          "execution_count": 454,
          "metadata": {},
          "output_type": "execute_result"
        },
        {
          "data": {
            "image/png": "[encoded data removed]",
            "text/plain": [
              "<Figure size 432x288 with 1 Axes>"
            ]
          },
          "metadata": {},
          "output_type": "display_data"
        }
      ],
      "source": [
        "# Let's look at average signal vs time\n",
        "start_sig = my_ca.signal_tp.mean('n').sel(t=slice(0,4)).mean('t')\n",
        "end_sig = 0# my_ca.signal_tp.mean('n').sel(t=slice(15,20)).mean('t')\n",
        "norm_sig = (my_ca.signal_tp.mean('n') - end_sig)/(start_sig - end_sig)\n",
        "sns.set_palette(['limegreen','limegreen','blue'])\n",
        "norm_sig.sel(fov=0).plot.line(x='t',hue='ch',ylim=[0,1.7])"
      ]
    },
    {
      "cell_type": "markdown",
      "metadata": {
        "id": "VlIJL95HIz-3"
      },
      "source": [
        "I guess trackpy and the disk donut method do a very good job at getting the intensities of spots. Although note that trackpy got the values from the max-intensity projection. Interesting."
      ]
    },
    {
      "cell_type": "markdown",
      "metadata": {
        "id": "gjRR3KDQIz-3"
      },
      "source": [
        "## Visualize crop array montage with Napari\n",
        "___"
      ]
    },
    {
      "cell_type": "markdown",
      "metadata": {
        "id": "0QnsniW3Iz-3"
      },
      "source": [
        "Now let's see a montage of the selected spots' best-z planes:"
      ]
    },
    {
      "cell_type": "code",
      "execution_count": null,
      "metadata": {
        "id": "01pVFvHYIz-3"
      },
      "outputs": [],
      "source": [
        "# view the action of montage showing an n x n crop_array through time\n",
        "viewer = napari.view_image(ca.montage(my_ca.sel(fov=0,ch=1).best_z,row='n',col='t'),contrast_limits=[60,1680])"
      ]
    },
    {
      "cell_type": "markdown",
      "metadata": {
        "id": "v93r_Tv9Iz-3"
      },
      "source": [
        "## Optional: Create Track Array or view tracks again\n",
        "___"
      ]
    },
    {
      "cell_type": "code",
      "execution_count": null,
      "metadata": {
        "id": "siNq2idpIz-3",
        "outputId": "3d5f13d3-aaee-4b7d-b0b0-5cab22ce7ca1"
      },
      "outputs": [
        {
          "data": {
            "text/html": [
              "<div><svg style=\"position: absolute; width: 0; height: 0; overflow: hidden\">\n",
              "<defs>\n",
              "<symbol id=\"icon-database\" viewBox=\"0 0 32 32\">\n",
              "<path d=\"M16 0c-8.837 0-16 2.239-16 5v4c0 2.761 7.163 5 16 5s16-2.239 16-5v-4c0-2.761-7.163-5-16-5z\"></path>\n",
              "<path d=\"M16 17c-8.837 0-16-2.239-16-5v6c0 2.761 7.163 5 16 5s16-2.239 16-5v-6c0 2.761-7.163 5-16 5z\"></path>\n",
              "<path d=\"M16 26c-8.837 0-16-2.239-16-5v6c0 2.761 7.163 5 16 5s16-2.239 16-5v-6c0 2.761-7.163 5-16 5z\"></path>\n",
              "</symbol>\n",
              "<symbol id=\"icon-file-text2\" viewBox=\"0 0 32 32\">\n",
              "<path d=\"M28.681 7.159c-0.694-0.947-1.662-2.053-2.724-3.116s-2.169-2.030-3.116-2.724c-1.612-1.182-2.393-1.319-2.841-1.319h-15.5c-1.378 0-2.5 1.121-2.5 2.5v27c0 1.378 1.122 2.5 2.5 2.5h23c1.378 0 2.5-1.122 2.5-2.5v-19.5c0-0.448-0.137-1.23-1.319-2.841zM24.543 5.457c0.959 0.959 1.712 1.825 2.268 2.543h-4.811v-4.811c0.718 0.556 1.584 1.309 2.543 2.268zM28 29.5c0 0.271-0.229 0.5-0.5 0.5h-23c-0.271 0-0.5-0.229-0.5-0.5v-27c0-0.271 0.229-0.5 0.5-0.5 0 0 15.499-0 15.5 0v7c0 0.552 0.448 1 1 1h7v19.5z\"></path>\n",
              "<path d=\"M23 26h-14c-0.552 0-1-0.448-1-1s0.448-1 1-1h14c0.552 0 1 0.448 1 1s-0.448 1-1 1z\"></path>\n",
              "<path d=\"M23 22h-14c-0.552 0-1-0.448-1-1s0.448-1 1-1h14c0.552 0 1 0.448 1 1s-0.448 1-1 1z\"></path>\n",
              "<path d=\"M23 18h-14c-0.552 0-1-0.448-1-1s0.448-1 1-1h14c0.552 0 1 0.448 1 1s-0.448 1-1 1z\"></path>\n",
              "</symbol>\n",
              "</defs>\n",
              "</svg>\n",
              "<style>/* CSS stylesheet for displaying xarray objects in jupyterlab.\n",
              " *\n",
              " */\n",
              "\n",
              ":root {\n",
              "  --xr-font-color0: var(--jp-content-font-color0, rgba(0, 0, 0, 1));\n",
              "  --xr-font-color2: var(--jp-content-font-color2, rgba(0, 0, 0, 0.54));\n",
              "  --xr-font-color3: var(--jp-content-font-color3, rgba(0, 0, 0, 0.38));\n",
              "  --xr-border-color: var(--jp-border-color2, #e0e0e0);\n",
              "  --xr-disabled-color: var(--jp-layout-color3, #bdbdbd);\n",
              "  --xr-background-color: var(--jp-layout-color0, white);\n",
              "  --xr-background-color-row-even: var(--jp-layout-color1, white);\n",
              "  --xr-background-color-row-odd: var(--jp-layout-color2, #eeeeee);\n",
              "}\n",
              "\n",
              "html[theme=dark],\n",
              "body.vscode-dark {\n",
              "  --xr-font-color0: rgba(255, 255, 255, 1);\n",
              "  --xr-font-color2: rgba(255, 255, 255, 0.54);\n",
              "  --xr-font-color3: rgba(255, 255, 255, 0.38);\n",
              "  --xr-border-color: #1F1F1F;\n",
              "  --xr-disabled-color: #515151;\n",
              "  --xr-background-color: #111111;\n",
              "  --xr-background-color-row-even: #111111;\n",
              "  --xr-background-color-row-odd: #313131;\n",
              "}\n",
              "\n",
              ".xr-wrap {\n",
              "  display: block;\n",
              "  min-width: 300px;\n",
              "  max-width: 700px;\n",
              "}\n",
              "\n",
              ".xr-text-repr-fallback {\n",
              "  /* fallback to plain text repr when CSS is not injected (untrusted notebook) */\n",
              "  display: none;\n",
              "}\n",
              "\n",
              ".xr-header {\n",
              "  padding-top: 6px;\n",
              "  padding-bottom: 6px;\n",
              "  margin-bottom: 4px;\n",
              "  border-bottom: solid 1px var(--xr-border-color);\n",
              "}\n",
              "\n",
              ".xr-header > div,\n",
              ".xr-header > ul {\n",
              "  display: inline;\n",
              "  margin-top: 0;\n",
              "  margin-bottom: 0;\n",
              "}\n",
              "\n",
              ".xr-obj-type,\n",
              ".xr-array-name {\n",
              "  margin-left: 2px;\n",
              "  margin-right: 10px;\n",
              "}\n",
              "\n",
              ".xr-obj-type {\n",
              "  color: var(--xr-font-color2);\n",
              "}\n",
              "\n",
              ".xr-sections {\n",
              "  padding-left: 0 !important;\n",
              "  display: grid;\n",
              "  grid-template-columns: 150px auto auto 1fr 20px 20px;\n",
              "}\n",
              "\n",
              ".xr-section-item {\n",
              "  display: contents;\n",
              "}\n",
              "\n",
              ".xr-section-item input {\n",
              "  display: none;\n",
              "}\n",
              "\n",
              ".xr-section-item input + label {\n",
              "  color: var(--xr-disabled-color);\n",
              "}\n",
              "\n",
              ".xr-section-item input:enabled + label {\n",
              "  cursor: pointer;\n",
              "  color: var(--xr-font-color2);\n",
              "}\n",
              "\n",
              ".xr-section-item input:enabled + label:hover {\n",
              "  color: var(--xr-font-color0);\n",
              "}\n",
              "\n",
              ".xr-section-summary {\n",
              "  grid-column: 1;\n",
              "  color: var(--xr-font-color2);\n",
              "  font-weight: 500;\n",
              "}\n",
              "\n",
              ".xr-section-summary > span {\n",
              "  display: inline-block;\n",
              "  padding-left: 0.5em;\n",
              "}\n",
              "\n",
              ".xr-section-summary-in:disabled + label {\n",
              "  color: var(--xr-font-color2);\n",
              "}\n",
              "\n",
              ".xr-section-summary-in + label:before {\n",
              "  display: inline-block;\n",
              "  content: '►';\n",
              "  font-size: 11px;\n",
              "  width: 15px;\n",
              "  text-align: center;\n",
              "}\n",
              "\n",
              ".xr-section-summary-in:disabled + label:before {\n",
              "  color: var(--xr-disabled-color);\n",
              "}\n",
              "\n",
              ".xr-section-summary-in:checked + label:before {\n",
              "  content: '▼';\n",
              "}\n",
              "\n",
              ".xr-section-summary-in:checked + label > span {\n",
              "  display: none;\n",
              "}\n",
              "\n",
              ".xr-section-summary,\n",
              ".xr-section-inline-details {\n",
              "  padding-top: 4px;\n",
              "  padding-bottom: 4px;\n",
              "}\n",
              "\n",
              ".xr-section-inline-details {\n",
              "  grid-column: 2 / -1;\n",
              "}\n",
              "\n",
              ".xr-section-details {\n",
              "  display: none;\n",
              "  grid-column: 1 / -1;\n",
              "  margin-bottom: 5px;\n",
              "}\n",
              "\n",
              ".xr-section-summary-in:checked ~ .xr-section-details {\n",
              "  display: contents;\n",
              "}\n",
              "\n",
              ".xr-array-wrap {\n",
              "  grid-column: 1 / -1;\n",
              "  display: grid;\n",
              "  grid-template-columns: 20px auto;\n",
              "}\n",
              "\n",
              ".xr-array-wrap > label {\n",
              "  grid-column: 1;\n",
              "  vertical-align: top;\n",
              "}\n",
              "\n",
              ".xr-preview {\n",
              "  color: var(--xr-font-color3);\n",
              "}\n",
              "\n",
              ".xr-array-preview,\n",
              ".xr-array-data {\n",
              "  padding: 0 5px !important;\n",
              "  grid-column: 2;\n",
              "}\n",
              "\n",
              ".xr-array-data,\n",
              ".xr-array-in:checked ~ .xr-array-preview {\n",
              "  display: none;\n",
              "}\n",
              "\n",
              ".xr-array-in:checked ~ .xr-array-data,\n",
              ".xr-array-preview {\n",
              "  display: inline-block;\n",
              "}\n",
              "\n",
              ".xr-dim-list {\n",
              "  display: inline-block !important;\n",
              "  list-style: none;\n",
              "  padding: 0 !important;\n",
              "  margin: 0;\n",
              "}\n",
              "\n",
              ".xr-dim-list li {\n",
              "  display: inline-block;\n",
              "  padding: 0;\n",
              "  margin: 0;\n",
              "}\n",
              "\n",
              ".xr-dim-list:before {\n",
              "  content: '(';\n",
              "}\n",
              "\n",
              ".xr-dim-list:after {\n",
              "  content: ')';\n",
              "}\n",
              "\n",
              ".xr-dim-list li:not(:last-child):after {\n",
              "  content: ',';\n",
              "  padding-right: 5px;\n",
              "}\n",
              "\n",
              ".xr-has-index {\n",
              "  font-weight: bold;\n",
              "}\n",
              "\n",
              ".xr-var-list,\n",
              ".xr-var-item {\n",
              "  display: contents;\n",
              "}\n",
              "\n",
              ".xr-var-item > div,\n",
              ".xr-var-item label,\n",
              ".xr-var-item > .xr-var-name span {\n",
              "  background-color: var(--xr-background-color-row-even);\n",
              "  margin-bottom: 0;\n",
              "}\n",
              "\n",
              ".xr-var-item > .xr-var-name:hover span {\n",
              "  padding-right: 5px;\n",
              "}\n",
              "\n",
              ".xr-var-list > li:nth-child(odd) > div,\n",
              ".xr-var-list > li:nth-child(odd) > label,\n",
              ".xr-var-list > li:nth-child(odd) > .xr-var-name span {\n",
              "  background-color: var(--xr-background-color-row-odd);\n",
              "}\n",
              "\n",
              ".xr-var-name {\n",
              "  grid-column: 1;\n",
              "}\n",
              "\n",
              ".xr-var-dims {\n",
              "  grid-column: 2;\n",
              "}\n",
              "\n",
              ".xr-var-dtype {\n",
              "  grid-column: 3;\n",
              "  text-align: right;\n",
              "  color: var(--xr-font-color2);\n",
              "}\n",
              "\n",
              ".xr-var-preview {\n",
              "  grid-column: 4;\n",
              "}\n",
              "\n",
              ".xr-var-name,\n",
              ".xr-var-dims,\n",
              ".xr-var-dtype,\n",
              ".xr-preview,\n",
              ".xr-attrs dt {\n",
              "  white-space: nowrap;\n",
              "  overflow: hidden;\n",
              "  text-overflow: ellipsis;\n",
              "  padding-right: 10px;\n",
              "}\n",
              "\n",
              ".xr-var-name:hover,\n",
              ".xr-var-dims:hover,\n",
              ".xr-var-dtype:hover,\n",
              ".xr-attrs dt:hover {\n",
              "  overflow: visible;\n",
              "  width: auto;\n",
              "  z-index: 1;\n",
              "}\n",
              "\n",
              ".xr-var-attrs,\n",
              ".xr-var-data {\n",
              "  display: none;\n",
              "  background-color: var(--xr-background-color) !important;\n",
              "  padding-bottom: 5px !important;\n",
              "}\n",
              "\n",
              ".xr-var-attrs-in:checked ~ .xr-var-attrs,\n",
              ".xr-var-data-in:checked ~ .xr-var-data {\n",
              "  display: block;\n",
              "}\n",
              "\n",
              ".xr-var-data > table {\n",
              "  float: right;\n",
              "}\n",
              "\n",
              ".xr-var-name span,\n",
              ".xr-var-data,\n",
              ".xr-attrs {\n",
              "  padding-left: 25px !important;\n",
              "}\n",
              "\n",
              ".xr-attrs,\n",
              ".xr-var-attrs,\n",
              ".xr-var-data {\n",
              "  grid-column: 1 / -1;\n",
              "}\n",
              "\n",
              "dl.xr-attrs {\n",
              "  padding: 0;\n",
              "  margin: 0;\n",
              "  display: grid;\n",
              "  grid-template-columns: 125px auto;\n",
              "}\n",
              "\n",
              ".xr-attrs dt,\n",
              ".xr-attrs dd {\n",
              "  padding: 0;\n",
              "  margin: 0;\n",
              "  float: left;\n",
              "  padding-right: 10px;\n",
              "  width: auto;\n",
              "}\n",
              "\n",
              ".xr-attrs dt {\n",
              "  font-weight: normal;\n",
              "  grid-column: 1;\n",
              "}\n",
              "\n",
              ".xr-attrs dt:hover span {\n",
              "  display: inline-block;\n",
              "  background: var(--xr-background-color);\n",
              "  padding-right: 10px;\n",
              "}\n",
              "\n",
              ".xr-attrs dd {\n",
              "  grid-column: 2;\n",
              "  white-space: pre-wrap;\n",
              "  word-break: break-all;\n",
              "}\n",
              "\n",
              ".xr-icon-database,\n",
              ".xr-icon-file-text2 {\n",
              "  display: inline-block;\n",
              "  vertical-align: middle;\n",
              "  width: 1em;\n",
              "  height: 1.5em !important;\n",
              "  stroke-width: 0;\n",
              "  stroke: currentColor;\n",
              "  fill: currentColor;\n",
              "}\n",
              "</style><pre class='xr-text-repr-fallback'>&lt;xarray.Dataset&gt;\n",
              "Dimensions:    (t: 60, z: 13, y: 11, x: 11, n: 5, ch: 3, fov: 1)\n",
              "Coordinates:\n",
              "  * t          (t) int32 0 1 2 3 4 5 6 7 8 9 ... 50 51 52 53 54 55 56 57 58 59\n",
              "  * z          (z) int32 0 500 1000 1500 2000 2500 ... 4000 4500 5000 5500 6000\n",
              "  * y          (y) int32 -5 -4 -3 -2 -1 0 1 2 3 4 5\n",
              "  * x          (x) int32 -5 -4 -3 -2 -1 0 1 2 3 4 5\n",
              "  * n          (n) int16 0 1 2 3 4\n",
              "  * ch         (ch) int32 0 1 2\n",
              "  * fov        (fov) int32 0\n",
              "Data variables:\n",
              "    int        (fov, n, t, z, y, x, ch) int32 ...\n",
              "    xc         (fov, n, t, ch) int32 313 313 313 307 307 307 310 ... 0 0 0 0 0 0\n",
              "    yc         (fov, n, t, ch) int32 332 332 332 331 331 331 331 ... 0 0 0 0 0 0\n",
              "    id         (fov, n, t) float64 0.0 0.0 0.0 0.0 0.0 ... 0.0 0.0 0.0 0.0 0.0\n",
              "    signal_tp  (fov, n, t) float64 1.711e+05 1.746e+05 1.676e+05 ... 0.0 0.0 0.0\n",
              "    dx         int32 1\n",
              "    dy         int32 1\n",
              "    dz         int32 500\n",
              "    dt         int32 1\n",
              "    xy_pad     int32 5\n",
              "Attributes:\n",
              "    name:     \\\\129.82.125.210\\TSnas2\\galindo\\1_Imaging_Data\\20220314_Cry2Oli...\n",
              "    date:     video_date</pre><div class='xr-wrap' hidden><div class='xr-header'><div class='xr-obj-type'>xarray.Dataset</div></div><ul class='xr-sections'><li class='xr-section-item'><input id='section-2b026f4b-6536-4808-9c6a-20f663f99c6b' class='xr-section-summary-in' type='checkbox' disabled ><label for='section-2b026f4b-6536-4808-9c6a-20f663f99c6b' class='xr-section-summary'  title='Expand/collapse section'>Dimensions:</label><div class='xr-section-inline-details'><ul class='xr-dim-list'><li><span class='xr-has-index'>t</span>: 60</li><li><span class='xr-has-index'>z</span>: 13</li><li><span class='xr-has-index'>y</span>: 11</li><li><span class='xr-has-index'>x</span>: 11</li><li><span class='xr-has-index'>n</span>: 5</li><li><span class='xr-has-index'>ch</span>: 3</li><li><span class='xr-has-index'>fov</span>: 1</li></ul></div><div class='xr-section-details'></div></li><li class='xr-section-item'><input id='section-0dadb4aa-8013-4e1c-acab-a1c53496a6a3' class='xr-section-summary-in' type='checkbox'  checked><label for='section-0dadb4aa-8013-4e1c-acab-a1c53496a6a3' class='xr-section-summary' >Coordinates: <span>(7)</span></label><div class='xr-section-inline-details'></div><div class='xr-section-details'><ul class='xr-var-list'><li class='xr-var-item'><div class='xr-var-name'><span class='xr-has-index'>t</span></div><div class='xr-var-dims'>(t)</div><div class='xr-var-dtype'>int32</div><div class='xr-var-preview xr-preview'>0 1 2 3 4 5 6 ... 54 55 56 57 58 59</div><input id='attrs-8d57fa95-4175-4959-aeae-6c3e4c04a23e' class='xr-var-attrs-in' type='checkbox' ><label for='attrs-8d57fa95-4175-4959-aeae-6c3e4c04a23e' title='Show/Hide attributes'><svg class='icon xr-icon-file-text2'><use xlink:href='#icon-file-text2'></use></svg></label><input id='data-83665aae-292e-432f-b592-8b2a487061fe' class='xr-var-data-in' type='checkbox'><label for='data-83665aae-292e-432f-b592-8b2a487061fe' title='Show/Hide data repr'><svg class='icon xr-icon-database'><use xlink:href='#icon-database'></use></svg></label><div class='xr-var-attrs'><dl class='xr-attrs'><dt><span>units :</span></dt><dd>min</dd><dt><span>long_name :</span></dt><dd>time</dd></dl></div><div class='xr-var-data'><pre>array([ 0,  1,  2,  3,  4,  5,  6,  7,  8,  9, 10, 11, 12, 13, 14, 15, 16, 17,\n",
              "       18, 19, 20, 21, 22, 23, 24, 25, 26, 27, 28, 29, 30, 31, 32, 33, 34, 35,\n",
              "       36, 37, 38, 39, 40, 41, 42, 43, 44, 45, 46, 47, 48, 49, 50, 51, 52, 53,\n",
              "       54, 55, 56, 57, 58, 59])</pre></div></li><li class='xr-var-item'><div class='xr-var-name'><span class='xr-has-index'>z</span></div><div class='xr-var-dims'>(z)</div><div class='xr-var-dtype'>int32</div><div class='xr-var-preview xr-preview'>0 500 1000 1500 ... 5000 5500 6000</div><input id='attrs-3311f808-5744-40e7-a387-4b121a62a228' class='xr-var-attrs-in' type='checkbox' ><label for='attrs-3311f808-5744-40e7-a387-4b121a62a228' title='Show/Hide attributes'><svg class='icon xr-icon-file-text2'><use xlink:href='#icon-file-text2'></use></svg></label><input id='data-c089afc3-ef90-4e92-b198-f799ad7772fb' class='xr-var-data-in' type='checkbox'><label for='data-c089afc3-ef90-4e92-b198-f799ad7772fb' title='Show/Hide data repr'><svg class='icon xr-icon-database'><use xlink:href='#icon-database'></use></svg></label><div class='xr-var-attrs'><dl class='xr-attrs'><dt><span>units :</span></dt><dd>nm</dd><dt><span>long_name :</span></dt><dd>axial z-distance</dd></dl></div><div class='xr-var-data'><pre>array([   0,  500, 1000, 1500, 2000, 2500, 3000, 3500, 4000, 4500, 5000, 5500,\n",
              "       6000])</pre></div></li><li class='xr-var-item'><div class='xr-var-name'><span class='xr-has-index'>y</span></div><div class='xr-var-dims'>(y)</div><div class='xr-var-dtype'>int32</div><div class='xr-var-preview xr-preview'>-5 -4 -3 -2 -1 0 1 2 3 4 5</div><input id='attrs-285948ef-2c99-4761-8b82-4bcf9d694604' class='xr-var-attrs-in' type='checkbox' ><label for='attrs-285948ef-2c99-4761-8b82-4bcf9d694604' title='Show/Hide attributes'><svg class='icon xr-icon-file-text2'><use xlink:href='#icon-file-text2'></use></svg></label><input id='data-7dfc7c5c-0814-42a0-8325-80dc4054db8b' class='xr-var-data-in' type='checkbox'><label for='data-7dfc7c5c-0814-42a0-8325-80dc4054db8b' title='Show/Hide data repr'><svg class='icon xr-icon-database'><use xlink:href='#icon-database'></use></svg></label><div class='xr-var-attrs'><dl class='xr-attrs'><dt><span>units :</span></dt><dd>nm</dd><dt><span>long_name :</span></dt><dd>radial y-distance</dd></dl></div><div class='xr-var-data'><pre>array([-5, -4, -3, -2, -1,  0,  1,  2,  3,  4,  5])</pre></div></li><li class='xr-var-item'><div class='xr-var-name'><span class='xr-has-index'>x</span></div><div class='xr-var-dims'>(x)</div><div class='xr-var-dtype'>int32</div><div class='xr-var-preview xr-preview'>-5 -4 -3 -2 -1 0 1 2 3 4 5</div><input id='attrs-3236d3fc-1b29-4af2-9808-20c049d708f9' class='xr-var-attrs-in' type='checkbox' ><label for='attrs-3236d3fc-1b29-4af2-9808-20c049d708f9' title='Show/Hide attributes'><svg class='icon xr-icon-file-text2'><use xlink:href='#icon-file-text2'></use></svg></label><input id='data-32a95b86-e1e7-4a7a-81d1-e87ac7164949' class='xr-var-data-in' type='checkbox'><label for='data-32a95b86-e1e7-4a7a-81d1-e87ac7164949' title='Show/Hide data repr'><svg class='icon xr-icon-database'><use xlink:href='#icon-database'></use></svg></label><div class='xr-var-attrs'><dl class='xr-attrs'><dt><span>units :</span></dt><dd>nm</dd><dt><span>long_name :</span></dt><dd>radial x-distance</dd></dl></div><div class='xr-var-data'><pre>array([-5, -4, -3, -2, -1,  0,  1,  2,  3,  4,  5])</pre></div></li><li class='xr-var-item'><div class='xr-var-name'><span class='xr-has-index'>n</span></div><div class='xr-var-dims'>(n)</div><div class='xr-var-dtype'>int16</div><div class='xr-var-preview xr-preview'>0 1 2 3 4</div><input id='attrs-00877a87-efdc-4047-9650-575e0f1841f8' class='xr-var-attrs-in' type='checkbox' ><label for='attrs-00877a87-efdc-4047-9650-575e0f1841f8' title='Show/Hide attributes'><svg class='icon xr-icon-file-text2'><use xlink:href='#icon-file-text2'></use></svg></label><input id='data-46c2767e-560c-48c5-af08-d4f474b9db6c' class='xr-var-data-in' type='checkbox'><label for='data-46c2767e-560c-48c5-af08-d4f474b9db6c' title='Show/Hide data repr'><svg class='icon xr-icon-database'><use xlink:href='#icon-database'></use></svg></label><div class='xr-var-attrs'><dl class='xr-attrs'><dt><span>long_name :</span></dt><dd>crop count</dd></dl></div><div class='xr-var-data'><pre>array([0, 1, 2, 3, 4], dtype=int16)</pre></div></li><li class='xr-var-item'><div class='xr-var-name'><span class='xr-has-index'>ch</span></div><div class='xr-var-dims'>(ch)</div><div class='xr-var-dtype'>int32</div><div class='xr-var-preview xr-preview'>0 1 2</div><input id='attrs-ffde4a64-8c53-47d2-8ad5-f8b72c9b3396' class='xr-var-attrs-in' type='checkbox' disabled><label for='attrs-ffde4a64-8c53-47d2-8ad5-f8b72c9b3396' title='Show/Hide attributes'><svg class='icon xr-icon-file-text2'><use xlink:href='#icon-file-text2'></use></svg></label><input id='data-0f0092ee-6673-4617-a793-89892b574a7b' class='xr-var-data-in' type='checkbox'><label for='data-0f0092ee-6673-4617-a793-89892b574a7b' title='Show/Hide data repr'><svg class='icon xr-icon-database'><use xlink:href='#icon-database'></use></svg></label><div class='xr-var-attrs'><dl class='xr-attrs'></dl></div><div class='xr-var-data'><pre>array([0, 1, 2])</pre></div></li><li class='xr-var-item'><div class='xr-var-name'><span class='xr-has-index'>fov</span></div><div class='xr-var-dims'>(fov)</div><div class='xr-var-dtype'>int32</div><div class='xr-var-preview xr-preview'>0</div><input id='attrs-58b4f68a-ce78-435c-b9ae-f22a0706b246' class='xr-var-attrs-in' type='checkbox' disabled><label for='attrs-58b4f68a-ce78-435c-b9ae-f22a0706b246' title='Show/Hide attributes'><svg class='icon xr-icon-file-text2'><use xlink:href='#icon-file-text2'></use></svg></label><input id='data-8a819a97-c539-40ff-a399-32440a794aa4' class='xr-var-data-in' type='checkbox'><label for='data-8a819a97-c539-40ff-a399-32440a794aa4' title='Show/Hide data repr'><svg class='icon xr-icon-database'><use xlink:href='#icon-database'></use></svg></label><div class='xr-var-attrs'><dl class='xr-attrs'></dl></div><div class='xr-var-data'><pre>array([0])</pre></div></li></ul></div></li><li class='xr-section-item'><input id='section-1560cdb6-e0d7-4807-8d67-b9d3e5e9f0c5' class='xr-section-summary-in' type='checkbox'  checked><label for='section-1560cdb6-e0d7-4807-8d67-b9d3e5e9f0c5' class='xr-section-summary' >Data variables: <span>(10)</span></label><div class='xr-section-inline-details'></div><div class='xr-section-details'><ul class='xr-var-list'><li class='xr-var-item'><div class='xr-var-name'><span>int</span></div><div class='xr-var-dims'>(fov, n, t, z, y, x, ch)</div><div class='xr-var-dtype'>int32</div><div class='xr-var-preview xr-preview'>...</div><input id='attrs-b0b4a541-061f-4d60-b3ed-1339f6cdf2ca' class='xr-var-attrs-in' type='checkbox' ><label for='attrs-b0b4a541-061f-4d60-b3ed-1339f6cdf2ca' title='Show/Hide attributes'><svg class='icon xr-icon-file-text2'><use xlink:href='#icon-file-text2'></use></svg></label><input id='data-f3eaa7bc-3250-45da-aab6-81adbe805f0f' class='xr-var-data-in' type='checkbox'><label for='data-f3eaa7bc-3250-45da-aab6-81adbe805f0f' title='Show/Hide data repr'><svg class='icon xr-icon-database'><use xlink:href='#icon-database'></use></svg></label><div class='xr-var-attrs'><dl class='xr-attrs'><dt><span>units :</span></dt><dd>intensity (a.u.)</dd><dt><span>long_name :</span></dt><dd>intensity</dd></dl></div><div class='xr-var-data'><pre>[1415700 values with dtype=int32]</pre></div></li><li class='xr-var-item'><div class='xr-var-name'><span>xc</span></div><div class='xr-var-dims'>(fov, n, t, ch)</div><div class='xr-var-dtype'>int32</div><div class='xr-var-preview xr-preview'>...</div><input id='attrs-0b017fa9-266c-4679-88ec-515ad6147e65' class='xr-var-attrs-in' type='checkbox' ><label for='attrs-0b017fa9-266c-4679-88ec-515ad6147e65' title='Show/Hide attributes'><svg class='icon xr-icon-file-text2'><use xlink:href='#icon-file-text2'></use></svg></label><input id='data-2d154bb7-841e-462c-81a7-c13e6ed5db95' class='xr-var-data-in' type='checkbox'><label for='data-2d154bb7-841e-462c-81a7-c13e6ed5db95' title='Show/Hide data repr'><svg class='icon xr-icon-database'><use xlink:href='#icon-database'></use></svg></label><div class='xr-var-attrs'><dl class='xr-attrs'><dt><span>units :</span></dt><dd>pixels</dd><dt><span>long_name :</span></dt><dd>crop center x</dd></dl></div><div class='xr-var-data'><pre>array([[[[313, ..., 313],\n",
              "         ...,\n",
              "         [  0, ...,   0]],\n",
              "\n",
              "        ...,\n",
              "\n",
              "        [[378, ..., 378],\n",
              "         ...,\n",
              "         [  0, ...,   0]]]])</pre></div></li><li class='xr-var-item'><div class='xr-var-name'><span>yc</span></div><div class='xr-var-dims'>(fov, n, t, ch)</div><div class='xr-var-dtype'>int32</div><div class='xr-var-preview xr-preview'>...</div><input id='attrs-94d6c29e-7261-4b84-841d-eb3fbe322ec7' class='xr-var-attrs-in' type='checkbox' ><label for='attrs-94d6c29e-7261-4b84-841d-eb3fbe322ec7' title='Show/Hide attributes'><svg class='icon xr-icon-file-text2'><use xlink:href='#icon-file-text2'></use></svg></label><input id='data-92951cad-6e63-44c8-a31d-9615d9d20fb0' class='xr-var-data-in' type='checkbox'><label for='data-92951cad-6e63-44c8-a31d-9615d9d20fb0' title='Show/Hide data repr'><svg class='icon xr-icon-database'><use xlink:href='#icon-database'></use></svg></label><div class='xr-var-attrs'><dl class='xr-attrs'><dt><span>units :</span></dt><dd>pixels</dd><dt><span>long_name :</span></dt><dd>crop center y</dd></dl></div><div class='xr-var-data'><pre>array([[[[332, ..., 332],\n",
              "         ...,\n",
              "         [  0, ...,   0]],\n",
              "\n",
              "        ...,\n",
              "\n",
              "        [[196, ..., 196],\n",
              "         ...,\n",
              "         [  0, ...,   0]]]])</pre></div></li><li class='xr-var-item'><div class='xr-var-name'><span>id</span></div><div class='xr-var-dims'>(fov, n, t)</div><div class='xr-var-dtype'>float64</div><div class='xr-var-preview xr-preview'>...</div><input id='attrs-e3925b43-8a7a-488f-a066-eb887fbbbe83' class='xr-var-attrs-in' type='checkbox' disabled><label for='attrs-e3925b43-8a7a-488f-a066-eb887fbbbe83' title='Show/Hide attributes'><svg class='icon xr-icon-file-text2'><use xlink:href='#icon-file-text2'></use></svg></label><input id='data-cc5ae9e6-5e90-4cdf-93c0-fff46aaa579c' class='xr-var-data-in' type='checkbox'><label for='data-cc5ae9e6-5e90-4cdf-93c0-fff46aaa579c' title='Show/Hide data repr'><svg class='icon xr-icon-database'><use xlink:href='#icon-database'></use></svg></label><div class='xr-var-attrs'><dl class='xr-attrs'></dl></div><div class='xr-var-data'><pre>array([[[ 0.,  0., ...,  0.,  0.],\n",
              "        [ 3.,  3., ...,  0.,  0.],\n",
              "        ...,\n",
              "        [31., 31., ...,  0.,  0.],\n",
              "        [32., 32., ...,  0.,  0.]]])</pre></div></li><li class='xr-var-item'><div class='xr-var-name'><span>signal_tp</span></div><div class='xr-var-dims'>(fov, n, t)</div><div class='xr-var-dtype'>float64</div><div class='xr-var-preview xr-preview'>...</div><input id='attrs-82feceba-f867-4793-91c3-8bb1bc5c7307' class='xr-var-attrs-in' type='checkbox' disabled><label for='attrs-82feceba-f867-4793-91c3-8bb1bc5c7307' title='Show/Hide attributes'><svg class='icon xr-icon-file-text2'><use xlink:href='#icon-file-text2'></use></svg></label><input id='data-52c46420-3fbe-4348-ad5e-a0246d84ec46' class='xr-var-data-in' type='checkbox'><label for='data-52c46420-3fbe-4348-ad5e-a0246d84ec46' title='Show/Hide data repr'><svg class='icon xr-icon-database'><use xlink:href='#icon-database'></use></svg></label><div class='xr-var-attrs'><dl class='xr-attrs'></dl></div><div class='xr-var-data'><pre>array([[[171061., 174567., ...,      0.,      0.],\n",
              "        [102111., 104355., ...,      0.,      0.],\n",
              "        ...,\n",
              "        [116066., 140207., ...,      0.,      0.],\n",
              "        [161655., 143659., ...,      0.,      0.]]])</pre></div></li><li class='xr-var-item'><div class='xr-var-name'><span>dx</span></div><div class='xr-var-dims'>()</div><div class='xr-var-dtype'>int32</div><div class='xr-var-preview xr-preview'>...</div><input id='attrs-0315d1e0-1421-4a33-8be4-d2b3c8eb09f0' class='xr-var-attrs-in' type='checkbox' ><label for='attrs-0315d1e0-1421-4a33-8be4-d2b3c8eb09f0' title='Show/Hide attributes'><svg class='icon xr-icon-file-text2'><use xlink:href='#icon-file-text2'></use></svg></label><input id='data-d768fd35-117a-492e-be29-2a7358939522' class='xr-var-data-in' type='checkbox'><label for='data-d768fd35-117a-492e-be29-2a7358939522' title='Show/Hide data repr'><svg class='icon xr-icon-database'><use xlink:href='#icon-database'></use></svg></label><div class='xr-var-attrs'><dl class='xr-attrs'><dt><span>units :</span></dt><dd>nm</dd><dt><span>long_name :</span></dt><dd>x-resolution</dd></dl></div><div class='xr-var-data'><pre>array(1)</pre></div></li><li class='xr-var-item'><div class='xr-var-name'><span>dy</span></div><div class='xr-var-dims'>()</div><div class='xr-var-dtype'>int32</div><div class='xr-var-preview xr-preview'>...</div><input id='attrs-092461fd-345f-45c4-bb94-fa4eb5233396' class='xr-var-attrs-in' type='checkbox' ><label for='attrs-092461fd-345f-45c4-bb94-fa4eb5233396' title='Show/Hide attributes'><svg class='icon xr-icon-file-text2'><use xlink:href='#icon-file-text2'></use></svg></label><input id='data-a6a8d5b7-b193-4c0d-8365-647b1a281fd5' class='xr-var-data-in' type='checkbox'><label for='data-a6a8d5b7-b193-4c0d-8365-647b1a281fd5' title='Show/Hide data repr'><svg class='icon xr-icon-database'><use xlink:href='#icon-database'></use></svg></label><div class='xr-var-attrs'><dl class='xr-attrs'><dt><span>units :</span></dt><dd>nm</dd><dt><span>long_name :</span></dt><dd>y-resolution</dd></dl></div><div class='xr-var-data'><pre>array(1)</pre></div></li><li class='xr-var-item'><div class='xr-var-name'><span>dz</span></div><div class='xr-var-dims'>()</div><div class='xr-var-dtype'>int32</div><div class='xr-var-preview xr-preview'>...</div><input id='attrs-72b75de3-c62f-4080-93cf-065daf885a8e' class='xr-var-attrs-in' type='checkbox' ><label for='attrs-72b75de3-c62f-4080-93cf-065daf885a8e' title='Show/Hide attributes'><svg class='icon xr-icon-file-text2'><use xlink:href='#icon-file-text2'></use></svg></label><input id='data-6fc730b2-5618-4264-87f6-2b5aaab88105' class='xr-var-data-in' type='checkbox'><label for='data-6fc730b2-5618-4264-87f6-2b5aaab88105' title='Show/Hide data repr'><svg class='icon xr-icon-database'><use xlink:href='#icon-database'></use></svg></label><div class='xr-var-attrs'><dl class='xr-attrs'><dt><span>units :</span></dt><dd>nm</dd><dt><span>long_name :</span></dt><dd>z-resolution</dd></dl></div><div class='xr-var-data'><pre>array(500)</pre></div></li><li class='xr-var-item'><div class='xr-var-name'><span>dt</span></div><div class='xr-var-dims'>()</div><div class='xr-var-dtype'>int32</div><div class='xr-var-preview xr-preview'>...</div><input id='attrs-d7537d6b-999f-41fd-811e-8f3b5507458a' class='xr-var-attrs-in' type='checkbox' ><label for='attrs-d7537d6b-999f-41fd-811e-8f3b5507458a' title='Show/Hide attributes'><svg class='icon xr-icon-file-text2'><use xlink:href='#icon-file-text2'></use></svg></label><input id='data-3d657811-2e11-4e90-b3ca-8d4630dca12f' class='xr-var-data-in' type='checkbox'><label for='data-3d657811-2e11-4e90-b3ca-8d4630dca12f' title='Show/Hide data repr'><svg class='icon xr-icon-database'><use xlink:href='#icon-database'></use></svg></label><div class='xr-var-attrs'><dl class='xr-attrs'><dt><span>units :</span></dt><dd>min</dd><dt><span>long_name :</span></dt><dd>temporal resolution</dd></dl></div><div class='xr-var-data'><pre>array(1)</pre></div></li><li class='xr-var-item'><div class='xr-var-name'><span>xy_pad</span></div><div class='xr-var-dims'>()</div><div class='xr-var-dtype'>int32</div><div class='xr-var-preview xr-preview'>...</div><input id='attrs-4663e035-1ea5-44ac-8900-c86d1092d6e4' class='xr-var-attrs-in' type='checkbox' ><label for='attrs-4663e035-1ea5-44ac-8900-c86d1092d6e4' title='Show/Hide attributes'><svg class='icon xr-icon-file-text2'><use xlink:href='#icon-file-text2'></use></svg></label><input id='data-07f76753-3778-4304-80fd-81525cc35bee' class='xr-var-data-in' type='checkbox'><label for='data-07f76753-3778-4304-80fd-81525cc35bee' title='Show/Hide data repr'><svg class='icon xr-icon-database'><use xlink:href='#icon-database'></use></svg></label><div class='xr-var-attrs'><dl class='xr-attrs'><dt><span>units :</span></dt><dd>pixels</dd></dl></div><div class='xr-var-data'><pre>array(5)</pre></div></li></ul></div></li><li class='xr-section-item'><input id='section-b6b06bbc-251c-45cf-95a2-3f2be476ebfd' class='xr-section-summary-in' type='checkbox'  checked><label for='section-b6b06bbc-251c-45cf-95a2-3f2be476ebfd' class='xr-section-summary' >Attributes: <span>(2)</span></label><div class='xr-section-inline-details'></div><div class='xr-section-details'><dl class='xr-attrs'><dt><span>name :</span></dt><dd>\\\\129.82.125.210\\TSnas2\\galindo\\1_Imaging_Data\\20220314_Cry2OligoDark_translation\\60TP_1mINT_puro\\Tracks\\Cell03.tif</dd><dt><span>date :</span></dt><dd>video_date</dd></dl></div></li></ul></div></div>"
            ],
            "text/plain": [
              "<xarray.Dataset>\n",
              "Dimensions:    (t: 60, z: 13, y: 11, x: 11, n: 5, ch: 3, fov: 1)\n",
              "Coordinates:\n",
              "  * t          (t) int32 0 1 2 3 4 5 6 7 8 9 ... 50 51 52 53 54 55 56 57 58 59\n",
              "  * z          (z) int32 0 500 1000 1500 2000 2500 ... 4000 4500 5000 5500 6000\n",
              "  * y          (y) int32 -5 -4 -3 -2 -1 0 1 2 3 4 5\n",
              "  * x          (x) int32 -5 -4 -3 -2 -1 0 1 2 3 4 5\n",
              "  * n          (n) int16 0 1 2 3 4\n",
              "  * ch         (ch) int32 0 1 2\n",
              "  * fov        (fov) int32 0\n",
              "Data variables:\n",
              "    int        (fov, n, t, z, y, x, ch) int32 ...\n",
              "    xc         (fov, n, t, ch) int32 ...\n",
              "    yc         (fov, n, t, ch) int32 ...\n",
              "    id         (fov, n, t) float64 ...\n",
              "    signal_tp  (fov, n, t) float64 ...\n",
              "    dx         int32 ...\n",
              "    dy         int32 ...\n",
              "    dz         int32 ...\n",
              "    dt         int32 ...\n",
              "    xy_pad     int32 ...\n",
              "Attributes:\n",
              "    name:     \\\\129.82.125.210\\TSnas2\\galindo\\1_Imaging_Data\\20220314_Cry2Oli...\n",
              "    date:     video_date"
            ]
          },
          "execution_count": 736,
          "metadata": {},
          "output_type": "execute_result"
        }
      ],
      "source": [
        "# If you already ran this and just want to view tracks again, load this:\n",
        "my_output_dir = r'\\\\129.82.125.210\\TSnas2\\galindo\\1_Imaging_Data\\20220314_Cry2OligoDark_translation\\60TP_1mINT_puro\\Tracks'\n",
        "my_filename = r'Tracks_Cell03.nc'\n",
        "img_4D_filename = 'Cell03.tif'\n",
        "dir = r'\\\\129.82.125.210\\TSnas2\\galindo\\1_Imaging_Data\\20220314_Cry2OligoDark_translation\\60TP_1mINT_puro'\n",
        "img_4D =  imread(os.path.join(dir,img_4D_filename))\n",
        "f_all = pd.read_csv(os.path.join(my_output_dir,'Spots_Cell03.csv'))\n",
        "my_ca=xr.open_dataset(os.path.join(my_output_dir,my_filename))\n",
        "my_ca"
      ]
    },
    {
      "cell_type": "code",
      "execution_count": null,
      "metadata": {
        "id": "TgsXo-ETIz-3",
        "outputId": "c27b5ebd-7ab2-4870-ed74-13e6666b27d1"
      },
      "outputs": [
        {
          "ename": "KeyError",
          "evalue": "'frame'",
          "output_type": "error",
          "traceback": [
            "\u001b[1;31m---------------------------------------------------------------------------\u001b[0m",
            "\u001b[1;31mKeyError\u001b[0m                                  Traceback (most recent call last)",
            "\u001b[1;32m~\\anaconda3\\lib\\site-packages\\pandas\\core\\indexes\\base.py\u001b[0m in \u001b[0;36mget_loc\u001b[1;34m(self, key, method, tolerance)\u001b[0m\n\u001b[0;32m   3360\u001b[0m             \u001b[1;32mtry\u001b[0m\u001b[1;33m:\u001b[0m\u001b[1;33m\u001b[0m\u001b[1;33m\u001b[0m\u001b[0m\n\u001b[1;32m-> 3361\u001b[1;33m                 \u001b[1;32mreturn\u001b[0m \u001b[0mself\u001b[0m\u001b[1;33m.\u001b[0m\u001b[0m_engine\u001b[0m\u001b[1;33m.\u001b[0m\u001b[0mget_loc\u001b[0m\u001b[1;33m(\u001b[0m\u001b[0mcasted_key\u001b[0m\u001b[1;33m)\u001b[0m\u001b[1;33m\u001b[0m\u001b[1;33m\u001b[0m\u001b[0m\n\u001b[0m\u001b[0;32m   3362\u001b[0m             \u001b[1;32mexcept\u001b[0m \u001b[0mKeyError\u001b[0m \u001b[1;32mas\u001b[0m \u001b[0merr\u001b[0m\u001b[1;33m:\u001b[0m\u001b[1;33m\u001b[0m\u001b[1;33m\u001b[0m\u001b[0m\n",
            "\u001b[1;32m~\\anaconda3\\lib\\site-packages\\pandas\\_libs\\index.pyx\u001b[0m in \u001b[0;36mpandas._libs.index.IndexEngine.get_loc\u001b[1;34m()\u001b[0m\n",
            "\u001b[1;32m~\\anaconda3\\lib\\site-packages\\pandas\\_libs\\index.pyx\u001b[0m in \u001b[0;36mpandas._libs.index.IndexEngine.get_loc\u001b[1;34m()\u001b[0m\n",
            "\u001b[1;32mpandas\\_libs\\hashtable_class_helper.pxi\u001b[0m in \u001b[0;36mpandas._libs.hashtable.PyObjectHashTable.get_item\u001b[1;34m()\u001b[0m\n",
            "\u001b[1;32mpandas\\_libs\\hashtable_class_helper.pxi\u001b[0m in \u001b[0;36mpandas._libs.hashtable.PyObjectHashTable.get_item\u001b[1;34m()\u001b[0m\n",
            "\u001b[1;31mKeyError\u001b[0m: 'frame'",
            "\nThe above exception was the direct cause of the following exception:\n",
            "\u001b[1;31mKeyError\u001b[0m                                  Traceback (most recent call last)",
            "\u001b[1;32m<ipython-input-738-51581722f1e0>\u001b[0m in \u001b[0;36m<module>\u001b[1;34m\u001b[0m\n\u001b[0;32m      4\u001b[0m \u001b[0mtrack_skip_frames\u001b[0m \u001b[1;33m=\u001b[0m \u001b[1;36m3\u001b[0m\u001b[1;33m\u001b[0m\u001b[1;33m\u001b[0m\u001b[0m\n\u001b[0;32m      5\u001b[0m \u001b[0mmin_trajectory_length\u001b[0m \u001b[1;33m=\u001b[0m \u001b[1;36m10\u001b[0m\u001b[1;33m\u001b[0m\u001b[1;33m\u001b[0m\u001b[0m\n\u001b[1;32m----> 6\u001b[1;33m \u001b[0mt\u001b[0m \u001b[1;33m=\u001b[0m \u001b[0mtp\u001b[0m\u001b[1;33m.\u001b[0m\u001b[0mlink\u001b[0m\u001b[1;33m(\u001b[0m\u001b[0mf_all\u001b[0m\u001b[1;33m,\u001b[0m \u001b[0mmax_distance_movement\u001b[0m\u001b[1;33m,\u001b[0m \u001b[0mmemory\u001b[0m\u001b[1;33m=\u001b[0m\u001b[0mtrack_skip_frames\u001b[0m\u001b[1;33m)\u001b[0m\u001b[1;33m\u001b[0m\u001b[1;33m\u001b[0m\u001b[0m\n\u001b[0m\u001b[0;32m      7\u001b[0m \u001b[0mt1\u001b[0m \u001b[1;33m=\u001b[0m \u001b[0mtp\u001b[0m\u001b[1;33m.\u001b[0m\u001b[0mfilter_stubs\u001b[0m\u001b[1;33m(\u001b[0m\u001b[0mt\u001b[0m\u001b[1;33m,\u001b[0m \u001b[0mmin_trajectory_length\u001b[0m\u001b[1;33m)\u001b[0m\u001b[1;33m\u001b[0m\u001b[1;33m\u001b[0m\u001b[0m\n\u001b[0;32m      8\u001b[0m \u001b[0mt1\u001b[0m\u001b[1;33m[\u001b[0m\u001b[1;34m'particle'\u001b[0m\u001b[1;33m]\u001b[0m \u001b[1;33m=\u001b[0m \u001b[0mt1\u001b[0m\u001b[1;33m[\u001b[0m\u001b[1;34m'particle'\u001b[0m\u001b[1;33m]\u001b[0m\u001b[1;33m+\u001b[0m\u001b[1;36m1\u001b[0m \u001b[1;31m# VERY IMPORTANT NOT TO HAVE TRACK IDs WITH VALUES = 0 WHEN MAKING CROP ARRAYS AS ZERO IS DEFAULT EMPTY VALUE\u001b[0m\u001b[1;33m\u001b[0m\u001b[1;33m\u001b[0m\u001b[0m\n",
            "\u001b[1;32m~\\anaconda3\\lib\\site-packages\\trackpy\\linking\\linking.py\u001b[0m in \u001b[0;36mlink\u001b[1;34m(f, search_range, pos_columns, t_column, **kwargs)\u001b[0m\n\u001b[0;32m    179\u001b[0m     \u001b[0mf\u001b[0m \u001b[1;33m=\u001b[0m \u001b[0mf\u001b[0m\u001b[1;33m.\u001b[0m\u001b[0mcopy\u001b[0m\u001b[1;33m(\u001b[0m\u001b[1;33m)\u001b[0m\u001b[1;33m\u001b[0m\u001b[1;33m\u001b[0m\u001b[0m\n\u001b[0;32m    180\u001b[0m     \u001b[1;31m# coerce t_column to integer type\u001b[0m\u001b[1;33m\u001b[0m\u001b[1;33m\u001b[0m\u001b[1;33m\u001b[0m\u001b[0m\n\u001b[1;32m--> 181\u001b[1;33m     \u001b[1;32mif\u001b[0m \u001b[1;32mnot\u001b[0m \u001b[0mnp\u001b[0m\u001b[1;33m.\u001b[0m\u001b[0missubdtype\u001b[0m\u001b[1;33m(\u001b[0m\u001b[0mf\u001b[0m\u001b[1;33m[\u001b[0m\u001b[0mt_column\u001b[0m\u001b[1;33m]\u001b[0m\u001b[1;33m.\u001b[0m\u001b[0mdtype\u001b[0m\u001b[1;33m,\u001b[0m \u001b[0mnp\u001b[0m\u001b[1;33m.\u001b[0m\u001b[0minteger\u001b[0m\u001b[1;33m)\u001b[0m\u001b[1;33m:\u001b[0m\u001b[1;33m\u001b[0m\u001b[1;33m\u001b[0m\u001b[0m\n\u001b[0m\u001b[0;32m    182\u001b[0m         \u001b[0mf\u001b[0m\u001b[1;33m[\u001b[0m\u001b[0mt_column\u001b[0m\u001b[1;33m]\u001b[0m \u001b[1;33m=\u001b[0m \u001b[0mf\u001b[0m\u001b[1;33m[\u001b[0m\u001b[0mt_column\u001b[0m\u001b[1;33m]\u001b[0m\u001b[1;33m.\u001b[0m\u001b[0mastype\u001b[0m\u001b[1;33m(\u001b[0m\u001b[0mint\u001b[0m\u001b[1;33m)\u001b[0m\u001b[1;33m\u001b[0m\u001b[1;33m\u001b[0m\u001b[0m\n\u001b[0;32m    183\u001b[0m     \u001b[1;31m# sort on the t_column\u001b[0m\u001b[1;33m\u001b[0m\u001b[1;33m\u001b[0m\u001b[1;33m\u001b[0m\u001b[0m\n",
            "\u001b[1;32m~\\anaconda3\\lib\\site-packages\\pandas\\core\\frame.py\u001b[0m in \u001b[0;36m__getitem__\u001b[1;34m(self, key)\u001b[0m\n\u001b[0;32m   3456\u001b[0m             \u001b[1;32mif\u001b[0m \u001b[0mself\u001b[0m\u001b[1;33m.\u001b[0m\u001b[0mcolumns\u001b[0m\u001b[1;33m.\u001b[0m\u001b[0mnlevels\u001b[0m \u001b[1;33m>\u001b[0m \u001b[1;36m1\u001b[0m\u001b[1;33m:\u001b[0m\u001b[1;33m\u001b[0m\u001b[1;33m\u001b[0m\u001b[0m\n\u001b[0;32m   3457\u001b[0m                 \u001b[1;32mreturn\u001b[0m \u001b[0mself\u001b[0m\u001b[1;33m.\u001b[0m\u001b[0m_getitem_multilevel\u001b[0m\u001b[1;33m(\u001b[0m\u001b[0mkey\u001b[0m\u001b[1;33m)\u001b[0m\u001b[1;33m\u001b[0m\u001b[1;33m\u001b[0m\u001b[0m\n\u001b[1;32m-> 3458\u001b[1;33m             \u001b[0mindexer\u001b[0m \u001b[1;33m=\u001b[0m \u001b[0mself\u001b[0m\u001b[1;33m.\u001b[0m\u001b[0mcolumns\u001b[0m\u001b[1;33m.\u001b[0m\u001b[0mget_loc\u001b[0m\u001b[1;33m(\u001b[0m\u001b[0mkey\u001b[0m\u001b[1;33m)\u001b[0m\u001b[1;33m\u001b[0m\u001b[1;33m\u001b[0m\u001b[0m\n\u001b[0m\u001b[0;32m   3459\u001b[0m             \u001b[1;32mif\u001b[0m \u001b[0mis_integer\u001b[0m\u001b[1;33m(\u001b[0m\u001b[0mindexer\u001b[0m\u001b[1;33m)\u001b[0m\u001b[1;33m:\u001b[0m\u001b[1;33m\u001b[0m\u001b[1;33m\u001b[0m\u001b[0m\n\u001b[0;32m   3460\u001b[0m                 \u001b[0mindexer\u001b[0m \u001b[1;33m=\u001b[0m \u001b[1;33m[\u001b[0m\u001b[0mindexer\u001b[0m\u001b[1;33m]\u001b[0m\u001b[1;33m\u001b[0m\u001b[1;33m\u001b[0m\u001b[0m\n",
            "\u001b[1;32m~\\anaconda3\\lib\\site-packages\\pandas\\core\\indexes\\base.py\u001b[0m in \u001b[0;36mget_loc\u001b[1;34m(self, key, method, tolerance)\u001b[0m\n\u001b[0;32m   3361\u001b[0m                 \u001b[1;32mreturn\u001b[0m \u001b[0mself\u001b[0m\u001b[1;33m.\u001b[0m\u001b[0m_engine\u001b[0m\u001b[1;33m.\u001b[0m\u001b[0mget_loc\u001b[0m\u001b[1;33m(\u001b[0m\u001b[0mcasted_key\u001b[0m\u001b[1;33m)\u001b[0m\u001b[1;33m\u001b[0m\u001b[1;33m\u001b[0m\u001b[0m\n\u001b[0;32m   3362\u001b[0m             \u001b[1;32mexcept\u001b[0m \u001b[0mKeyError\u001b[0m \u001b[1;32mas\u001b[0m \u001b[0merr\u001b[0m\u001b[1;33m:\u001b[0m\u001b[1;33m\u001b[0m\u001b[1;33m\u001b[0m\u001b[0m\n\u001b[1;32m-> 3363\u001b[1;33m                 \u001b[1;32mraise\u001b[0m \u001b[0mKeyError\u001b[0m\u001b[1;33m(\u001b[0m\u001b[0mkey\u001b[0m\u001b[1;33m)\u001b[0m \u001b[1;32mfrom\u001b[0m \u001b[0merr\u001b[0m\u001b[1;33m\u001b[0m\u001b[1;33m\u001b[0m\u001b[0m\n\u001b[0m\u001b[0;32m   3364\u001b[0m \u001b[1;33m\u001b[0m\u001b[0m\n\u001b[0;32m   3365\u001b[0m         \u001b[1;32mif\u001b[0m \u001b[0mis_scalar\u001b[0m\u001b[1;33m(\u001b[0m\u001b[0mkey\u001b[0m\u001b[1;33m)\u001b[0m \u001b[1;32mand\u001b[0m \u001b[0misna\u001b[0m\u001b[1;33m(\u001b[0m\u001b[0mkey\u001b[0m\u001b[1;33m)\u001b[0m \u001b[1;32mand\u001b[0m \u001b[1;32mnot\u001b[0m \u001b[0mself\u001b[0m\u001b[1;33m.\u001b[0m\u001b[0mhasnans\u001b[0m\u001b[1;33m:\u001b[0m\u001b[1;33m\u001b[0m\u001b[1;33m\u001b[0m\u001b[0m\n",
            "\u001b[1;31mKeyError\u001b[0m: 'frame'"
          ]
        }
      ],
      "source": [
        "# # Note, if you actually wanted to track, you could use the following:\n",
        "# # link tracks\n",
        "max_distance_movement = 20\n",
        "track_skip_frames = 3\n",
        "min_trajectory_length = 10\n",
        "t = tp.link(f_all, max_distance_movement, memory=track_skip_frames)\n",
        "t1 = tp.filter_stubs(t, min_trajectory_length)\n",
        "t1['particle'] = t1['particle']+1 # VERY IMPORTANT NOT TO HAVE TRACK IDs WITH VALUES = 0 WHEN MAKING CROP ARRAYS AS ZERO IS DEFAULT EMPTY VALUE\n",
        "# Compare the number of particles in the unfiltered and filtered data.\n",
        "print('Before:', t['particle'].nunique())\n",
        "print('After:', t1['particle'].nunique()) \n",
        "t1"
      ]
    },
    {
      "cell_type": "code",
      "execution_count": null,
      "metadata": {
        "id": "fmWl1jqyIz-4",
        "outputId": "5f3d9f06-6b23-491e-9e64-fff16bc4e725"
      },
      "outputs": [
        {
          "ename": "ValueError",
          "evalue": "cannot rename 'columns' because it is not a variable or dimension in this dataset",
          "output_type": "error",
          "traceback": [
            "\u001b[1;31m---------------------------------------------------------------------------\u001b[0m",
            "\u001b[1;31mValueError\u001b[0m                                Traceback (most recent call last)",
            "\u001b[1;32m<ipython-input-740-6f2b4135ffcc>\u001b[0m in \u001b[0;36m<module>\u001b[1;34m\u001b[0m\n\u001b[0;32m      1\u001b[0m \u001b[1;31m# # only if you tracked:\u001b[0m\u001b[1;33m\u001b[0m\u001b[1;33m\u001b[0m\u001b[1;33m\u001b[0m\u001b[0m\n\u001b[0;32m      2\u001b[0m \u001b[0mspots\u001b[0m \u001b[1;33m=\u001b[0m \u001b[0mmy_ca\u001b[0m\u001b[1;33m.\u001b[0m\u001b[0mcopy\u001b[0m\u001b[1;33m(\u001b[0m\u001b[1;33m)\u001b[0m\u001b[1;33m\u001b[0m\u001b[1;33m\u001b[0m\u001b[0m\n\u001b[1;32m----> 3\u001b[1;33m spots.rename(columns={'x': 'xc','y': 'yc', 'frame': 'f','signal':'signal_tp','particle':'id'}, \n\u001b[0m\u001b[0;32m      4\u001b[0m inplace=True, errors='raise')\n\u001b[0;32m      5\u001b[0m \u001b[1;33m\u001b[0m\u001b[0m\n",
            "\u001b[1;32m~\\anaconda3\\lib\\site-packages\\xarray\\core\\dataset.py\u001b[0m in \u001b[0;36mrename\u001b[1;34m(self, name_dict, **names)\u001b[0m\n\u001b[0;32m   3386\u001b[0m         \u001b[1;32mfor\u001b[0m \u001b[0mk\u001b[0m \u001b[1;32min\u001b[0m \u001b[0mname_dict\u001b[0m\u001b[1;33m.\u001b[0m\u001b[0mkeys\u001b[0m\u001b[1;33m(\u001b[0m\u001b[1;33m)\u001b[0m\u001b[1;33m:\u001b[0m\u001b[1;33m\u001b[0m\u001b[1;33m\u001b[0m\u001b[0m\n\u001b[0;32m   3387\u001b[0m             \u001b[1;32mif\u001b[0m \u001b[0mk\u001b[0m \u001b[1;32mnot\u001b[0m \u001b[1;32min\u001b[0m \u001b[0mself\u001b[0m \u001b[1;32mand\u001b[0m \u001b[0mk\u001b[0m \u001b[1;32mnot\u001b[0m \u001b[1;32min\u001b[0m \u001b[0mself\u001b[0m\u001b[1;33m.\u001b[0m\u001b[0mdims\u001b[0m\u001b[1;33m:\u001b[0m\u001b[1;33m\u001b[0m\u001b[1;33m\u001b[0m\u001b[0m\n\u001b[1;32m-> 3388\u001b[1;33m                 raise ValueError(\n\u001b[0m\u001b[0;32m   3389\u001b[0m                     \u001b[1;34mf\"cannot rename {k!r} because it is not a \"\u001b[0m\u001b[1;33m\u001b[0m\u001b[1;33m\u001b[0m\u001b[0m\n\u001b[0;32m   3390\u001b[0m                     \u001b[1;34m\"variable or dimension in this dataset\"\u001b[0m\u001b[1;33m\u001b[0m\u001b[1;33m\u001b[0m\u001b[0m\n",
            "\u001b[1;31mValueError\u001b[0m: cannot rename 'columns' because it is not a variable or dimension in this dataset"
          ]
        }
      ],
      "source": [
        "# # only if you tracked:\n",
        "spots = my_ca.copy()\n",
        "spots.rename(columns={'x': 'xc','y': 'yc', 'frame': 'f','signal':'signal_tp','particle':'id'}, \n",
        "inplace=True, errors='raise')\n",
        "\n",
        "\n",
        "spots['fov']=0\n",
        "spots.rename(columns={'particle':'id'})\n",
        "spots = spots[['fov','id','f','yc','xc','signal_tp']] # keeping signal out of curiousity... want to compare to disk-donut measurements  \n",
        "spots"
      ]
    },
    {
      "cell_type": "code",
      "execution_count": null,
      "metadata": {
        "id": "wnSz3r8rIz-4",
        "outputId": "326b65cb-144e-4a20-f668-5e2d442ad2ec"
      },
      "outputs": [
        {
          "name": "stdout",
          "output_type": "stream",
          "text": [
            "Original video dimensions:  (1, 60, 13, 512, 512, 3)\n",
            "Padded video dimensions:  (1, 60, 13, 528, 528, 3)\n",
            "Max # of spots per frame:  16\n",
            "Shape of numpy array to hold all crop intensity data:  (1, 16, 60, 13, 15, 15, 3)\n",
            "Shape of xc and yc numpy arrays:  (1, 16, 60, 3)\n",
            "Shape of extra my_layers numpy array:  (2, 1, 16, 60)\n"
          ]
        },
        {
          "ename": "IndexError",
          "evalue": "index 60 is out of bounds for axis 3 with size 60",
          "output_type": "error",
          "traceback": [
            "\u001b[1;31m---------------------------------------------------------------------------\u001b[0m",
            "\u001b[1;31mIndexError\u001b[0m                                Traceback (most recent call last)",
            "\u001b[1;32m<ipython-input-737-cc9704147a92>\u001b[0m in \u001b[0;36m<module>\u001b[1;34m\u001b[0m\n\u001b[1;32m----> 1\u001b[1;33m \u001b[0mmy_ca2\u001b[0m \u001b[1;33m=\u001b[0m \u001b[0mca\u001b[0m\u001b[1;33m.\u001b[0m\u001b[0mcreate_crop_array\u001b[0m\u001b[1;33m(\u001b[0m\u001b[0mimg_croparray\u001b[0m\u001b[1;33m,\u001b[0m\u001b[0mspots\u001b[0m\u001b[1;33m,\u001b[0m\u001b[0mxy_pad\u001b[0m\u001b[1;33m=\u001b[0m\u001b[1;36m7\u001b[0m\u001b[1;33m,\u001b[0m \u001b[0mdxy\u001b[0m\u001b[1;33m=\u001b[0m\u001b[1;36m130\u001b[0m\u001b[1;33m,\u001b[0m \u001b[0mdz\u001b[0m\u001b[1;33m=\u001b[0m\u001b[1;36m500\u001b[0m\u001b[1;33m,\u001b[0m \u001b[0mdt\u001b[0m\u001b[1;33m=\u001b[0m\u001b[1;36m1\u001b[0m\u001b[1;33m,\u001b[0m \u001b[0munits\u001b[0m\u001b[1;33m=\u001b[0m\u001b[1;33m[\u001b[0m\u001b[1;34m'nm'\u001b[0m\u001b[1;33m,\u001b[0m\u001b[1;34m'min'\u001b[0m\u001b[1;33m]\u001b[0m\u001b[1;33m)\u001b[0m\u001b[1;33m\u001b[0m\u001b[1;33m\u001b[0m\u001b[0m\n\u001b[0m\u001b[0;32m      2\u001b[0m \u001b[0mmy_ca2\u001b[0m\u001b[1;33m\u001b[0m\u001b[1;33m\u001b[0m\u001b[0m\n",
            "\u001b[1;32m~\\Documents\\GitHub\\croparray\\croparray\\crop_array_tools.py\u001b[0m in \u001b[0;36mcreate_crop_array\u001b[1;34m(video, df, **kwargs)\u001b[0m\n\u001b[0;32m    154\u001b[0m             \u001b[1;32mfor\u001b[0m \u001b[0mcol\u001b[0m \u001b[1;32min\u001b[0m \u001b[0mmy_columns\u001b[0m\u001b[1;33m:\u001b[0m   \u001b[1;31m# these are the other columns besides 'n', 'f, and 'fov' in the\u001b[0m\u001b[1;33m\u001b[0m\u001b[1;33m\u001b[0m\u001b[0m\n\u001b[0;32m    155\u001b[0m                 \u001b[0mmy_vals\u001b[0m \u001b[1;33m=\u001b[0m \u001b[0mmy_spots\u001b[0m\u001b[1;33m[\u001b[0m\u001b[0mcol\u001b[0m\u001b[1;33m]\u001b[0m\u001b[1;33m.\u001b[0m\u001b[0mround\u001b[0m\u001b[1;33m(\u001b[0m\u001b[1;33m)\u001b[0m\u001b[1;33m.\u001b[0m\u001b[0mvalues\u001b[0m\u001b[1;33m.\u001b[0m\u001b[0mastype\u001b[0m\u001b[1;33m(\u001b[0m\u001b[0mint\u001b[0m\u001b[1;33m)\u001b[0m \u001b[1;31m# this preserves order in df, so same as my_ns above\u001b[0m\u001b[1;33m\u001b[0m\u001b[1;33m\u001b[0m\u001b[0m\n\u001b[1;32m--> 156\u001b[1;33m                 \u001b[0mmy_layers\u001b[0m\u001b[1;33m[\u001b[0m\u001b[0mcol_counter\u001b[0m\u001b[1;33m,\u001b[0m \u001b[0mmy_fov_ind\u001b[0m\u001b[1;33m,\u001b[0m \u001b[1;33m:\u001b[0m\u001b[0mlen\u001b[0m\u001b[1;33m(\u001b[0m\u001b[0mmy_vals\u001b[0m\u001b[1;33m)\u001b[0m\u001b[1;33m,\u001b[0m \u001b[0mmy_f\u001b[0m\u001b[1;33m]\u001b[0m \u001b[1;33m=\u001b[0m \u001b[0mmy_vals\u001b[0m\u001b[1;33m\u001b[0m\u001b[1;33m\u001b[0m\u001b[0m\n\u001b[0m\u001b[0;32m    157\u001b[0m                 \u001b[0mcol_counter\u001b[0m \u001b[1;33m=\u001b[0m \u001b[0mcol_counter\u001b[0m \u001b[1;33m+\u001b[0m \u001b[1;36m1\u001b[0m\u001b[1;33m\u001b[0m\u001b[1;33m\u001b[0m\u001b[0m\n\u001b[0;32m    158\u001b[0m             \u001b[1;31m# create temp arrays to hold (x, y) coords in all channels for all spots at my_fov and my_f\u001b[0m\u001b[1;33m\u001b[0m\u001b[1;33m\u001b[0m\u001b[1;33m\u001b[0m\u001b[0m\n",
            "\u001b[1;31mIndexError\u001b[0m: index 60 is out of bounds for axis 3 with size 60"
          ]
        }
      ],
      "source": [
        "my_ca2 = ca.create_crop_array(img_croparray,spots,xy_pad=7, dxy=130, dz=500, dt=1, units=['nm','min'])\n",
        "my_ca2"
      ]
    },
    {
      "cell_type": "code",
      "execution_count": null,
      "metadata": {
        "id": "lnXLxkO9Iz-4"
      },
      "outputs": [],
      "source": [
        "#my_ca2 = my_ca\n",
        "# Measure signals and plot average signal through time, creating 'best_z' layer and 'signal' layer\n",
        "ca.measure_signal(my_ca, ref_ch=1, disk_r=4, roll_n=3)"
      ]
    },
    {
      "cell_type": "code",
      "execution_count": null,
      "metadata": {
        "id": "v37OxNimIz-4"
      },
      "outputs": [],
      "source": [
        "import xarray as xr\n",
        "import pandas as pd\n",
        "# Since ids correspond to tracks, we can organize tracks in rows  \n",
        "my_ids = np.unique(my_ca.id) # Find all unique ids\n",
        "my_ids = my_ids[1:] # remove the '0' ID used as filler in Crop Arrays\n",
        "my_ids\n",
        "# Get a list of xarrays for each unique id \n",
        "my_das = []\n",
        "for i in np.arange(len(my_ids)):\n",
        "    temp = my_ca.groupby('id')[my_ids[i]].reset_index('stacked_fov_n_t').reset_coords('n',drop=True).reset_coords('fov',drop=True).swap_dims({'stacked_fov_n_t':'t'})\n",
        "    my_das.append(temp)\n",
        "    del temp\n",
        "# Concatenate the xarrays together to make a new xarray dataset in a track array format (each track on separate row). Here 'n' is replaced by 'tracks'\n",
        "my_taz = xr.concat(my_das, dim=pd.Index(my_ids, name='track_id'), fill_value=0) # fill_value=0 so keep int instead of moving to floats with NaNs\n",
        "my_taz = my_taz.transpose('track_id','fov','n','t','z','y','x','ch', missing_dims='ignore') # reorder for napari"
      ]
    },
    {
      "cell_type": "code",
      "execution_count": null,
      "metadata": {
        "id": "xKIw-wgbIz-4"
      },
      "outputs": [],
      "source": [
        ""
      ]
    },
    {
      "cell_type": "code",
      "execution_count": null,
      "metadata": {
        "id": "TNJi-NYYIz-4"
      },
      "outputs": [],
      "source": [
        "# view the action of montage showing an n x n crop_array through time\n",
        "viewer2 = napari.view_image(ca.montage(my_taz.sel(ch=1).best_z,row='track_id',col='t'),contrast_limits=[60,800])"
      ]
    },
    {
      "cell_type": "code",
      "execution_count": null,
      "metadata": {
        "id": "kc3oaFU8Iz-4"
      },
      "outputs": [],
      "source": [
        "viewer = napari.Viewer()"
      ]
    },
    {
      "cell_type": "code",
      "execution_count": null,
      "metadata": {
        "id": "JBc380wsIz-4",
        "outputId": "8fdb438d-ae2a-47e4-be94-7ca07dbf6bfd"
      },
      "outputs": [
        {
          "data": {
            "text/plain": [
              "<Points layer 'my_pts [4]' at 0x18f261c86a0>"
            ]
          },
          "execution_count": 753,
          "metadata": {},
          "output_type": "execute_result"
        }
      ],
      "source": [
        "pad = my_taz.xy_pad.values[0]\n",
        "my_id = 3\n",
        "my_xs = my_taz.isel(ch=1,track_id=my_id).xc.values\n",
        "my_ys= my_taz.isel(ch=1,track_id=my_id).yc.values\n",
        "my_ts= my_taz.isel(ch=1,track_id=my_id).t.values\n",
        "my_chs = [1 for i in np.arange(len(my_ts))]\n",
        "my_pts = np.transpose(np.array([my_ts,my_chs,my_ys-pad-.5,my_xs-pad-.5]))\n",
        "viewer.add_points(my_pts,size = 12, face_color='transparent', edge_color = 'yellow', symbol='disc')\n"
      ]
    },
    {
      "cell_type": "code",
      "execution_count": null,
      "metadata": {
        "id": "qroitEGKIz-5",
        "outputId": "a004a592-3596-4cb9-a985-fdbd10646875"
      },
      "outputs": [
        {
          "data": {
            "image/png": "[encoded data removed]",
            "text/plain": [
              "<Figure size 2016x216 with 3 Axes>"
            ]
          },
          "metadata": {},
          "output_type": "display_data"
        }
      ],
      "source": [
        "my_taz.isel(track_id=[3]).sel(t=slice(0,58),ch=1).signal.plot.line(x='t',col='track_id',col_wrap=3,aspect=3)\n",
        "plt.savefig(os.path.join(my_output_dir,'sampletracklineplot.svg'))"
      ]
    },
    {
      "cell_type": "code",
      "execution_count": null,
      "metadata": {
        "scrolled": true,
        "id": "4rXr87fPIz-5",
        "outputId": "1195876b-c409-4e33-d95f-3c9d3d211944"
      },
      "outputs": [
        {
          "data": {
            "image/png": "[encoded data removed]",
            "text/plain": [
              "<Figure size 1800x144 with 13 Axes>"
            ]
          },
          "metadata": {},
          "output_type": "display_data"
        }
      ],
      "source": [
        "plt.style.use('seaborn-whitegrid')\n",
        "mytrack = my_taz.isel(track_id=3,ch=1).best_z.rolling(t=5,min_periods=1).mean().sel(t=slice(0,58,5)).plot.imshow(col='t',col_wrap=12,cmap='gray',robust=True,xticks=[],yticks=[],size=2,sharex=True,sharey=True,vmin=0,vmax=1000)\n",
        "plt.savefig(os.path.join(my_output_dir,'sampletrackcrop.svg'))"
      ]
    }
  ],
  "metadata": {
    "kernelspec": {
      "display_name": "Python 3",
      "language": "python",
      "name": "python3"
    },
    "language_info": {
      "codemirror_mode": {
        "name": "ipython",
        "version": 3
      },
      "file_extension": ".py",
      "mimetype": "text/x-python",
      "name": "python",
      "nbconvert_exporter": "python",
      "pygments_lexer": "ipython3",
      "version": "3.8.8"
    },
    "colab": {
      "name": "DataAnalysis.ipynb",
      "provenance": [],
      "collapsed_sections": [
        "XWCUhPEjIz-w",
        "jqfOMegRIz-z",
        "ncgy3oZyIz-1",
        "Im74ErcfIz-1",
        "gjRR3KDQIz-3",
        "v93r_Tv9Iz-3"
      ],
      "include_colab_link": true
    }
  },
  "nbformat": 4,
  "nbformat_minor": 0
}